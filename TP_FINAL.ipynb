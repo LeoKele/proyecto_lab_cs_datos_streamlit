{
  "cells": [
    {
      "cell_type": "markdown",
      "metadata": {
        "id": "ZTnvSI2isker"
      },
      "source": [
        "<h1>🎓 Trabajo Integrador Final</h1>"
      ]
    },
    {
      "cell_type": "markdown",
      "metadata": {
        "id": "_gLVM9ggspl2"
      },
      "source": [
        "<h2>Integrantes</h2>\n",
        "<ul>\n",
        "  <li></li>\n",
        "  <li></li>\n",
        "  <li>Evers Juan Segundo</li>\n",
        "  <li>Kelechian Leonardo</li>\n",
        "</ul>"
      ]
    },
    {
      "cell_type": "markdown",
      "metadata": {
        "id": "7yFd-kOCsyfD"
      },
      "source": [
        "<h2>Introducción</h2>\n",
        "<p>[...]</p>"
      ]
    },
    {
      "cell_type": "markdown",
      "metadata": {
        "id": "Y0_UOr9vtD2j"
      },
      "source": [
        "<hr>"
      ]
    },
    {
      "cell_type": "markdown",
      "metadata": {
        "id": "8x9iOSaxtFww"
      },
      "source": [
        "<h3>Importamos las librerias que usaremos durante el proyecto</h3>"
      ]
    },
    {
      "cell_type": "code",
      "execution_count": null,
      "metadata": {
        "id": "7gbnSPQGt9h2"
      },
      "outputs": [],
      "source": [
        "# Conexión con Google Drive\n",
        "# from google.colab import drive\n",
        "# import os\n",
        "\n",
        "# Tratamiento de datos\n",
        "# ==============================================================================\n",
        "import pandas as pd\n",
        "import numpy as np\n",
        "\n",
        "# Gráficos\n",
        "# ==============================================================================\n",
        "import matplotlib.pyplot as plt\n",
        "import seaborn as sns\n",
        "\n",
        "# Análisis Estadísticos\n",
        "from scipy import stats\n",
        "\n",
        "# PreProcesado y modelado\n",
        "# ==============================================================================\n",
        "from sklearn.model_selection import train_test_split\n",
        "from sklearn.preprocessing import StandardScaler\n",
        "from sklearn.preprocessing import OneHotEncoder\n",
        "\n",
        "from sklearn.linear_model import LogisticRegression\n",
        "from sklearn.ensemble import HistGradientBoostingClassifier, RandomForestClassifier\n",
        "from sklearn.svm import SVC\n",
        "from xgboost import XGBClassifier\n",
        "from lightgbm import LGBMClassifier\n",
        "\n",
        "from sklearn.metrics import balanced_accuracy_score, f1_score, recall_score, precision_score, roc_auc_score, average_precision_score"
      ]
    },
    {
      "cell_type": "markdown",
      "metadata": {
        "id": "f0aqbE3ctPJA"
      },
      "source": [
        "<h3>Conectamos Google Drive y cargamos el dataset</h3>"
      ]
    },
    {
      "cell_type": "code",
      "execution_count": null,
      "metadata": {
        "colab": {
          "base_uri": "https://localhost:8080/"
        },
        "id": "RbmLQY4I5K6w",
        "outputId": "ba15ecfa-e0e1-4483-a6cc-cab975027f7e"
      },
      "outputs": [
        {
          "name": "stdout",
          "output_type": "stream",
          "text": [
            "Mounted at /content/drive\n"
          ]
        }
      ],
      "source": [
        "# drive.mount('/content/drive')"
      ]
    },
    {
      "cell_type": "code",
      "execution_count": 3,
      "metadata": {
        "id": "_kNiES9k5MTZ"
      },
      "outputs": [],
      "source": [
        "# elegir la carpeta donde estan las bases de datos:\n",
        "# ruta_base = \"/content/drive/MyDrive/\"\n",
        "# ruta_laboratorio = os.path.join(ruta_base, \"Laboratorio de Ciencia de Datos\")\n",
        "# ruta_bases_datos = os.path.join(ruta_laboratorio, \"Bases de Datos\")\n",
        "\n",
        "# # elegir la base de datos que quiero usar:\n",
        "# ruta_archivo = os.path.join(ruta_bases_datos, \"Grupo 3 - Abandono de Clientes.csv\")\n",
        "ruta_archivo = \"data/Grupo 3 - Abandono de Clientes.csv\""
      ]
    },
    {
      "cell_type": "code",
      "execution_count": 4,
      "metadata": {
        "colab": {
          "base_uri": "https://localhost:8080/",
          "height": 342
        },
        "id": "yZth1TEyelrL",
        "outputId": "cb627137-fb2f-4119-9664-f0ca4c7c55fd"
      },
      "outputs": [
        {
          "data": {
            "text/html": [
              "<div>\n",
              "<style scoped>\n",
              "    .dataframe tbody tr th:only-of-type {\n",
              "        vertical-align: middle;\n",
              "    }\n",
              "\n",
              "    .dataframe tbody tr th {\n",
              "        vertical-align: top;\n",
              "    }\n",
              "\n",
              "    .dataframe thead th {\n",
              "        text-align: right;\n",
              "    }\n",
              "</style>\n",
              "<table border=\"1\" class=\"dataframe\">\n",
              "  <thead>\n",
              "    <tr style=\"text-align: right;\">\n",
              "      <th></th>\n",
              "      <th>customerID</th>\n",
              "      <th>gender</th>\n",
              "      <th>SeniorCitizen</th>\n",
              "      <th>Partner</th>\n",
              "      <th>Dependents</th>\n",
              "      <th>tenure</th>\n",
              "      <th>PhoneService</th>\n",
              "      <th>MultipleLines</th>\n",
              "      <th>InternetService</th>\n",
              "      <th>OnlineSecurity</th>\n",
              "      <th>...</th>\n",
              "      <th>DeviceProtection</th>\n",
              "      <th>TechSupport</th>\n",
              "      <th>StreamingTV</th>\n",
              "      <th>StreamingMovies</th>\n",
              "      <th>Contract</th>\n",
              "      <th>PaperlessBilling</th>\n",
              "      <th>PaymentMethod</th>\n",
              "      <th>MonthlyCharges</th>\n",
              "      <th>TotalCharges</th>\n",
              "      <th>Churn</th>\n",
              "    </tr>\n",
              "  </thead>\n",
              "  <tbody>\n",
              "    <tr>\n",
              "      <th>0</th>\n",
              "      <td>7590-VHVEG</td>\n",
              "      <td>Female</td>\n",
              "      <td>0</td>\n",
              "      <td>Yes</td>\n",
              "      <td>No</td>\n",
              "      <td>1</td>\n",
              "      <td>No</td>\n",
              "      <td>No phone service</td>\n",
              "      <td>DSL</td>\n",
              "      <td>No</td>\n",
              "      <td>...</td>\n",
              "      <td>No</td>\n",
              "      <td>No</td>\n",
              "      <td>No</td>\n",
              "      <td>No</td>\n",
              "      <td>Month-to-month</td>\n",
              "      <td>Yes</td>\n",
              "      <td>Electronic check</td>\n",
              "      <td>29.85</td>\n",
              "      <td>29.85</td>\n",
              "      <td>No</td>\n",
              "    </tr>\n",
              "    <tr>\n",
              "      <th>1</th>\n",
              "      <td>5575-GNVDE</td>\n",
              "      <td>Male</td>\n",
              "      <td>0</td>\n",
              "      <td>No</td>\n",
              "      <td>No</td>\n",
              "      <td>34</td>\n",
              "      <td>Yes</td>\n",
              "      <td>No</td>\n",
              "      <td>DSL</td>\n",
              "      <td>Yes</td>\n",
              "      <td>...</td>\n",
              "      <td>Yes</td>\n",
              "      <td>No</td>\n",
              "      <td>No</td>\n",
              "      <td>No</td>\n",
              "      <td>One year</td>\n",
              "      <td>No</td>\n",
              "      <td>Mailed check</td>\n",
              "      <td>56.95</td>\n",
              "      <td>1889.5</td>\n",
              "      <td>No</td>\n",
              "    </tr>\n",
              "    <tr>\n",
              "      <th>2</th>\n",
              "      <td>3668-QPYBK</td>\n",
              "      <td>Male</td>\n",
              "      <td>0</td>\n",
              "      <td>No</td>\n",
              "      <td>No</td>\n",
              "      <td>2</td>\n",
              "      <td>Yes</td>\n",
              "      <td>No</td>\n",
              "      <td>DSL</td>\n",
              "      <td>Yes</td>\n",
              "      <td>...</td>\n",
              "      <td>No</td>\n",
              "      <td>No</td>\n",
              "      <td>No</td>\n",
              "      <td>No</td>\n",
              "      <td>Month-to-month</td>\n",
              "      <td>Yes</td>\n",
              "      <td>Mailed check</td>\n",
              "      <td>53.85</td>\n",
              "      <td>108.15</td>\n",
              "      <td>Yes</td>\n",
              "    </tr>\n",
              "    <tr>\n",
              "      <th>3</th>\n",
              "      <td>7795-CFOCW</td>\n",
              "      <td>Male</td>\n",
              "      <td>0</td>\n",
              "      <td>No</td>\n",
              "      <td>No</td>\n",
              "      <td>45</td>\n",
              "      <td>No</td>\n",
              "      <td>No phone service</td>\n",
              "      <td>DSL</td>\n",
              "      <td>Yes</td>\n",
              "      <td>...</td>\n",
              "      <td>Yes</td>\n",
              "      <td>Yes</td>\n",
              "      <td>No</td>\n",
              "      <td>No</td>\n",
              "      <td>One year</td>\n",
              "      <td>No</td>\n",
              "      <td>Bank transfer (automatic)</td>\n",
              "      <td>42.30</td>\n",
              "      <td>1840.75</td>\n",
              "      <td>No</td>\n",
              "    </tr>\n",
              "    <tr>\n",
              "      <th>4</th>\n",
              "      <td>9237-HQITU</td>\n",
              "      <td>Female</td>\n",
              "      <td>0</td>\n",
              "      <td>No</td>\n",
              "      <td>No</td>\n",
              "      <td>2</td>\n",
              "      <td>Yes</td>\n",
              "      <td>No</td>\n",
              "      <td>Fiber optic</td>\n",
              "      <td>No</td>\n",
              "      <td>...</td>\n",
              "      <td>No</td>\n",
              "      <td>No</td>\n",
              "      <td>No</td>\n",
              "      <td>No</td>\n",
              "      <td>Month-to-month</td>\n",
              "      <td>Yes</td>\n",
              "      <td>Electronic check</td>\n",
              "      <td>70.70</td>\n",
              "      <td>151.65</td>\n",
              "      <td>Yes</td>\n",
              "    </tr>\n",
              "  </tbody>\n",
              "</table>\n",
              "<p>5 rows × 21 columns</p>\n",
              "</div>"
            ],
            "text/plain": [
              "   customerID  gender  SeniorCitizen Partner Dependents  tenure PhoneService  \\\n",
              "0  7590-VHVEG  Female              0     Yes         No       1           No   \n",
              "1  5575-GNVDE    Male              0      No         No      34          Yes   \n",
              "2  3668-QPYBK    Male              0      No         No       2          Yes   \n",
              "3  7795-CFOCW    Male              0      No         No      45           No   \n",
              "4  9237-HQITU  Female              0      No         No       2          Yes   \n",
              "\n",
              "      MultipleLines InternetService OnlineSecurity  ... DeviceProtection  \\\n",
              "0  No phone service             DSL             No  ...               No   \n",
              "1                No             DSL            Yes  ...              Yes   \n",
              "2                No             DSL            Yes  ...               No   \n",
              "3  No phone service             DSL            Yes  ...              Yes   \n",
              "4                No     Fiber optic             No  ...               No   \n",
              "\n",
              "  TechSupport StreamingTV StreamingMovies        Contract PaperlessBilling  \\\n",
              "0          No          No              No  Month-to-month              Yes   \n",
              "1          No          No              No        One year               No   \n",
              "2          No          No              No  Month-to-month              Yes   \n",
              "3         Yes          No              No        One year               No   \n",
              "4          No          No              No  Month-to-month              Yes   \n",
              "\n",
              "               PaymentMethod MonthlyCharges  TotalCharges Churn  \n",
              "0           Electronic check          29.85         29.85    No  \n",
              "1               Mailed check          56.95        1889.5    No  \n",
              "2               Mailed check          53.85        108.15   Yes  \n",
              "3  Bank transfer (automatic)          42.30       1840.75    No  \n",
              "4           Electronic check          70.70        151.65   Yes  \n",
              "\n",
              "[5 rows x 21 columns]"
            ]
          },
          "execution_count": 4,
          "metadata": {},
          "output_type": "execute_result"
        }
      ],
      "source": [
        "#Cargar el dataset\n",
        "data = pd.read_csv(ruta_archivo, sep=',', encoding='utf-8')\n",
        "data.head()"
      ]
    },
    {
      "cell_type": "code",
      "execution_count": 5,
      "metadata": {
        "colab": {
          "base_uri": "https://localhost:8080/"
        },
        "id": "1RVvrMSVfk7i",
        "outputId": "3afbb317-1f13-49c7-cf28-53fa7213394d"
      },
      "outputs": [
        {
          "name": "stdout",
          "output_type": "stream",
          "text": [
            "<class 'pandas.core.frame.DataFrame'>\n",
            "RangeIndex: 7043 entries, 0 to 7042\n",
            "Data columns (total 21 columns):\n",
            " #   Column            Non-Null Count  Dtype  \n",
            "---  ------            --------------  -----  \n",
            " 0   customerID        7043 non-null   object \n",
            " 1   gender            7043 non-null   object \n",
            " 2   SeniorCitizen     7043 non-null   int64  \n",
            " 3   Partner           7043 non-null   object \n",
            " 4   Dependents        7043 non-null   object \n",
            " 5   tenure            7043 non-null   int64  \n",
            " 6   PhoneService      7043 non-null   object \n",
            " 7   MultipleLines     7043 non-null   object \n",
            " 8   InternetService   7043 non-null   object \n",
            " 9   OnlineSecurity    7043 non-null   object \n",
            " 10  OnlineBackup      7043 non-null   object \n",
            " 11  DeviceProtection  7043 non-null   object \n",
            " 12  TechSupport       7043 non-null   object \n",
            " 13  StreamingTV       7043 non-null   object \n",
            " 14  StreamingMovies   7043 non-null   object \n",
            " 15  Contract          7043 non-null   object \n",
            " 16  PaperlessBilling  7043 non-null   object \n",
            " 17  PaymentMethod     7043 non-null   object \n",
            " 18  MonthlyCharges    7043 non-null   float64\n",
            " 19  TotalCharges      7043 non-null   object \n",
            " 20  Churn             7043 non-null   object \n",
            "dtypes: float64(1), int64(2), object(18)\n",
            "memory usage: 1.1+ MB\n"
          ]
        }
      ],
      "source": [
        "#Hacemos una primera vista a nuestros datos\n",
        "data.info()"
      ]
    },
    {
      "cell_type": "markdown",
      "metadata": {
        "id": "FjepC8AdtgaQ"
      },
      "source": [
        "##⚙️ Preparación de los datos"
      ]
    },
    {
      "cell_type": "markdown",
      "metadata": {
        "id": "K1B1zNhv69M0"
      },
      "source": [
        "<b><h3>Limpieza de datos<h3>"
      ]
    },
    {
      "cell_type": "markdown",
      "metadata": {
        "id": "327oETustmrt"
      },
      "source": [
        "Antes de arrancar, tenemos que corroborar que los datos se encuentren limpios de forma tal que no afecten negativamente al modelo."
      ]
    },
    {
      "cell_type": "markdown",
      "metadata": {
        "id": "frLlNVYBes3W"
      },
      "source": [
        "Luego de realizar un pequeño análisis univariado a las columnas de nuestro data set, encontramos que la columna `TotalCharges` era de tipo *object* cuando esta debería ser *float*. Entonces, la casteamos y encontramos también que escondía un par de valores nulos."
      ]
    },
    {
      "cell_type": "code",
      "execution_count": null,
      "metadata": {
        "colab": {
          "base_uri": "https://localhost:8080/"
        },
        "id": "pSbHvIIvx7-a",
        "outputId": "519dace3-caf4-4ed9-cae2-e6cfdf0da321"
      },
      "outputs": [
        {
          "name": "stdout",
          "output_type": "stream",
          "text": [
            "Cantidad de filas con valor nulo en 'Total Charges': 11\n"
          ]
        }
      ],
      "source": [
        "# Crear una copia del DataFrame para no modificar el original\n",
        "df_mod = data.copy()\n",
        "\n",
        "# Convertir TotalCharges a tipo numérico (float) y manejar errores\n",
        "df_mod['TotalCharges'] = pd.to_numeric(df_mod['TotalCharges'], errors='coerce')\n",
        "\n",
        "# Revisar valores faltantes o nulos en TotalCharges\n",
        "print(f\"Cantidad de filas con valor nulo en 'Total Charges': {df_mod['TotalCharges'].isnull().sum()}\");\n"
      ]
    },
    {
      "cell_type": "markdown",
      "metadata": {
        "id": "Y89CiJFJ1GCP"
      },
      "source": [
        "Como vemos, ahora existen 11 filas con valor nulo en esta variable. Si bien no son muchos valores, podríamos eliminarlos y es posible que el resultado final no varíe tanto, pero, decidimos que con el propósito de mantener todos los datos originales, se realizará una **Imputación por la mediana**.\n"
      ]
    },
    {
      "cell_type": "code",
      "execution_count": null,
      "metadata": {
        "colab": {
          "base_uri": "https://localhost:8080/"
        },
        "id": "MDfO9ZOgxjDR",
        "outputId": "b755d803-89e9-442f-82ac-879daf5bafb6"
      },
      "outputs": [
        {
          "data": {
            "image/png": "[encoded data removed]",
            "text/plain": [
              "<Figure size 800x600 with 1 Axes>"
            ]
          },
          "metadata": {},
          "output_type": "display_data"
        }
      ],
      "source": [
        "plt.figure(figsize=(8, 6))\n",
        "sns.boxplot(x=df_mod['TotalCharges'])\n",
        "plt.title('Boxplot de TotalCharges')\n",
        "plt.show()"
      ]
    },
    {
      "cell_type": "markdown",
      "metadata": {
        "id": "0Fxi5cTRgFPR"
      },
      "source": [
        "Este boxplot nos ayuda a terminar de decidir si era una buena opción el uso de la mediana para la imputación y vemos rapidamente que hay un sesgo positivo, lo que hace que la media no sea tan representativa y pierda robustez como medida de resumen."
      ]
    },
    {
      "cell_type": "code",
      "execution_count": null,
      "metadata": {
        "colab": {
          "base_uri": "https://localhost:8080/"
        },
        "id": "SmX_XWydzmZp",
        "outputId": "34875709-f842-4def-ac6a-4702c18a965d"
      },
      "outputs": [
        {
          "name": "stdout",
          "output_type": "stream",
          "text": [
            "Cantidad de filas con valor nulo en 'Total Charges': 0\n"
          ]
        }
      ],
      "source": [
        "# Imputación con la mediana\n",
        "mediana_TotalCharges = df_mod['TotalCharges'].median()\n",
        "df_mod['TotalCharges'] = df_mod['TotalCharges'].fillna(mediana_TotalCharges)\n",
        "\n",
        "# Vemos como ahora no hay falores faltantes\n",
        "print(f\"Cantidad de filas con valor nulo en 'Total Charges': {df_mod['TotalCharges'].isnull().sum()}\");"
      ]
    },
    {
      "cell_type": "markdown",
      "metadata": {
        "id": "nMgDXA2y2fSF"
      },
      "source": [
        "Ahora si, la variable `TotalCharges` ya se encuentra en el tipo de dato correcto y con sus valores nulos tratados."
      ]
    },
    {
      "cell_type": "markdown",
      "metadata": {
        "id": "pbv0UeQtglyD"
      },
      "source": [
        "Luego, el resto de las variables del dataset no requieren ningún cambio de tipo de dato, limpieza o tratamiento de outliers."
      ]
    },
    {
      "cell_type": "markdown",
      "metadata": {
        "id": "_lphSJ8zTdLi"
      },
      "source": [
        "---\n"
      ]
    },
    {
      "cell_type": "markdown",
      "metadata": {
        "id": "9xi_oWpXycsY"
      },
      "source": [
        "## 🔎 Busqueda de Modelo Base"
      ]
    },
    {
      "cell_type": "markdown",
      "metadata": {
        "id": "ZMsVxhxNy5XK"
      },
      "source": [
        "Realizamos entrenamiento de modelos varios para ver cual elegimos y así realizar una busqueda de hiperparámetros"
      ]
    },
    {
      "cell_type": "markdown",
      "metadata": {
        "id": "GCSAh2XJ9Xdj"
      },
      "source": [
        "Hay que tener cuidado con esto ya que hay modelos que no necesitan estandarizacion como:\n",
        "\n",
        "- Árboles de decisión\n",
        "- Random Forest\n",
        "- Gradient Boosting (XGBoost, LightGBM, HistGradientBoosting)\n",
        "\n",
        "Pero luego los siguientes modelos si necesitan estandarización:\n",
        "- Regresión Logística\n",
        "- SVM (especialmente con kernel RBF o polinómico)\n",
        "\n",
        "Entonces…\n",
        "- Las métricas de SVM y Regresión Logística ahora son confiables hasta cierto punto, pero probablemente mejorarían con los datos estandarizados.\n",
        "\n",
        "- Es posible que SVM con RBF haya rendido tan mal justamente por esto."
      ]
    },
    {
      "cell_type": "markdown",
      "metadata": {
        "id": "GxOeJJnzB2QV"
      },
      "source": [
        "Por ende, dividiremos esta busqueda en dos fases:\n",
        "- Comparación rápida sin procesar -> Donde solo confiaremos en las métricas de los modelos de árboles\n",
        "- Comparación con estandarización -> Usaremos la misma función pero solo con los modelos sensibles a las escalas y el data set previamente estandarizado\n",
        "\n",
        "Por ultimo, compararemos resultados."
      ]
    },
    {
      "cell_type": "markdown",
      "metadata": {
        "id": "pde6CjqACRdw"
      },
      "source": [
        "### 🔍 Fase 1 - Comparación rápida sin procesar"
      ]
    },
    {
      "cell_type": "code",
      "execution_count": 6,
      "metadata": {
        "id": "BeX2W-PDTehi"
      },
      "outputs": [],
      "source": [
        "#Esta función agarraria la BBDD sin realizar transformaciones y luego nos devuelve las métricas de cada modelo puesto\n",
        "def evaluar_modelos(X_train, y_train, X_test, y_test):\n",
        "    modelos = {\n",
        "        #Estos son \"tweaks iniciales seguros\" que no se consideran tuning agresivo, sino buenas prácticas para establecer un baseline justo\n",
        "        'Regresión Logística': LogisticRegression(max_iter=1000, class_weight='balanced'),\n",
        "        'HistGradientBoosting': HistGradientBoostingClassifier(),\n",
        "        'XGBoost': XGBClassifier(eval_metric='logloss', scale_pos_weight=2.773, use_label_encoder=False), #scale_pos_weight = 'Churn' 73.5% (yes) / 26.5% (no) = 2.773\n",
        "        'LightGBM': LGBMClassifier(verbose=-1, class_weight='balanced'),\n",
        "        'Random Forest': RandomForestClassifier(n_estimators=100, class_weight='balanced', random_state=42),\n",
        "        'SVM_linear': SVC(kernel = 'linear', class_weight='balanced'),\n",
        "        'SVM_rbf': SVC(kernel = 'rbf', class_weight='balanced')\n",
        "    }\n",
        "\n",
        "    resultados = []\n",
        "\n",
        "    for nombre, modelo in modelos.items():\n",
        "        modelo.fit(X_train, y_train)\n",
        "        y_pred = modelo.predict(X_test)\n",
        "        # Asegurarse de que el modelo tiene el atributo predict_proba antes de usarlo\n",
        "        if hasattr(modelo, \"predict_proba\"):\n",
        "            y_proba = modelo.predict_proba(X_test)[:, 1]\n",
        "        elif hasattr(modelo, \"decision_function\"):\n",
        "            y_proba = modelo.decision_function(X_test)\n",
        "        else:\n",
        "            y_proba = None\n",
        "\n",
        "\n",
        "        resultados.append({\n",
        "            'Modelo': nombre,\n",
        "            'Balanced Accuracy': balanced_accuracy_score(y_test, y_pred), #Calcula el promedio de recall entre clases (recall clase 0 y clase 1).\n",
        "            'F1 Score': f1_score(y_test, y_pred),\n",
        "            'Recall': recall_score(y_test, y_pred), #Indica cuántos de los que realmente se fueron (churn=1) tu modelo detectó.\n",
        "            'Precision': precision_score(y_test, y_pred),\n",
        "            # 'ROC AUC': roc_auc_score(y_test, y_proba) if y_proba is not None else None\n",
        "            #PR AUC\n",
        "            'PR AUC': average_precision_score(y_test,y_proba) if y_proba is not None else None #es más informativa cuando te interesa detectar bien la clase 1.\n",
        "        })\n",
        "\n",
        "    return pd.DataFrame(resultados).sort_values(by='Balanced Accuracy', ascending=False).reset_index(drop=True)"
      ]
    },
    {
      "cell_type": "code",
      "execution_count": 7,
      "metadata": {
        "colab": {
          "base_uri": "https://localhost:8080/"
        },
        "collapsed": true,
        "id": "oBsFKYywTsz3",
        "outputId": "bc70abc5-4869-4a8a-c9ea-19ff23e30433"
      },
      "outputs": [
        {
          "ename": "NameError",
          "evalue": "name 'df_mod' is not defined",
          "output_type": "error",
          "traceback": [
            "\u001b[31m---------------------------------------------------------------------------\u001b[39m",
            "\u001b[31mNameError\u001b[39m                                 Traceback (most recent call last)",
            "\u001b[36mCell\u001b[39m\u001b[36m \u001b[39m\u001b[32mIn[7]\u001b[39m\u001b[32m, line 2\u001b[39m\n\u001b[32m      1\u001b[39m \u001b[38;5;66;03m# Elimino costumerID\u001b[39;00m\n\u001b[32m----> \u001b[39m\u001b[32m2\u001b[39m df_inicial = \u001b[43mdf_mod\u001b[49m.copy()\n\u001b[32m      3\u001b[39m df_inicial.drop(columns=\u001b[33m'\u001b[39m\u001b[33mcustomerID\u001b[39m\u001b[33m'\u001b[39m, inplace=\u001b[38;5;28;01mTrue\u001b[39;00m)\n\u001b[32m      5\u001b[39m \u001b[38;5;66;03m# Realizamos modificaciones rapidas porque nuestros modelos necesitan variables numericas\u001b[39;00m\n",
            "\u001b[31mNameError\u001b[39m: name 'df_mod' is not defined"
          ]
        }
      ],
      "source": [
        "# Elimino costumerID\n",
        "df_inicial = df_mod.copy()\n",
        "df_inicial.drop(columns='customerID', inplace=True)\n",
        "\n",
        "# Realizamos modificaciones rapidas porque nuestros modelos necesitan variables numericas\n",
        "binary_cols_quick = ['gender', 'Partner', 'Dependents', 'PhoneService', 'PaperlessBilling']\n",
        "\n",
        "# Variables categóricas con más de dos opciones (ajusta la lista si es necesario)\n",
        "categorical_cols_quick = ['MultipleLines', 'InternetService', 'OnlineSecurity', 'OnlineBackup',\n",
        "                          'DeviceProtection', 'TechSupport', 'StreamingTV', 'StreamingMovies',\n",
        "                          'Contract', 'PaymentMethod']\n",
        "\n",
        "# Aplicar codificación binaria a las columnas Yes/No\n",
        "for col in binary_cols_quick:\n",
        "    if col in df_inicial.columns:\n",
        "        if df_inicial[col].dtype == 'object': # Solo codificar si son strings\n",
        "             # Manejar el caso de 'No internet service' o 'No phone service' si aplica\n",
        "            df_inicial[col] = df_inicial[col].replace({'Yes': 1, 'No': 0, 'Male': 1, 'Female': 0})\n",
        "\n",
        "\n",
        "# Aplicar One-Hot Encoding a las columnas con más de dos opciones\n",
        "df_inicial = pd.get_dummies(df_inicial, columns=categorical_cols_quick, drop_first=True)\n",
        "\n",
        "# Convertir las nuevas columnas booleanas a enteros (si pd.get_dummies las crea como bool)\n",
        "bool_cols_quick = df_inicial.select_dtypes(include='bool').columns\n",
        "df_inicial[bool_cols_quick] = df_inicial[bool_cols_quick].astype(int)\n",
        "\n",
        "#Convertimos tambien la variable objetivo\n",
        "df_inicial['Churn'] = df_inicial['Churn'].replace({'Yes': 1, 'No': 0})\n",
        "\n",
        "# --- Fin de la codificación rápida ---\n",
        "\n",
        "\n"
      ]
    },
    {
      "cell_type": "code",
      "execution_count": null,
      "metadata": {
        "id": "6uadS0wDUOlT"
      },
      "outputs": [],
      "source": [
        "# División de los datos en train y test\n",
        "# ==============================================================================\n",
        "X_train, X_test, y_train, y_test = train_test_split(\n",
        "                                        df_inicial.drop(columns = 'Churn'),\n",
        "                                        df_inicial['Churn'],\n",
        "                                        random_state = 22\n",
        "                                    )"
      ]
    },
    {
      "cell_type": "code",
      "execution_count": null,
      "metadata": {
        "colab": {
          "base_uri": "https://localhost:8080/",
          "height": 477
        },
        "id": "QbH00pkFUUhO",
        "outputId": "a66b61e0-66e6-4e30-8458-f852f2803aac"
      },
      "outputs": [
        {
          "name": "stderr",
          "output_type": "stream",
          "text": [
            "/usr/local/lib/python3.11/dist-packages/sklearn/linear_model/_logistic.py:465: ConvergenceWarning: lbfgs failed to converge (status=1):\n",
            "STOP: TOTAL NO. OF ITERATIONS REACHED LIMIT.\n",
            "\n",
            "Increase the number of iterations (max_iter) or scale the data as shown in:\n",
            "    https://scikit-learn.org/stable/modules/preprocessing.html\n",
            "Please also refer to the documentation for alternative solver options:\n",
            "    https://scikit-learn.org/stable/modules/linear_model.html#logistic-regression\n",
            "  n_iter_i = _check_optimize_result(\n",
            "/usr/local/lib/python3.11/dist-packages/xgboost/core.py:158: UserWarning: [15:42:34] WARNING: /workspace/src/learner.cc:740: \n",
            "Parameters: { \"use_label_encoder\" } are not used.\n",
            "\n",
            "  warnings.warn(smsg, UserWarning)\n"
          ]
        },
        {
          "data": {
            "application/vnd.google.colaboratory.intrinsic+json": {
              "summary": "{\n  \"name\": \"df_resultados\",\n  \"rows\": 7,\n  \"fields\": [\n    {\n      \"column\": \"Modelo\",\n      \"properties\": {\n        \"dtype\": \"string\",\n        \"num_unique_values\": 7,\n        \"samples\": [\n          \"SVM_linear\",\n          \"LightGBM\",\n          \"Random Forest\"\n        ],\n        \"semantic_type\": \"\",\n        \"description\": \"\"\n      }\n    },\n    {\n      \"column\": \"Balanced Accuracy\",\n      \"properties\": {\n        \"dtype\": \"number\",\n        \"std\": 0.0517598215751973,\n        \"min\": 0.6215286273550281,\n        \"max\": 0.7552557531582811,\n        \"num_unique_values\": 7,\n        \"samples\": [\n          0.7552557531582811,\n          0.7545217184139699,\n          0.6626691821307612\n        ],\n        \"semantic_type\": \"\",\n        \"description\": \"\"\n      }\n    },\n    {\n      \"column\": \"F1 Score\",\n      \"properties\": {\n        \"dtype\": \"number\",\n        \"std\": 0.06737704051089874,\n        \"min\": 0.46473779385171793,\n        \"max\": 0.6346328195829556,\n        \"num_unique_values\": 7,\n        \"samples\": [\n          0.6336283185840708,\n          0.6346328195829556,\n          0.5037037037037037\n        ],\n        \"semantic_type\": \"\",\n        \"description\": \"\"\n      }\n    },\n    {\n      \"column\": \"Recall\",\n      \"properties\": {\n        \"dtype\": \"number\",\n        \"std\": 0.13331076604491346,\n        \"min\": 0.4180327868852459,\n        \"max\": 0.7622950819672131,\n        \"num_unique_values\": 7,\n        \"samples\": [\n          0.7336065573770492,\n          0.7172131147540983,\n          0.4180327868852459\n        ],\n        \"semantic_type\": \"\",\n        \"description\": \"\"\n      }\n    },\n    {\n      \"column\": \"Precision\",\n      \"properties\": {\n        \"dtype\": \"number\",\n        \"std\": 0.07522040096446399,\n        \"min\": 0.41585760517799353,\n        \"max\": 0.6413612565445026,\n        \"num_unique_values\": 7,\n        \"samples\": [\n          0.557632398753894,\n          0.5691056910569106,\n          0.6335403726708074\n        ],\n        \"semantic_type\": \"\",\n        \"description\": \"\"\n      }\n    },\n    {\n      \"column\": \"PR AUC\",\n      \"properties\": {\n        \"dtype\": \"number\",\n        \"std\": 0.05160919951008737,\n        \"min\": 0.5050137030463915,\n        \"max\": 0.6521957032005279,\n        \"num_unique_values\": 7,\n        \"samples\": [\n          0.6424090580104872,\n          0.6521957032005279,\n          0.609118131586155\n        ],\n        \"semantic_type\": \"\",\n        \"description\": \"\"\n      }\n    }\n  ]\n}",
              "type": "dataframe",
              "variable_name": "df_resultados"
            },
            "text/html": [
              "\n",
              "  <div id=\"df-328f701e-d792-41f7-8685-f1e2ddfa55be\" class=\"colab-df-container\">\n",
              "    <div>\n",
              "<style scoped>\n",
              "    .dataframe tbody tr th:only-of-type {\n",
              "        vertical-align: middle;\n",
              "    }\n",
              "\n",
              "    .dataframe tbody tr th {\n",
              "        vertical-align: top;\n",
              "    }\n",
              "\n",
              "    .dataframe thead th {\n",
              "        text-align: right;\n",
              "    }\n",
              "</style>\n",
              "<table border=\"1\" class=\"dataframe\">\n",
              "  <thead>\n",
              "    <tr style=\"text-align: right;\">\n",
              "      <th></th>\n",
              "      <th>Modelo</th>\n",
              "      <th>Balanced Accuracy</th>\n",
              "      <th>F1 Score</th>\n",
              "      <th>Recall</th>\n",
              "      <th>Precision</th>\n",
              "      <th>PR AUC</th>\n",
              "    </tr>\n",
              "  </thead>\n",
              "  <tbody>\n",
              "    <tr>\n",
              "      <th>0</th>\n",
              "      <td>SVM_linear</td>\n",
              "      <td>0.755256</td>\n",
              "      <td>0.633628</td>\n",
              "      <td>0.733607</td>\n",
              "      <td>0.557632</td>\n",
              "      <td>0.642409</td>\n",
              "    </tr>\n",
              "    <tr>\n",
              "      <th>1</th>\n",
              "      <td>LightGBM</td>\n",
              "      <td>0.754522</td>\n",
              "      <td>0.634633</td>\n",
              "      <td>0.717213</td>\n",
              "      <td>0.569106</td>\n",
              "      <td>0.652196</td>\n",
              "    </tr>\n",
              "    <tr>\n",
              "      <th>2</th>\n",
              "      <td>Regresión Logística</td>\n",
              "      <td>0.749961</td>\n",
              "      <td>0.623116</td>\n",
              "      <td>0.762295</td>\n",
              "      <td>0.526912</td>\n",
              "      <td>0.648783</td>\n",
              "    </tr>\n",
              "    <tr>\n",
              "      <th>3</th>\n",
              "      <td>XGBoost</td>\n",
              "      <td>0.724792</td>\n",
              "      <td>0.598485</td>\n",
              "      <td>0.647541</td>\n",
              "      <td>0.556338</td>\n",
              "      <td>0.619064</td>\n",
              "    </tr>\n",
              "    <tr>\n",
              "      <th>4</th>\n",
              "      <td>HistGradientBoosting</td>\n",
              "      <td>0.697215</td>\n",
              "      <td>0.563218</td>\n",
              "      <td>0.502049</td>\n",
              "      <td>0.641361</td>\n",
              "      <td>0.638931</td>\n",
              "    </tr>\n",
              "    <tr>\n",
              "      <th>5</th>\n",
              "      <td>Random Forest</td>\n",
              "      <td>0.662669</td>\n",
              "      <td>0.503704</td>\n",
              "      <td>0.418033</td>\n",
              "      <td>0.633540</td>\n",
              "      <td>0.609118</td>\n",
              "    </tr>\n",
              "    <tr>\n",
              "      <th>6</th>\n",
              "      <td>SVM_rbf</td>\n",
              "      <td>0.621529</td>\n",
              "      <td>0.464738</td>\n",
              "      <td>0.526639</td>\n",
              "      <td>0.415858</td>\n",
              "      <td>0.505014</td>\n",
              "    </tr>\n",
              "  </tbody>\n",
              "</table>\n",
              "</div>\n",
              "    <div class=\"colab-df-buttons\">\n",
              "\n",
              "  <div class=\"colab-df-container\">\n",
              "    <button class=\"colab-df-convert\" onclick=\"convertToInteractive('df-328f701e-d792-41f7-8685-f1e2ddfa55be')\"\n",
              "            title=\"Convert this dataframe to an interactive table.\"\n",
              "            style=\"display:none;\">\n",
              "\n",
              "  <svg xmlns=\"http://www.w3.org/2000/svg\" height=\"24px\" viewBox=\"0 -960 960 960\">\n",
              "    <path d=\"M120-120v-720h720v720H120Zm60-500h600v-160H180v160Zm220 220h160v-160H400v160Zm0 220h160v-160H400v160ZM180-400h160v-160H180v160Zm440 0h160v-160H620v160ZM180-180h160v-160H180v160Zm440 0h160v-160H620v160Z\"/>\n",
              "  </svg>\n",
              "    </button>\n",
              "\n",
              "  <style>\n",
              "    .colab-df-container {\n",
              "      display:flex;\n",
              "      gap: 12px;\n",
              "    }\n",
              "\n",
              "    .colab-df-convert {\n",
              "      background-color: #E8F0FE;\n",
              "      border: none;\n",
              "      border-radius: 50%;\n",
              "      cursor: pointer;\n",
              "      display: none;\n",
              "      fill: #1967D2;\n",
              "      height: 32px;\n",
              "      padding: 0 0 0 0;\n",
              "      width: 32px;\n",
              "    }\n",
              "\n",
              "    .colab-df-convert:hover {\n",
              "      background-color: #E2EBFA;\n",
              "      box-shadow: 0px 1px 2px rgba(60, 64, 67, 0.3), 0px 1px 3px 1px rgba(60, 64, 67, 0.15);\n",
              "      fill: #174EA6;\n",
              "    }\n",
              "\n",
              "    .colab-df-buttons div {\n",
              "      margin-bottom: 4px;\n",
              "    }\n",
              "\n",
              "    [theme=dark] .colab-df-convert {\n",
              "      background-color: #3B4455;\n",
              "      fill: #D2E3FC;\n",
              "    }\n",
              "\n",
              "    [theme=dark] .colab-df-convert:hover {\n",
              "      background-color: #434B5C;\n",
              "      box-shadow: 0px 1px 3px 1px rgba(0, 0, 0, 0.15);\n",
              "      filter: drop-shadow(0px 1px 2px rgba(0, 0, 0, 0.3));\n",
              "      fill: #FFFFFF;\n",
              "    }\n",
              "  </style>\n",
              "\n",
              "    <script>\n",
              "      const buttonEl =\n",
              "        document.querySelector('#df-328f701e-d792-41f7-8685-f1e2ddfa55be button.colab-df-convert');\n",
              "      buttonEl.style.display =\n",
              "        google.colab.kernel.accessAllowed ? 'block' : 'none';\n",
              "\n",
              "      async function convertToInteractive(key) {\n",
              "        const element = document.querySelector('#df-328f701e-d792-41f7-8685-f1e2ddfa55be');\n",
              "        const dataTable =\n",
              "          await google.colab.kernel.invokeFunction('convertToInteractive',\n",
              "                                                    [key], {});\n",
              "        if (!dataTable) return;\n",
              "\n",
              "        const docLinkHtml = 'Like what you see? Visit the ' +\n",
              "          '<a target=\"_blank\" href=https://colab.research.google.com/notebooks/data_table.ipynb>data table notebook</a>'\n",
              "          + ' to learn more about interactive tables.';\n",
              "        element.innerHTML = '';\n",
              "        dataTable['output_type'] = 'display_data';\n",
              "        await google.colab.output.renderOutput(dataTable, element);\n",
              "        const docLink = document.createElement('div');\n",
              "        docLink.innerHTML = docLinkHtml;\n",
              "        element.appendChild(docLink);\n",
              "      }\n",
              "    </script>\n",
              "  </div>\n",
              "\n",
              "\n",
              "    <div id=\"df-b0fe07b8-61b8-4042-9f5d-c7943ad7dc21\">\n",
              "      <button class=\"colab-df-quickchart\" onclick=\"quickchart('df-b0fe07b8-61b8-4042-9f5d-c7943ad7dc21')\"\n",
              "                title=\"Suggest charts\"\n",
              "                style=\"display:none;\">\n",
              "\n",
              "<svg xmlns=\"http://www.w3.org/2000/svg\" height=\"24px\"viewBox=\"0 0 24 24\"\n",
              "     width=\"24px\">\n",
              "    <g>\n",
              "        <path d=\"M19 3H5c-1.1 0-2 .9-2 2v14c0 1.1.9 2 2 2h14c1.1 0 2-.9 2-2V5c0-1.1-.9-2-2-2zM9 17H7v-7h2v7zm4 0h-2V7h2v10zm4 0h-2v-4h2v4z\"/>\n",
              "    </g>\n",
              "</svg>\n",
              "      </button>\n",
              "\n",
              "<style>\n",
              "  .colab-df-quickchart {\n",
              "      --bg-color: #E8F0FE;\n",
              "      --fill-color: #1967D2;\n",
              "      --hover-bg-color: #E2EBFA;\n",
              "      --hover-fill-color: #174EA6;\n",
              "      --disabled-fill-color: #AAA;\n",
              "      --disabled-bg-color: #DDD;\n",
              "  }\n",
              "\n",
              "  [theme=dark] .colab-df-quickchart {\n",
              "      --bg-color: #3B4455;\n",
              "      --fill-color: #D2E3FC;\n",
              "      --hover-bg-color: #434B5C;\n",
              "      --hover-fill-color: #FFFFFF;\n",
              "      --disabled-bg-color: #3B4455;\n",
              "      --disabled-fill-color: #666;\n",
              "  }\n",
              "\n",
              "  .colab-df-quickchart {\n",
              "    background-color: var(--bg-color);\n",
              "    border: none;\n",
              "    border-radius: 50%;\n",
              "    cursor: pointer;\n",
              "    display: none;\n",
              "    fill: var(--fill-color);\n",
              "    height: 32px;\n",
              "    padding: 0;\n",
              "    width: 32px;\n",
              "  }\n",
              "\n",
              "  .colab-df-quickchart:hover {\n",
              "    background-color: var(--hover-bg-color);\n",
              "    box-shadow: 0 1px 2px rgba(60, 64, 67, 0.3), 0 1px 3px 1px rgba(60, 64, 67, 0.15);\n",
              "    fill: var(--button-hover-fill-color);\n",
              "  }\n",
              "\n",
              "  .colab-df-quickchart-complete:disabled,\n",
              "  .colab-df-quickchart-complete:disabled:hover {\n",
              "    background-color: var(--disabled-bg-color);\n",
              "    fill: var(--disabled-fill-color);\n",
              "    box-shadow: none;\n",
              "  }\n",
              "\n",
              "  .colab-df-spinner {\n",
              "    border: 2px solid var(--fill-color);\n",
              "    border-color: transparent;\n",
              "    border-bottom-color: var(--fill-color);\n",
              "    animation:\n",
              "      spin 1s steps(1) infinite;\n",
              "  }\n",
              "\n",
              "  @keyframes spin {\n",
              "    0% {\n",
              "      border-color: transparent;\n",
              "      border-bottom-color: var(--fill-color);\n",
              "      border-left-color: var(--fill-color);\n",
              "    }\n",
              "    20% {\n",
              "      border-color: transparent;\n",
              "      border-left-color: var(--fill-color);\n",
              "      border-top-color: var(--fill-color);\n",
              "    }\n",
              "    30% {\n",
              "      border-color: transparent;\n",
              "      border-left-color: var(--fill-color);\n",
              "      border-top-color: var(--fill-color);\n",
              "      border-right-color: var(--fill-color);\n",
              "    }\n",
              "    40% {\n",
              "      border-color: transparent;\n",
              "      border-right-color: var(--fill-color);\n",
              "      border-top-color: var(--fill-color);\n",
              "    }\n",
              "    60% {\n",
              "      border-color: transparent;\n",
              "      border-right-color: var(--fill-color);\n",
              "    }\n",
              "    80% {\n",
              "      border-color: transparent;\n",
              "      border-right-color: var(--fill-color);\n",
              "      border-bottom-color: var(--fill-color);\n",
              "    }\n",
              "    90% {\n",
              "      border-color: transparent;\n",
              "      border-bottom-color: var(--fill-color);\n",
              "    }\n",
              "  }\n",
              "</style>\n",
              "\n",
              "      <script>\n",
              "        async function quickchart(key) {\n",
              "          const quickchartButtonEl =\n",
              "            document.querySelector('#' + key + ' button');\n",
              "          quickchartButtonEl.disabled = true;  // To prevent multiple clicks.\n",
              "          quickchartButtonEl.classList.add('colab-df-spinner');\n",
              "          try {\n",
              "            const charts = await google.colab.kernel.invokeFunction(\n",
              "                'suggestCharts', [key], {});\n",
              "          } catch (error) {\n",
              "            console.error('Error during call to suggestCharts:', error);\n",
              "          }\n",
              "          quickchartButtonEl.classList.remove('colab-df-spinner');\n",
              "          quickchartButtonEl.classList.add('colab-df-quickchart-complete');\n",
              "        }\n",
              "        (() => {\n",
              "          let quickchartButtonEl =\n",
              "            document.querySelector('#df-b0fe07b8-61b8-4042-9f5d-c7943ad7dc21 button');\n",
              "          quickchartButtonEl.style.display =\n",
              "            google.colab.kernel.accessAllowed ? 'block' : 'none';\n",
              "        })();\n",
              "      </script>\n",
              "    </div>\n",
              "\n",
              "  <div id=\"id_418c7967-c2cf-470c-a57f-8874f03e1440\">\n",
              "    <style>\n",
              "      .colab-df-generate {\n",
              "        background-color: #E8F0FE;\n",
              "        border: none;\n",
              "        border-radius: 50%;\n",
              "        cursor: pointer;\n",
              "        display: none;\n",
              "        fill: #1967D2;\n",
              "        height: 32px;\n",
              "        padding: 0 0 0 0;\n",
              "        width: 32px;\n",
              "      }\n",
              "\n",
              "      .colab-df-generate:hover {\n",
              "        background-color: #E2EBFA;\n",
              "        box-shadow: 0px 1px 2px rgba(60, 64, 67, 0.3), 0px 1px 3px 1px rgba(60, 64, 67, 0.15);\n",
              "        fill: #174EA6;\n",
              "      }\n",
              "\n",
              "      [theme=dark] .colab-df-generate {\n",
              "        background-color: #3B4455;\n",
              "        fill: #D2E3FC;\n",
              "      }\n",
              "\n",
              "      [theme=dark] .colab-df-generate:hover {\n",
              "        background-color: #434B5C;\n",
              "        box-shadow: 0px 1px 3px 1px rgba(0, 0, 0, 0.15);\n",
              "        filter: drop-shadow(0px 1px 2px rgba(0, 0, 0, 0.3));\n",
              "        fill: #FFFFFF;\n",
              "      }\n",
              "    </style>\n",
              "    <button class=\"colab-df-generate\" onclick=\"generateWithVariable('df_resultados')\"\n",
              "            title=\"Generate code using this dataframe.\"\n",
              "            style=\"display:none;\">\n",
              "\n",
              "  <svg xmlns=\"http://www.w3.org/2000/svg\" height=\"24px\"viewBox=\"0 0 24 24\"\n",
              "       width=\"24px\">\n",
              "    <path d=\"M7,19H8.4L18.45,9,17,7.55,7,17.6ZM5,21V16.75L18.45,3.32a2,2,0,0,1,2.83,0l1.4,1.43a1.91,1.91,0,0,1,.58,1.4,1.91,1.91,0,0,1-.58,1.4L9.25,21ZM18.45,9,17,7.55Zm-12,3A5.31,5.31,0,0,0,4.9,8.1,5.31,5.31,0,0,0,1,6.5,5.31,5.31,0,0,0,4.9,4.9,5.31,5.31,0,0,0,6.5,1,5.31,5.31,0,0,0,8.1,4.9,5.31,5.31,0,0,0,12,6.5,5.46,5.46,0,0,0,6.5,12Z\"/>\n",
              "  </svg>\n",
              "    </button>\n",
              "    <script>\n",
              "      (() => {\n",
              "      const buttonEl =\n",
              "        document.querySelector('#id_418c7967-c2cf-470c-a57f-8874f03e1440 button.colab-df-generate');\n",
              "      buttonEl.style.display =\n",
              "        google.colab.kernel.accessAllowed ? 'block' : 'none';\n",
              "\n",
              "      buttonEl.onclick = () => {\n",
              "        google.colab.notebook.generateWithVariable('df_resultados');\n",
              "      }\n",
              "      })();\n",
              "    </script>\n",
              "  </div>\n",
              "\n",
              "    </div>\n",
              "  </div>\n"
            ],
            "text/plain": [
              "                 Modelo  Balanced Accuracy  F1 Score    Recall  Precision  \\\n",
              "0            SVM_linear           0.755256  0.633628  0.733607   0.557632   \n",
              "1              LightGBM           0.754522  0.634633  0.717213   0.569106   \n",
              "2   Regresión Logística           0.749961  0.623116  0.762295   0.526912   \n",
              "3               XGBoost           0.724792  0.598485  0.647541   0.556338   \n",
              "4  HistGradientBoosting           0.697215  0.563218  0.502049   0.641361   \n",
              "5         Random Forest           0.662669  0.503704  0.418033   0.633540   \n",
              "6               SVM_rbf           0.621529  0.464738  0.526639   0.415858   \n",
              "\n",
              "     PR AUC  \n",
              "0  0.642409  \n",
              "1  0.652196  \n",
              "2  0.648783  \n",
              "3  0.619064  \n",
              "4  0.638931  \n",
              "5  0.609118  \n",
              "6  0.505014  "
            ]
          },
          "execution_count": 20,
          "metadata": {},
          "output_type": "execute_result"
        }
      ],
      "source": [
        "# Evaluamos los modelos inciales\n",
        "# ==============================================================================\n",
        "df_resultados = evaluar_modelos(X_train, y_train, X_test, y_test)\n",
        "df_resultados"
      ]
    },
    {
      "cell_type": "markdown",
      "metadata": {
        "id": "lNIEA-WuCj9D"
      },
      "source": [
        "### Fase 2 - Comparación con estandarización"
      ]
    },
    {
      "cell_type": "markdown",
      "metadata": {
        "id": "O3aXT2y4D4Bm"
      },
      "source": [
        "Utilizamos el mismo split de datos de antes..."
      ]
    },
    {
      "cell_type": "code",
      "execution_count": null,
      "metadata": {
        "id": "8orkGNCMCoYz"
      },
      "outputs": [],
      "source": [
        "# Variables a escalar\n",
        "cols_to_scale = ['tenure', 'MonthlyCharges', 'TotalCharges']\n",
        "\n",
        "# Inicializar el escalador\n",
        "scaler = StandardScaler()\n",
        "\n",
        "# Ajustar el escalador solo con datos de entrenamiento\n",
        "X_train_scaled = X_train.copy()\n",
        "X_test_scaled = X_test.copy()\n",
        "\n",
        "X_train_scaled[cols_to_scale] = scaler.fit_transform(X_train[cols_to_scale])\n",
        "X_test_scaled[cols_to_scale] = scaler.transform(X_test[cols_to_scale])"
      ]
    },
    {
      "cell_type": "markdown",
      "metadata": {
        "id": "lJK-8jg2Ep-g"
      },
      "source": [
        "Ajustamos la otra función para entrenar nuevamente pero sin los arboles..."
      ]
    },
    {
      "cell_type": "code",
      "execution_count": null,
      "metadata": {
        "id": "eNWXWvRSEveb"
      },
      "outputs": [],
      "source": [
        "def evaluar_modelos_estandarizados(X_train, y_train, X_test, y_test):\n",
        "    modelos = {\n",
        "        #Estos son \"tweaks iniciales seguros\" que no se consideran tuning agresivo, sino buenas prácticas para establecer un baseline justo\n",
        "        'STD - Regresión Logística': LogisticRegression(max_iter=1000, class_weight='balanced'),\n",
        "        'STD - SVM_linear': SVC(kernel = 'linear', class_weight='balanced'),\n",
        "        'STD - SVM_rbf': SVC(kernel = 'rbf', class_weight='balanced')\n",
        "    }\n",
        "\n",
        "    resultados = []\n",
        "\n",
        "    for nombre, modelo in modelos.items():\n",
        "        modelo.fit(X_train, y_train)\n",
        "        y_pred = modelo.predict(X_test)\n",
        "        # Asegurarse de que el modelo tiene el atributo predict_proba antes de usarlo\n",
        "        if hasattr(modelo, \"predict_proba\"):\n",
        "            y_proba = modelo.predict_proba(X_test)[:, 1]\n",
        "        elif hasattr(modelo, \"decision_function\"):\n",
        "            y_proba = modelo.decision_function(X_test)\n",
        "        else:\n",
        "            y_proba = None\n",
        "\n",
        "\n",
        "        resultados.append({\n",
        "            'Modelo': nombre,\n",
        "            'Balanced Accuracy': balanced_accuracy_score(y_test, y_pred), #Calcula el promedio de recall entre clases (recall clase 0 y clase 1).\n",
        "            'F1 Score': f1_score(y_test, y_pred),\n",
        "            'Recall': recall_score(y_test, y_pred), #Indica cuántos de los que realmente se fueron (churn=1) tu modelo detectó.\n",
        "            'Precision': precision_score(y_test, y_pred),\n",
        "            # 'ROC AUC': roc_auc_score(y_test, y_proba) if y_proba is not None else None\n",
        "            #PR AUC\n",
        "            'PR AUC': average_precision_score(y_test,y_proba) if y_proba is not None else None #es más informativa cuando te interesa detectar bien la clase 1.\n",
        "        })\n",
        "\n",
        "    return pd.DataFrame(resultados).sort_values(by='Balanced Accuracy', ascending=False).reset_index(drop=True)"
      ]
    },
    {
      "cell_type": "code",
      "execution_count": null,
      "metadata": {
        "colab": {
          "base_uri": "https://localhost:8080/",
          "height": 143
        },
        "id": "8nyeBJ9tFKp7",
        "outputId": "1907b514-d5de-4318-8a04-d1e9b2198492"
      },
      "outputs": [
        {
          "data": {
            "application/vnd.google.colaboratory.intrinsic+json": {
              "summary": "{\n  \"name\": \"df_resultados_std\",\n  \"rows\": 3,\n  \"fields\": [\n    {\n      \"column\": \"Modelo\",\n      \"properties\": {\n        \"dtype\": \"string\",\n        \"num_unique_values\": 3,\n        \"samples\": [\n          \"STD - SVM_rbf\",\n          \"STD - Regresi\\u00f3n Log\\u00edstica\",\n          \"STD - SVM_linear\"\n        ],\n        \"semantic_type\": \"\",\n        \"description\": \"\"\n      }\n    },\n    {\n      \"column\": \"Balanced Accuracy\",\n      \"properties\": {\n        \"dtype\": \"number\",\n        \"std\": 0.008904939101315392,\n        \"min\": 0.7385701453903906,\n        \"max\": 0.7558360591348692,\n        \"num_unique_values\": 3,\n        \"samples\": [\n          0.7558360591348692,\n          0.7509859567563391,\n          0.7385701453903906\n        ],\n        \"semantic_type\": \"\",\n        \"description\": \"\"\n      }\n    },\n    {\n      \"column\": \"F1 Score\",\n      \"properties\": {\n        \"dtype\": \"number\",\n        \"std\": 0.014048947158440888,\n        \"min\": 0.6049004594180705,\n        \"max\": 0.632213608957795,\n        \"num_unique_values\": 3,\n        \"samples\": [\n          0.632213608957795,\n          0.6242677824267783,\n          0.6049004594180705\n        ],\n        \"semantic_type\": \"\",\n        \"description\": \"\"\n      }\n    },\n    {\n      \"column\": \"Recall\",\n      \"properties\": {\n        \"dtype\": \"number\",\n        \"std\": 0.03020948686816393,\n        \"min\": 0.7520491803278688,\n        \"max\": 0.8094262295081968,\n        \"num_unique_values\": 3,\n        \"samples\": [\n          0.7520491803278688,\n          0.764344262295082,\n          0.8094262295081968\n        ],\n        \"semantic_type\": \"\",\n        \"description\": \"\"\n      }\n    },\n    {\n      \"column\": \"Precision\",\n      \"properties\": {\n        \"dtype\": \"number\",\n        \"std\": 0.03217257481851406,\n        \"min\": 0.4828850855745721,\n        \"max\": 0.5453194650817236,\n        \"num_unique_values\": 3,\n        \"samples\": [\n          0.5453194650817236,\n          0.5275813295615276,\n          0.4828850855745721\n        ],\n        \"semantic_type\": \"\",\n        \"description\": \"\"\n      }\n    },\n    {\n      \"column\": \"PR AUC\",\n      \"properties\": {\n        \"dtype\": \"number\",\n        \"std\": 0.020281233181586686,\n        \"min\": 0.6081071764309695,\n        \"max\": 0.6479265475822735,\n        \"num_unique_values\": 3,\n        \"samples\": [\n          0.6081071764309695,\n          0.6479265475822735,\n          0.6213236924335643\n        ],\n        \"semantic_type\": \"\",\n        \"description\": \"\"\n      }\n    }\n  ]\n}",
              "type": "dataframe",
              "variable_name": "df_resultados_std"
            },
            "text/html": [
              "\n",
              "  <div id=\"df-c1052d35-a57a-4851-964d-fbf44e639e66\" class=\"colab-df-container\">\n",
              "    <div>\n",
              "<style scoped>\n",
              "    .dataframe tbody tr th:only-of-type {\n",
              "        vertical-align: middle;\n",
              "    }\n",
              "\n",
              "    .dataframe tbody tr th {\n",
              "        vertical-align: top;\n",
              "    }\n",
              "\n",
              "    .dataframe thead th {\n",
              "        text-align: right;\n",
              "    }\n",
              "</style>\n",
              "<table border=\"1\" class=\"dataframe\">\n",
              "  <thead>\n",
              "    <tr style=\"text-align: right;\">\n",
              "      <th></th>\n",
              "      <th>Modelo</th>\n",
              "      <th>Balanced Accuracy</th>\n",
              "      <th>F1 Score</th>\n",
              "      <th>Recall</th>\n",
              "      <th>Precision</th>\n",
              "      <th>PR AUC</th>\n",
              "    </tr>\n",
              "  </thead>\n",
              "  <tbody>\n",
              "    <tr>\n",
              "      <th>0</th>\n",
              "      <td>STD - SVM_rbf</td>\n",
              "      <td>0.755836</td>\n",
              "      <td>0.632214</td>\n",
              "      <td>0.752049</td>\n",
              "      <td>0.545319</td>\n",
              "      <td>0.608107</td>\n",
              "    </tr>\n",
              "    <tr>\n",
              "      <th>1</th>\n",
              "      <td>STD - Regresión Logística</td>\n",
              "      <td>0.750986</td>\n",
              "      <td>0.624268</td>\n",
              "      <td>0.764344</td>\n",
              "      <td>0.527581</td>\n",
              "      <td>0.647927</td>\n",
              "    </tr>\n",
              "    <tr>\n",
              "      <th>2</th>\n",
              "      <td>STD - SVM_linear</td>\n",
              "      <td>0.738570</td>\n",
              "      <td>0.604900</td>\n",
              "      <td>0.809426</td>\n",
              "      <td>0.482885</td>\n",
              "      <td>0.621324</td>\n",
              "    </tr>\n",
              "  </tbody>\n",
              "</table>\n",
              "</div>\n",
              "    <div class=\"colab-df-buttons\">\n",
              "\n",
              "  <div class=\"colab-df-container\">\n",
              "    <button class=\"colab-df-convert\" onclick=\"convertToInteractive('df-c1052d35-a57a-4851-964d-fbf44e639e66')\"\n",
              "            title=\"Convert this dataframe to an interactive table.\"\n",
              "            style=\"display:none;\">\n",
              "\n",
              "  <svg xmlns=\"http://www.w3.org/2000/svg\" height=\"24px\" viewBox=\"0 -960 960 960\">\n",
              "    <path d=\"M120-120v-720h720v720H120Zm60-500h600v-160H180v160Zm220 220h160v-160H400v160Zm0 220h160v-160H400v160ZM180-400h160v-160H180v160Zm440 0h160v-160H620v160ZM180-180h160v-160H180v160Zm440 0h160v-160H620v160Z\"/>\n",
              "  </svg>\n",
              "    </button>\n",
              "\n",
              "  <style>\n",
              "    .colab-df-container {\n",
              "      display:flex;\n",
              "      gap: 12px;\n",
              "    }\n",
              "\n",
              "    .colab-df-convert {\n",
              "      background-color: #E8F0FE;\n",
              "      border: none;\n",
              "      border-radius: 50%;\n",
              "      cursor: pointer;\n",
              "      display: none;\n",
              "      fill: #1967D2;\n",
              "      height: 32px;\n",
              "      padding: 0 0 0 0;\n",
              "      width: 32px;\n",
              "    }\n",
              "\n",
              "    .colab-df-convert:hover {\n",
              "      background-color: #E2EBFA;\n",
              "      box-shadow: 0px 1px 2px rgba(60, 64, 67, 0.3), 0px 1px 3px 1px rgba(60, 64, 67, 0.15);\n",
              "      fill: #174EA6;\n",
              "    }\n",
              "\n",
              "    .colab-df-buttons div {\n",
              "      margin-bottom: 4px;\n",
              "    }\n",
              "\n",
              "    [theme=dark] .colab-df-convert {\n",
              "      background-color: #3B4455;\n",
              "      fill: #D2E3FC;\n",
              "    }\n",
              "\n",
              "    [theme=dark] .colab-df-convert:hover {\n",
              "      background-color: #434B5C;\n",
              "      box-shadow: 0px 1px 3px 1px rgba(0, 0, 0, 0.15);\n",
              "      filter: drop-shadow(0px 1px 2px rgba(0, 0, 0, 0.3));\n",
              "      fill: #FFFFFF;\n",
              "    }\n",
              "  </style>\n",
              "\n",
              "    <script>\n",
              "      const buttonEl =\n",
              "        document.querySelector('#df-c1052d35-a57a-4851-964d-fbf44e639e66 button.colab-df-convert');\n",
              "      buttonEl.style.display =\n",
              "        google.colab.kernel.accessAllowed ? 'block' : 'none';\n",
              "\n",
              "      async function convertToInteractive(key) {\n",
              "        const element = document.querySelector('#df-c1052d35-a57a-4851-964d-fbf44e639e66');\n",
              "        const dataTable =\n",
              "          await google.colab.kernel.invokeFunction('convertToInteractive',\n",
              "                                                    [key], {});\n",
              "        if (!dataTable) return;\n",
              "\n",
              "        const docLinkHtml = 'Like what you see? Visit the ' +\n",
              "          '<a target=\"_blank\" href=https://colab.research.google.com/notebooks/data_table.ipynb>data table notebook</a>'\n",
              "          + ' to learn more about interactive tables.';\n",
              "        element.innerHTML = '';\n",
              "        dataTable['output_type'] = 'display_data';\n",
              "        await google.colab.output.renderOutput(dataTable, element);\n",
              "        const docLink = document.createElement('div');\n",
              "        docLink.innerHTML = docLinkHtml;\n",
              "        element.appendChild(docLink);\n",
              "      }\n",
              "    </script>\n",
              "  </div>\n",
              "\n",
              "\n",
              "    <div id=\"df-46bce9a4-198d-4bf5-bb07-ddc8aa7fce6d\">\n",
              "      <button class=\"colab-df-quickchart\" onclick=\"quickchart('df-46bce9a4-198d-4bf5-bb07-ddc8aa7fce6d')\"\n",
              "                title=\"Suggest charts\"\n",
              "                style=\"display:none;\">\n",
              "\n",
              "<svg xmlns=\"http://www.w3.org/2000/svg\" height=\"24px\"viewBox=\"0 0 24 24\"\n",
              "     width=\"24px\">\n",
              "    <g>\n",
              "        <path d=\"M19 3H5c-1.1 0-2 .9-2 2v14c0 1.1.9 2 2 2h14c1.1 0 2-.9 2-2V5c0-1.1-.9-2-2-2zM9 17H7v-7h2v7zm4 0h-2V7h2v10zm4 0h-2v-4h2v4z\"/>\n",
              "    </g>\n",
              "</svg>\n",
              "      </button>\n",
              "\n",
              "<style>\n",
              "  .colab-df-quickchart {\n",
              "      --bg-color: #E8F0FE;\n",
              "      --fill-color: #1967D2;\n",
              "      --hover-bg-color: #E2EBFA;\n",
              "      --hover-fill-color: #174EA6;\n",
              "      --disabled-fill-color: #AAA;\n",
              "      --disabled-bg-color: #DDD;\n",
              "  }\n",
              "\n",
              "  [theme=dark] .colab-df-quickchart {\n",
              "      --bg-color: #3B4455;\n",
              "      --fill-color: #D2E3FC;\n",
              "      --hover-bg-color: #434B5C;\n",
              "      --hover-fill-color: #FFFFFF;\n",
              "      --disabled-bg-color: #3B4455;\n",
              "      --disabled-fill-color: #666;\n",
              "  }\n",
              "\n",
              "  .colab-df-quickchart {\n",
              "    background-color: var(--bg-color);\n",
              "    border: none;\n",
              "    border-radius: 50%;\n",
              "    cursor: pointer;\n",
              "    display: none;\n",
              "    fill: var(--fill-color);\n",
              "    height: 32px;\n",
              "    padding: 0;\n",
              "    width: 32px;\n",
              "  }\n",
              "\n",
              "  .colab-df-quickchart:hover {\n",
              "    background-color: var(--hover-bg-color);\n",
              "    box-shadow: 0 1px 2px rgba(60, 64, 67, 0.3), 0 1px 3px 1px rgba(60, 64, 67, 0.15);\n",
              "    fill: var(--button-hover-fill-color);\n",
              "  }\n",
              "\n",
              "  .colab-df-quickchart-complete:disabled,\n",
              "  .colab-df-quickchart-complete:disabled:hover {\n",
              "    background-color: var(--disabled-bg-color);\n",
              "    fill: var(--disabled-fill-color);\n",
              "    box-shadow: none;\n",
              "  }\n",
              "\n",
              "  .colab-df-spinner {\n",
              "    border: 2px solid var(--fill-color);\n",
              "    border-color: transparent;\n",
              "    border-bottom-color: var(--fill-color);\n",
              "    animation:\n",
              "      spin 1s steps(1) infinite;\n",
              "  }\n",
              "\n",
              "  @keyframes spin {\n",
              "    0% {\n",
              "      border-color: transparent;\n",
              "      border-bottom-color: var(--fill-color);\n",
              "      border-left-color: var(--fill-color);\n",
              "    }\n",
              "    20% {\n",
              "      border-color: transparent;\n",
              "      border-left-color: var(--fill-color);\n",
              "      border-top-color: var(--fill-color);\n",
              "    }\n",
              "    30% {\n",
              "      border-color: transparent;\n",
              "      border-left-color: var(--fill-color);\n",
              "      border-top-color: var(--fill-color);\n",
              "      border-right-color: var(--fill-color);\n",
              "    }\n",
              "    40% {\n",
              "      border-color: transparent;\n",
              "      border-right-color: var(--fill-color);\n",
              "      border-top-color: var(--fill-color);\n",
              "    }\n",
              "    60% {\n",
              "      border-color: transparent;\n",
              "      border-right-color: var(--fill-color);\n",
              "    }\n",
              "    80% {\n",
              "      border-color: transparent;\n",
              "      border-right-color: var(--fill-color);\n",
              "      border-bottom-color: var(--fill-color);\n",
              "    }\n",
              "    90% {\n",
              "      border-color: transparent;\n",
              "      border-bottom-color: var(--fill-color);\n",
              "    }\n",
              "  }\n",
              "</style>\n",
              "\n",
              "      <script>\n",
              "        async function quickchart(key) {\n",
              "          const quickchartButtonEl =\n",
              "            document.querySelector('#' + key + ' button');\n",
              "          quickchartButtonEl.disabled = true;  // To prevent multiple clicks.\n",
              "          quickchartButtonEl.classList.add('colab-df-spinner');\n",
              "          try {\n",
              "            const charts = await google.colab.kernel.invokeFunction(\n",
              "                'suggestCharts', [key], {});\n",
              "          } catch (error) {\n",
              "            console.error('Error during call to suggestCharts:', error);\n",
              "          }\n",
              "          quickchartButtonEl.classList.remove('colab-df-spinner');\n",
              "          quickchartButtonEl.classList.add('colab-df-quickchart-complete');\n",
              "        }\n",
              "        (() => {\n",
              "          let quickchartButtonEl =\n",
              "            document.querySelector('#df-46bce9a4-198d-4bf5-bb07-ddc8aa7fce6d button');\n",
              "          quickchartButtonEl.style.display =\n",
              "            google.colab.kernel.accessAllowed ? 'block' : 'none';\n",
              "        })();\n",
              "      </script>\n",
              "    </div>\n",
              "\n",
              "  <div id=\"id_ab6b0533-adc0-4d5d-8d72-7ce1f5acb28c\">\n",
              "    <style>\n",
              "      .colab-df-generate {\n",
              "        background-color: #E8F0FE;\n",
              "        border: none;\n",
              "        border-radius: 50%;\n",
              "        cursor: pointer;\n",
              "        display: none;\n",
              "        fill: #1967D2;\n",
              "        height: 32px;\n",
              "        padding: 0 0 0 0;\n",
              "        width: 32px;\n",
              "      }\n",
              "\n",
              "      .colab-df-generate:hover {\n",
              "        background-color: #E2EBFA;\n",
              "        box-shadow: 0px 1px 2px rgba(60, 64, 67, 0.3), 0px 1px 3px 1px rgba(60, 64, 67, 0.15);\n",
              "        fill: #174EA6;\n",
              "      }\n",
              "\n",
              "      [theme=dark] .colab-df-generate {\n",
              "        background-color: #3B4455;\n",
              "        fill: #D2E3FC;\n",
              "      }\n",
              "\n",
              "      [theme=dark] .colab-df-generate:hover {\n",
              "        background-color: #434B5C;\n",
              "        box-shadow: 0px 1px 3px 1px rgba(0, 0, 0, 0.15);\n",
              "        filter: drop-shadow(0px 1px 2px rgba(0, 0, 0, 0.3));\n",
              "        fill: #FFFFFF;\n",
              "      }\n",
              "    </style>\n",
              "    <button class=\"colab-df-generate\" onclick=\"generateWithVariable('df_resultados_std')\"\n",
              "            title=\"Generate code using this dataframe.\"\n",
              "            style=\"display:none;\">\n",
              "\n",
              "  <svg xmlns=\"http://www.w3.org/2000/svg\" height=\"24px\"viewBox=\"0 0 24 24\"\n",
              "       width=\"24px\">\n",
              "    <path d=\"M7,19H8.4L18.45,9,17,7.55,7,17.6ZM5,21V16.75L18.45,3.32a2,2,0,0,1,2.83,0l1.4,1.43a1.91,1.91,0,0,1,.58,1.4,1.91,1.91,0,0,1-.58,1.4L9.25,21ZM18.45,9,17,7.55Zm-12,3A5.31,5.31,0,0,0,4.9,8.1,5.31,5.31,0,0,0,1,6.5,5.31,5.31,0,0,0,4.9,4.9,5.31,5.31,0,0,0,6.5,1,5.31,5.31,0,0,0,8.1,4.9,5.31,5.31,0,0,0,12,6.5,5.46,5.46,0,0,0,6.5,12Z\"/>\n",
              "  </svg>\n",
              "    </button>\n",
              "    <script>\n",
              "      (() => {\n",
              "      const buttonEl =\n",
              "        document.querySelector('#id_ab6b0533-adc0-4d5d-8d72-7ce1f5acb28c button.colab-df-generate');\n",
              "      buttonEl.style.display =\n",
              "        google.colab.kernel.accessAllowed ? 'block' : 'none';\n",
              "\n",
              "      buttonEl.onclick = () => {\n",
              "        google.colab.notebook.generateWithVariable('df_resultados_std');\n",
              "      }\n",
              "      })();\n",
              "    </script>\n",
              "  </div>\n",
              "\n",
              "    </div>\n",
              "  </div>\n"
            ],
            "text/plain": [
              "                      Modelo  Balanced Accuracy  F1 Score    Recall  \\\n",
              "0              STD - SVM_rbf           0.755836  0.632214  0.752049   \n",
              "1  STD - Regresión Logística           0.750986  0.624268  0.764344   \n",
              "2           STD - SVM_linear           0.738570  0.604900  0.809426   \n",
              "\n",
              "   Precision    PR AUC  \n",
              "0   0.545319  0.608107  \n",
              "1   0.527581  0.647927  \n",
              "2   0.482885  0.621324  "
            ]
          },
          "execution_count": 16,
          "metadata": {},
          "output_type": "execute_result"
        }
      ],
      "source": [
        "# Evaluamos los modelos inciales\n",
        "# ==============================================================================\n",
        "df_resultados_std = evaluar_modelos_estandarizados(X_train_scaled, y_train, X_test_scaled, y_test)\n",
        "df_resultados_std"
      ]
    },
    {
      "cell_type": "markdown",
      "metadata": {
        "id": "GzcqSryOG3SB"
      },
      "source": [
        "---"
      ]
    },
    {
      "cell_type": "markdown",
      "metadata": {
        "id": "4fi63LcuG43v"
      },
      "source": [
        "###Comparación de resultados"
      ]
    },
    {
      "cell_type": "code",
      "execution_count": null,
      "metadata": {
        "id": "hipZ6pbtG7Ch"
      },
      "outputs": [],
      "source": [
        "df_resultados['Datos'] = 'Sin escalar'\n",
        "df_resultados_std['Datos'] = 'Estandarizados'\n",
        "df_todos = pd.concat([df_resultados, df_resultados_std], ignore_index=True)\n",
        "df_todos_ordenado = df_todos.sort_values(by='Balanced Accuracy', ascending=False).reset_index(drop=True)"
      ]
    },
    {
      "cell_type": "code",
      "execution_count": null,
      "metadata": {
        "colab": {
          "base_uri": "https://localhost:8080/",
          "height": 565
        },
        "id": "BOZsA_7KHGaY",
        "outputId": "ff8498c3-439a-4dd6-91b8-60f914195522"
      },
      "outputs": [
        {
          "data": {
            "image/png": "[encoded data removed]",
            "text/plain": [
              "<Figure size 1200x600 with 1 Axes>"
            ]
          },
          "metadata": {},
          "output_type": "display_data"
        }
      ],
      "source": [
        "plt.figure(figsize=(12, 6))\n",
        "sns.barplot(data=df_todos_ordenado, x='Balanced Accuracy', y='Modelo', hue='Datos')\n",
        "plt.title('Comparación de modelos (Balanced Accuracy)')\n",
        "plt.xlim(0.5, 1.0)  # si querés limitar el eje x para enfocar\n",
        "plt.show()\n"
      ]
    },
    {
      "cell_type": "markdown",
      "metadata": {
        "id": "ZCp9D92BOFiz"
      },
      "source": [
        "<h3>Conclusión</h3>"
      ]
    },
    {
      "cell_type": "markdown",
      "metadata": {
        "id": "MKsDChCjMKRC"
      },
      "source": [
        "\n",
        "* ✅ El modelo con mejor rendimiento general fue el `SVM_rbf` estandarizado, alcanzando la mayor Balanced Accuracy entre todos los modelos comparados.\n",
        "* 🌳 El modelo `lightGBM` fue el que mejor accuracy tuvo de todos los árboles, teniendo casi el mismo valor que el SVM. Similar, solo por apenas debajo de este, se encuentra el de `Regresión Logística`. Ambos tambien podrían ser considerados como modelo final.\n",
        "* ⚠️ El `SVM_linear` sin estandarizar puede no ser confiable, esto se debe a que luego de ser escalado, su accuracy es mucho menor, lo que nos hace pensar que en ese primer entrenamiento se vió sesgado por la escala de alguna variable.\n"
      ]
    },
    {
      "cell_type": "code",
      "execution_count": null,
      "metadata": {
        "colab": {
          "base_uri": "https://localhost:8080/",
          "height": 694
        },
        "id": "iEUyPYbtOjNm",
        "outputId": "e7506f5b-fb9f-4213-843f-e3d8f9acf68d"
      },
      "outputs": [
        {
          "name": "stdout",
          "output_type": "stream",
          "text": [
            "Comparación de F1-Score y PR AUC para modelos seleccionados:\n",
            "                      Modelo  F1 Score    PR AUC    Recall  Precision\n",
            "1                   LightGBM  0.634633  0.652196  0.717213   0.569106\n",
            "8  STD - Regresión Logística  0.624268  0.647927  0.764344   0.527581\n",
            "7              STD - SVM_rbf  0.632214  0.608107  0.752049   0.545319\n"
          ]
        },
        {
          "data": {
            "image/png": "[encoded data removed]",
            "text/plain": [
              "<Figure size 1400x600 with 1 Axes>"
            ]
          },
          "metadata": {},
          "output_type": "display_data"
        }
      ],
      "source": [
        "# Filtrar los resultados para los modelos específicos que quieres comparar\n",
        "modelos_comparar = ['STD - SVM_rbf', 'LightGBM', 'STD - Regresión Logística']\n",
        "\n",
        "# Crear un DataFrame combinado si aún no lo tienes\n",
        "# Asumiendo que df_resultados y df_resultados_std ya existen del código anterior\n",
        "# Si no, deberías ejecutarlos primero.\n",
        "df_resultados['Datos'] = 'Sin escalar'\n",
        "df_resultados_std['Datos'] = 'Estandarizados'\n",
        "df_todos = pd.concat([df_resultados, df_resultados_std], ignore_index=True)\n",
        "\n",
        "# Filtrar el DataFrame combinado para incluir solo los modelos deseados\n",
        "df_comparacion_especifica = df_todos[df_todos['Modelo'].isin(modelos_comparar)]\n",
        "\n",
        "# Seleccionar solo las columnas relevantes para la comparación de métricas\n",
        "df_metricas_comparacion = df_comparacion_especifica[['Modelo', 'F1 Score', 'PR AUC','Recall','Precision']]\n",
        "\n",
        "# Mostrar las métricas\n",
        "print(\"Comparación de F1-Score y PR AUC para modelos seleccionados:\")\n",
        "print(df_metricas_comparacion.sort_values(by='PR AUC', ascending=False))\n",
        "\n",
        "# Opcionalmente, puedes visualizar esta comparación\n",
        "df_melted = df_metricas_comparacion.melt(id_vars='Modelo', var_name='Métrica', value_name='Valor')\n",
        "\n",
        "plt.figure(figsize=(14, 6))\n",
        "ax = sns.barplot(data=df_melted, x='Valor', y='Modelo', hue='Métrica')\n",
        "plt.title('Comparación de F1 Score y PR AUC')\n",
        "plt.xlabel('Valor de la Métrica')\n",
        "plt.ylabel('Modelo')\n",
        "# plt.legend(title='Métrica') # Elimina o comenta esta línea si usas ax.legend()\n",
        "plt.grid(axis='x', linestyle='--', alpha=0.6)\n",
        "\n",
        "\n",
        "ax.legend(title='Datos', loc='center left', bbox_to_anchor=(1, 0.5))\n",
        "plt.tight_layout()\n",
        "\n",
        "plt.show()\n"
      ]
    },
    {
      "cell_type": "markdown",
      "metadata": {
        "id": "nR-sJiHTSQ-1"
      },
      "source": [
        "| Métrica                                       | ¿Qué mide?                                                                                       | ¿Por qué importa en tu caso?                                                                                            |\n",
        "| --------------------------------------------- | ------------------------------------------------------------------------------------------------ | ----------------------------------------------------------------------------------------------------------------------- |\n",
        "| **Balanced Accuracy**                         | Promedio de recall entre clase 0 y 1. No se deja engañar por el desbalance.                      | Te dice si el modelo aprende **ambas clases** en vez de acertar por casualidad.                                         |\n",
        "| **Recall (o Sensibilidad)**                   | % de verdaderos positivos detectados. ¿Cuántos que realmente se fueron predijiste correctamente? | Es crítico: no querés dejar pasar clientes que se iban. Mejor tener falsos positivos que no detectarlos.                |\n",
        "| **Precision**                                 | % de los que predijiste como \"se va\" que realmente se fueron.                                    | Complemento al recall. No querés alertar a todos si solo pocos se van.                                                  |\n",
        "| **F1 Score**                                  | Promedio armonioso entre Precision y Recall.                                                     | Balance entre no asustar a todos y no perder a los que se iban.                                                         |\n",
        "| **PR AUC (Área bajo curva Precision-Recall)** | Qué tan bien se comporta el modelo al clasificar la clase positiva.                              | Más útil que ROC AUC con clases desbalanceadas. Te da una idea del rendimiento **cuando te importa acertar positivos**. |\n"
      ]
    },
    {
      "cell_type": "markdown",
      "metadata": {
        "id": "GoAc3xTRkqHr"
      },
      "source": [
        "<h3>Conclusion final</h3>\n",
        "\n",
        "Entonces, creo que el `LightGBM` porque, si bien no tiene el mayor recall (proporción de churners reales sí detectados), la precisión es la mas alta (de los que detectamos como churn, cuantos realmente lo eran). Esta ultima, si es baja, estaríamos \"sobrealertando\" o etiquetando como churners a muchos que en realidad no lo eran (falsos positivos).\n",
        "\n",
        "Este balance hace que se detecten bien a los que se van (recall aceptable) y no sobreactúe marcando como \"churn\" a muchos que no lo son (mayor precision)\n",
        "\n",
        "❗Pero, si nuestro objetivo fuera maximizar el recall (ej.:\"prefiero contactar 10 clientes de más que perder 1 que se va\") podríamos optar por la `Regresión Logística`.\n",
        "\n",
        "Si la prioridad es no perder clientes, entonces:\n",
        "\n",
        "- `SVM_rbf` ofrece un casi idéntico recall a la `regresión logística`, pero mejora en F1 Score y precisión.\n",
        "\n",
        "- Esto sugiere que detectamos casi los mismos casos de churn, pero con menos falsos positivos, lo cual es deseable si las acciones de retención tienen costo."
      ]
    },
    {
      "cell_type": "markdown",
      "metadata": {
        "id": "pwaUDYxA2i8l"
      },
      "source": [
        "<hr>"
      ]
    },
    {
      "cell_type": "markdown",
      "metadata": {
        "id": "HaxkOtm5_gPt"
      },
      "source": [
        "<b><h3>Manejo de Redundancia en variables categóricas<h3>"
      ]
    },
    {
      "cell_type": "markdown",
      "metadata": {
        "id": "m_CEy1st_oWx"
      },
      "source": [
        "[...]"
      ]
    },
    {
      "cell_type": "markdown",
      "metadata": {
        "id": "pDseQMIKYQxe"
      },
      "source": [
        "<h3></h3>\n",
        "\n",
        "Si la fila tiene Phone Service == 1 y Multiple Lines == 1, le asigna un 1 en la nueva columna. En caso de no tener Phone Service, o de no tener Multiple Lines, le asigna un 0. Luego, elimina la columna original."
      ]
    },
    {
      "cell_type": "code",
      "execution_count": null,
      "metadata": {
        "id": "OwnAwzkuAQkm"
      },
      "outputs": [],
      "source": [
        "df_mod_1 = df_mod.copy()\n",
        "df_mod_1['HasMultipleLines'] = ((df_mod_1['PhoneService'] == 1) & (df_mod_1['MultipleLines'] == 'Yes')).astype(int)\n",
        "df_mod_1.drop(columns='MultipleLines', inplace=True)"
      ]
    },
    {
      "cell_type": "markdown",
      "metadata": {
        "id": "ICfH8GLJa4W3"
      },
      "source": [
        "[Lo mismo de antes pero con internet_services ...]"
      ]
    },
    {
      "cell_type": "code",
      "execution_count": null,
      "metadata": {
        "id": "urCZJi5va3x-"
      },
      "outputs": [],
      "source": [
        "df_mod_2 = df_mod_1.copy()\n",
        "# Lista de columnas relacionadas con servicios que dependen de tener Internet\n",
        "internet_services = [\n",
        "    'OnlineSecurity', 'OnlineBackup', 'DeviceProtection',\n",
        "    'TechSupport', 'StreamingTV', 'StreamingMovies'\n",
        "]\n",
        "\n",
        "# Crear nuevas variables binarias\n",
        "for col in internet_services:\n",
        "    new_col = 'Has' + col  # Ej: 'HasOnlineSecurity'\n",
        "    df_mod_2[new_col] = ((df_mod_2['InternetService'] != 'No') & (df_mod_2[col] == 'Yes')).astype(int)\n",
        "\n",
        "# Eliminar columnas originales\n",
        "df_mod_2.drop(columns=internet_services, inplace=True)"
      ]
    },
    {
      "cell_type": "markdown",
      "metadata": {
        "id": "fvD4qJ6i6sIl"
      },
      "source": [
        "<b><h3>Transformación de datos<h3>"
      ]
    },
    {
      "cell_type": "markdown",
      "metadata": {
        "id": "dkpflnNzf12O"
      },
      "source": [
        "[Se aplica el binary encoding a las variables binarias recien modificadas...]"
      ]
    },
    {
      "cell_type": "code",
      "execution_count": null,
      "metadata": {
        "id": "dRA5fsFbbHDj"
      },
      "outputs": [],
      "source": [
        "# Transformé variables categóricas de 3 o más opciones con el método dummy coding.\n",
        "df_mod_3 = df_mod_2.copy()\n",
        "# Lista de columnas categóricas a codificar\n",
        "categorical_cols = ['InternetService', 'Contract', 'PaymentMethod']\n",
        "\n",
        "# Aplicar One-Hot Encoding\n",
        "df_mod_3 = pd.get_dummies(df_mod_3, columns=categorical_cols, drop_first=True)"
      ]
    },
    {
      "cell_type": "markdown",
      "metadata": {
        "id": "HxJ9F9eohVEE"
      },
      "source": [
        "[...]"
      ]
    },
    {
      "cell_type": "code",
      "execution_count": null,
      "metadata": {
        "id": "fIF47f74gBTf"
      },
      "outputs": [],
      "source": [
        "# Todas las nuevas columnas creadas por el dummy coding son booleanas, las transformé a numéricas\n",
        "df_mod_4 = df_mod_3.copy()\n",
        "bool_cols = df_mod_4.select_dtypes(include='bool').columns\n",
        "df_mod_4[bool_cols] = df_mod_4[bool_cols].astype(int)"
      ]
    },
    {
      "cell_type": "markdown",
      "metadata": {
        "id": "WbT_vFxbU8ZG"
      },
      "source": [
        "[...]"
      ]
    },
    {
      "cell_type": "code",
      "execution_count": null,
      "metadata": {
        "colab": {
          "base_uri": "https://localhost:8080/"
        },
        "collapsed": true,
        "id": "zhITVAqtVPmd",
        "outputId": "f96445a5-9fb1-4db3-a90b-4661d093fb9a"
      },
      "outputs": [
        {
          "name": "stderr",
          "output_type": "stream",
          "text": [
            "<ipython-input-12-2d92dbfb88ef>:3: FutureWarning: Downcasting behavior in `replace` is deprecated and will be removed in a future version. To retain the old behavior, explicitly call `result.infer_objects(copy=False)`. To opt-in to the future behavior, set `pd.set_option('future.no_silent_downcasting', True)`\n",
            "  df_mod_5['gender'] = df_mod_5['gender'].replace({'Male': 1, 'Female': 0})\n",
            "<ipython-input-12-2d92dbfb88ef>:7: FutureWarning: Downcasting behavior in `replace` is deprecated and will be removed in a future version. To retain the old behavior, explicitly call `result.infer_objects(copy=False)`. To opt-in to the future behavior, set `pd.set_option('future.no_silent_downcasting', True)`\n",
            "  df_mod_5[binary_cols] = df_mod_5[binary_cols].replace({'Yes': 1, 'No': 0})\n"
          ]
        }
      ],
      "source": [
        "# Reemplazo específico para 'gender'\n",
        "df_mod_5 = df_mod_4.copy()\n",
        "df_mod_5['gender'] = df_mod_5['gender'].replace({'Male': 1, 'Female': 0})\n",
        "\n",
        "# Otras variables categóricas binarias (Yes/No)\n",
        "binary_cols = ['Partner', 'Dependents', 'PhoneService', 'PaperlessBilling','Churn']\n",
        "df_mod_5[binary_cols] = df_mod_5[binary_cols].replace({'Yes': 1, 'No': 0})"
      ]
    },
    {
      "cell_type": "code",
      "execution_count": null,
      "metadata": {
        "id": "M46oYQ4VmGRP"
      },
      "outputs": [],
      "source": [
        "# Elimino costumerID\n",
        "df_final = df_mod_5.copy()\n",
        "df_final.drop(columns='customerID', inplace=True)"
      ]
    },
    {
      "cell_type": "markdown",
      "metadata": {
        "id": "6XegeoqsBqHv"
      },
      "source": [
        "<b><h3>División de Datos<h3>\n"
      ]
    },
    {
      "cell_type": "markdown",
      "metadata": {
        "id": "A3txFrzNBuH5"
      },
      "source": [
        "Antes de aplicar cualquier transformación, debemos dividir los datos en `training` y `testing` sets para evitar un **Data Leakage**.\n",
        "\n",
        "\n",
        "\n"
      ]
    },
    {
      "cell_type": "code",
      "execution_count": null,
      "metadata": {
        "id": "jDPAbFhzCUSh"
      },
      "outputs": [],
      "source": [
        "# División de los datos en train y test\n",
        "# ==============================================================================\n",
        "X_train, X_test, y_train, y_test = train_test_split(\n",
        "                                        df_final.drop(columns = 'Churn'),\n",
        "                                        df_final['Churn'],\n",
        "                                        random_state = 22\n",
        "                                    )"
      ]
    },
    {
      "cell_type": "markdown",
      "metadata": {
        "id": "GdY6tliBqKs6"
      },
      "source": [
        "<b><h3>Estandarización de Datos<h3>"
      ]
    },
    {
      "cell_type": "markdown",
      "metadata": {
        "id": "nEHNtdvXqN1d"
      },
      "source": [
        "[...]"
      ]
    },
    {
      "cell_type": "code",
      "execution_count": null,
      "metadata": {
        "id": "NV6NJ0zwqO9z"
      },
      "outputs": [],
      "source": [
        "# Variables a escalar\n",
        "cols_to_scale = ['tenure', 'MonthlyCharges', 'TotalCharges']\n",
        "\n",
        "# Inicializar el escalador\n",
        "scaler = StandardScaler()\n",
        "\n",
        "# Ajustar el escalador solo con datos de entrenamiento\n",
        "X_train_scaled = X_train.copy()\n",
        "X_test_scaled = X_test.copy()\n",
        "\n",
        "X_train_scaled[cols_to_scale] = scaler.fit_transform(X_train[cols_to_scale])\n",
        "X_test_scaled[cols_to_scale] = scaler.transform(X_test[cols_to_scale])"
      ]
    },
    {
      "cell_type": "markdown",
      "metadata": {
        "id": "z7UdAb4CqhrF"
      },
      "source": [
        "## 🔎 Busqueda de un modelo base (Está la misma función más arriba con los datos sin transformar)"
      ]
    },
    {
      "cell_type": "markdown",
      "metadata": {
        "id": "-FjR5uL-qvFi"
      },
      "source": [
        "[Según el profe, podriamos simplemente probar los distintos modelos disponibles y ver cual nos da un mejor rendimiento y a partir de ese realizamos una optimización]"
      ]
    },
    {
      "cell_type": "markdown",
      "metadata": {
        "id": "7X8x_yfGTWFT"
      },
      "source": [
        "[Este lo copié más arriba antes de modificar los datos]"
      ]
    },
    {
      "cell_type": "code",
      "execution_count": null,
      "metadata": {
        "id": "QEam-KbirN0N"
      },
      "outputs": [],
      "source": [
        "def evaluar_modelos(X_train, y_train, X_test, y_test):\n",
        "    modelos = {\n",
        "        'Regresión Logística': LogisticRegression(max_iter=1000),\n",
        "        'HistGradientBoosting': HistGradientBoostingClassifier(),\n",
        "        'XGBoost': XGBClassifier(eval_metric='logloss'),\n",
        "        'LightGBM': LGBMClassifier(verbose=-1)\n",
        "\n",
        "    }\n",
        "\n",
        "    resultados = []\n",
        "\n",
        "    for nombre, modelo in modelos.items():\n",
        "        modelo.fit(X_train, y_train)\n",
        "        y_pred = modelo.predict(X_test)\n",
        "        y_proba = modelo.predict_proba(X_test)[:, 1] if hasattr(modelo, \"predict_proba\") else None\n",
        "\n",
        "        resultados.append({\n",
        "            'Modelo': nombre,\n",
        "            'Balanced Accuracy': balanced_accuracy_score(y_test, y_pred),\n",
        "            'F1 Score': f1_score(y_test, y_pred),\n",
        "            'Recall': recall_score(y_test, y_pred),\n",
        "            'Precision': precision_score(y_test, y_pred),\n",
        "            'ROC AUC': roc_auc_score(y_test, y_proba) if y_proba is not None else None\n",
        "        })\n",
        "\n",
        "    return pd.DataFrame(resultados).sort_values(by='Balanced Accuracy', ascending=False).reset_index(drop=True)"
      ]
    },
    {
      "cell_type": "code",
      "execution_count": null,
      "metadata": {
        "colab": {
          "base_uri": "https://localhost:8080/",
          "height": 175
        },
        "id": "WGkW8byztkUB",
        "outputId": "0da27089-9921-46f4-caaf-18a472c6d794"
      },
      "outputs": [
        {
          "data": {
            "application/vnd.google.colaboratory.intrinsic+json": {
              "summary": "{\n  \"name\": \"df_resultados\",\n  \"rows\": 4,\n  \"fields\": [\n    {\n      \"column\": \"Modelo\",\n      \"properties\": {\n        \"dtype\": \"string\",\n        \"num_unique_values\": 4,\n        \"samples\": [\n          \"LightGBM\",\n          \"XGBoost\",\n          \"Regresi\\u00f3n Log\\u00edstica\"\n        ],\n        \"semantic_type\": \"\",\n        \"description\": \"\"\n      }\n    },\n    {\n      \"column\": \"Balanced Accuracy\",\n      \"properties\": {\n        \"dtype\": \"number\",\n        \"std\": 0.007373089732880428,\n        \"min\": 0.6854830141784606,\n        \"max\": 0.7029694602912959,\n        \"num_unique_values\": 4,\n        \"samples\": [\n          0.6974537364944046,\n          0.6854830141784606,\n          0.7029694602912959\n        ],\n        \"semantic_type\": \"\",\n        \"description\": \"\"\n      }\n    },\n    {\n      \"column\": \"F1 Score\",\n      \"properties\": {\n        \"dtype\": \"number\",\n        \"std\": 0.01189328337232633,\n        \"min\": 0.5442020665901263,\n        \"max\": 0.572405929304447,\n        \"num_unique_values\": 4,\n        \"samples\": [\n          0.563573883161512,\n          0.5442020665901263,\n          0.572405929304447\n        ],\n        \"semantic_type\": \"\",\n        \"description\": \"\"\n      }\n    },\n    {\n      \"column\": \"Recall\",\n      \"properties\": {\n        \"dtype\": \"number\",\n        \"std\": 0.012673480406611664,\n        \"min\": 0.48565573770491804,\n        \"max\": 0.514344262295082,\n        \"num_unique_values\": 4,\n        \"samples\": [\n          0.5040983606557377,\n          0.48565573770491804,\n          0.514344262295082\n        ],\n        \"semantic_type\": \"\",\n        \"description\": \"\"\n      }\n    },\n    {\n      \"column\": \"Precision\",\n      \"properties\": {\n        \"dtype\": \"number\",\n        \"std\": 0.011616878948249884,\n        \"min\": 0.618798955613577,\n        \"max\": 0.6452442159383034,\n        \"num_unique_values\": 4,\n        \"samples\": [\n          0.638961038961039,\n          0.618798955613577,\n          0.6452442159383034\n        ],\n        \"semantic_type\": \"\",\n        \"description\": \"\"\n      }\n    },\n    {\n      \"column\": \"ROC AUC\",\n      \"properties\": {\n        \"dtype\": \"number\",\n        \"std\": 0.007903644189619502,\n        \"min\": 0.8169516953627032,\n        \"max\": 0.8343262655660437,\n        \"num_unique_values\": 4,\n        \"samples\": [\n          0.8292926545014357,\n          0.8169516953627032,\n          0.8343262655660437\n        ],\n        \"semantic_type\": \"\",\n        \"description\": \"\"\n      }\n    }\n  ]\n}",
              "type": "dataframe",
              "variable_name": "df_resultados"
            },
            "text/html": [
              "\n",
              "  <div id=\"df-afaf4c88-652f-4d01-9125-e38925eb632b\" class=\"colab-df-container\">\n",
              "    <div>\n",
              "<style scoped>\n",
              "    .dataframe tbody tr th:only-of-type {\n",
              "        vertical-align: middle;\n",
              "    }\n",
              "\n",
              "    .dataframe tbody tr th {\n",
              "        vertical-align: top;\n",
              "    }\n",
              "\n",
              "    .dataframe thead th {\n",
              "        text-align: right;\n",
              "    }\n",
              "</style>\n",
              "<table border=\"1\" class=\"dataframe\">\n",
              "  <thead>\n",
              "    <tr style=\"text-align: right;\">\n",
              "      <th></th>\n",
              "      <th>Modelo</th>\n",
              "      <th>Balanced Accuracy</th>\n",
              "      <th>F1 Score</th>\n",
              "      <th>Recall</th>\n",
              "      <th>Precision</th>\n",
              "      <th>ROC AUC</th>\n",
              "    </tr>\n",
              "  </thead>\n",
              "  <tbody>\n",
              "    <tr>\n",
              "      <th>0</th>\n",
              "      <td>Regresión Logística</td>\n",
              "      <td>0.702969</td>\n",
              "      <td>0.572406</td>\n",
              "      <td>0.514344</td>\n",
              "      <td>0.645244</td>\n",
              "      <td>0.834326</td>\n",
              "    </tr>\n",
              "    <tr>\n",
              "      <th>1</th>\n",
              "      <td>LightGBM</td>\n",
              "      <td>0.697454</td>\n",
              "      <td>0.563574</td>\n",
              "      <td>0.504098</td>\n",
              "      <td>0.638961</td>\n",
              "      <td>0.829293</td>\n",
              "    </tr>\n",
              "    <tr>\n",
              "      <th>2</th>\n",
              "      <td>HistGradientBoosting</td>\n",
              "      <td>0.697385</td>\n",
              "      <td>0.563348</td>\n",
              "      <td>0.510246</td>\n",
              "      <td>0.628788</td>\n",
              "      <td>0.832919</td>\n",
              "    </tr>\n",
              "    <tr>\n",
              "      <th>3</th>\n",
              "      <td>XGBoost</td>\n",
              "      <td>0.685483</td>\n",
              "      <td>0.544202</td>\n",
              "      <td>0.485656</td>\n",
              "      <td>0.618799</td>\n",
              "      <td>0.816952</td>\n",
              "    </tr>\n",
              "  </tbody>\n",
              "</table>\n",
              "</div>\n",
              "    <div class=\"colab-df-buttons\">\n",
              "\n",
              "  <div class=\"colab-df-container\">\n",
              "    <button class=\"colab-df-convert\" onclick=\"convertToInteractive('df-afaf4c88-652f-4d01-9125-e38925eb632b')\"\n",
              "            title=\"Convert this dataframe to an interactive table.\"\n",
              "            style=\"display:none;\">\n",
              "\n",
              "  <svg xmlns=\"http://www.w3.org/2000/svg\" height=\"24px\" viewBox=\"0 -960 960 960\">\n",
              "    <path d=\"M120-120v-720h720v720H120Zm60-500h600v-160H180v160Zm220 220h160v-160H400v160Zm0 220h160v-160H400v160ZM180-400h160v-160H180v160Zm440 0h160v-160H620v160ZM180-180h160v-160H180v160Zm440 0h160v-160H620v160Z\"/>\n",
              "  </svg>\n",
              "    </button>\n",
              "\n",
              "  <style>\n",
              "    .colab-df-container {\n",
              "      display:flex;\n",
              "      gap: 12px;\n",
              "    }\n",
              "\n",
              "    .colab-df-convert {\n",
              "      background-color: #E8F0FE;\n",
              "      border: none;\n",
              "      border-radius: 50%;\n",
              "      cursor: pointer;\n",
              "      display: none;\n",
              "      fill: #1967D2;\n",
              "      height: 32px;\n",
              "      padding: 0 0 0 0;\n",
              "      width: 32px;\n",
              "    }\n",
              "\n",
              "    .colab-df-convert:hover {\n",
              "      background-color: #E2EBFA;\n",
              "      box-shadow: 0px 1px 2px rgba(60, 64, 67, 0.3), 0px 1px 3px 1px rgba(60, 64, 67, 0.15);\n",
              "      fill: #174EA6;\n",
              "    }\n",
              "\n",
              "    .colab-df-buttons div {\n",
              "      margin-bottom: 4px;\n",
              "    }\n",
              "\n",
              "    [theme=dark] .colab-df-convert {\n",
              "      background-color: #3B4455;\n",
              "      fill: #D2E3FC;\n",
              "    }\n",
              "\n",
              "    [theme=dark] .colab-df-convert:hover {\n",
              "      background-color: #434B5C;\n",
              "      box-shadow: 0px 1px 3px 1px rgba(0, 0, 0, 0.15);\n",
              "      filter: drop-shadow(0px 1px 2px rgba(0, 0, 0, 0.3));\n",
              "      fill: #FFFFFF;\n",
              "    }\n",
              "  </style>\n",
              "\n",
              "    <script>\n",
              "      const buttonEl =\n",
              "        document.querySelector('#df-afaf4c88-652f-4d01-9125-e38925eb632b button.colab-df-convert');\n",
              "      buttonEl.style.display =\n",
              "        google.colab.kernel.accessAllowed ? 'block' : 'none';\n",
              "\n",
              "      async function convertToInteractive(key) {\n",
              "        const element = document.querySelector('#df-afaf4c88-652f-4d01-9125-e38925eb632b');\n",
              "        const dataTable =\n",
              "          await google.colab.kernel.invokeFunction('convertToInteractive',\n",
              "                                                    [key], {});\n",
              "        if (!dataTable) return;\n",
              "\n",
              "        const docLinkHtml = 'Like what you see? Visit the ' +\n",
              "          '<a target=\"_blank\" href=https://colab.research.google.com/notebooks/data_table.ipynb>data table notebook</a>'\n",
              "          + ' to learn more about interactive tables.';\n",
              "        element.innerHTML = '';\n",
              "        dataTable['output_type'] = 'display_data';\n",
              "        await google.colab.output.renderOutput(dataTable, element);\n",
              "        const docLink = document.createElement('div');\n",
              "        docLink.innerHTML = docLinkHtml;\n",
              "        element.appendChild(docLink);\n",
              "      }\n",
              "    </script>\n",
              "  </div>\n",
              "\n",
              "\n",
              "    <div id=\"df-cb7dd8ed-585f-4211-8e43-f7ad80a68a05\">\n",
              "      <button class=\"colab-df-quickchart\" onclick=\"quickchart('df-cb7dd8ed-585f-4211-8e43-f7ad80a68a05')\"\n",
              "                title=\"Suggest charts\"\n",
              "                style=\"display:none;\">\n",
              "\n",
              "<svg xmlns=\"http://www.w3.org/2000/svg\" height=\"24px\"viewBox=\"0 0 24 24\"\n",
              "     width=\"24px\">\n",
              "    <g>\n",
              "        <path d=\"M19 3H5c-1.1 0-2 .9-2 2v14c0 1.1.9 2 2 2h14c1.1 0 2-.9 2-2V5c0-1.1-.9-2-2-2zM9 17H7v-7h2v7zm4 0h-2V7h2v10zm4 0h-2v-4h2v4z\"/>\n",
              "    </g>\n",
              "</svg>\n",
              "      </button>\n",
              "\n",
              "<style>\n",
              "  .colab-df-quickchart {\n",
              "      --bg-color: #E8F0FE;\n",
              "      --fill-color: #1967D2;\n",
              "      --hover-bg-color: #E2EBFA;\n",
              "      --hover-fill-color: #174EA6;\n",
              "      --disabled-fill-color: #AAA;\n",
              "      --disabled-bg-color: #DDD;\n",
              "  }\n",
              "\n",
              "  [theme=dark] .colab-df-quickchart {\n",
              "      --bg-color: #3B4455;\n",
              "      --fill-color: #D2E3FC;\n",
              "      --hover-bg-color: #434B5C;\n",
              "      --hover-fill-color: #FFFFFF;\n",
              "      --disabled-bg-color: #3B4455;\n",
              "      --disabled-fill-color: #666;\n",
              "  }\n",
              "\n",
              "  .colab-df-quickchart {\n",
              "    background-color: var(--bg-color);\n",
              "    border: none;\n",
              "    border-radius: 50%;\n",
              "    cursor: pointer;\n",
              "    display: none;\n",
              "    fill: var(--fill-color);\n",
              "    height: 32px;\n",
              "    padding: 0;\n",
              "    width: 32px;\n",
              "  }\n",
              "\n",
              "  .colab-df-quickchart:hover {\n",
              "    background-color: var(--hover-bg-color);\n",
              "    box-shadow: 0 1px 2px rgba(60, 64, 67, 0.3), 0 1px 3px 1px rgba(60, 64, 67, 0.15);\n",
              "    fill: var(--button-hover-fill-color);\n",
              "  }\n",
              "\n",
              "  .colab-df-quickchart-complete:disabled,\n",
              "  .colab-df-quickchart-complete:disabled:hover {\n",
              "    background-color: var(--disabled-bg-color);\n",
              "    fill: var(--disabled-fill-color);\n",
              "    box-shadow: none;\n",
              "  }\n",
              "\n",
              "  .colab-df-spinner {\n",
              "    border: 2px solid var(--fill-color);\n",
              "    border-color: transparent;\n",
              "    border-bottom-color: var(--fill-color);\n",
              "    animation:\n",
              "      spin 1s steps(1) infinite;\n",
              "  }\n",
              "\n",
              "  @keyframes spin {\n",
              "    0% {\n",
              "      border-color: transparent;\n",
              "      border-bottom-color: var(--fill-color);\n",
              "      border-left-color: var(--fill-color);\n",
              "    }\n",
              "    20% {\n",
              "      border-color: transparent;\n",
              "      border-left-color: var(--fill-color);\n",
              "      border-top-color: var(--fill-color);\n",
              "    }\n",
              "    30% {\n",
              "      border-color: transparent;\n",
              "      border-left-color: var(--fill-color);\n",
              "      border-top-color: var(--fill-color);\n",
              "      border-right-color: var(--fill-color);\n",
              "    }\n",
              "    40% {\n",
              "      border-color: transparent;\n",
              "      border-right-color: var(--fill-color);\n",
              "      border-top-color: var(--fill-color);\n",
              "    }\n",
              "    60% {\n",
              "      border-color: transparent;\n",
              "      border-right-color: var(--fill-color);\n",
              "    }\n",
              "    80% {\n",
              "      border-color: transparent;\n",
              "      border-right-color: var(--fill-color);\n",
              "      border-bottom-color: var(--fill-color);\n",
              "    }\n",
              "    90% {\n",
              "      border-color: transparent;\n",
              "      border-bottom-color: var(--fill-color);\n",
              "    }\n",
              "  }\n",
              "</style>\n",
              "\n",
              "      <script>\n",
              "        async function quickchart(key) {\n",
              "          const quickchartButtonEl =\n",
              "            document.querySelector('#' + key + ' button');\n",
              "          quickchartButtonEl.disabled = true;  // To prevent multiple clicks.\n",
              "          quickchartButtonEl.classList.add('colab-df-spinner');\n",
              "          try {\n",
              "            const charts = await google.colab.kernel.invokeFunction(\n",
              "                'suggestCharts', [key], {});\n",
              "          } catch (error) {\n",
              "            console.error('Error during call to suggestCharts:', error);\n",
              "          }\n",
              "          quickchartButtonEl.classList.remove('colab-df-spinner');\n",
              "          quickchartButtonEl.classList.add('colab-df-quickchart-complete');\n",
              "        }\n",
              "        (() => {\n",
              "          let quickchartButtonEl =\n",
              "            document.querySelector('#df-cb7dd8ed-585f-4211-8e43-f7ad80a68a05 button');\n",
              "          quickchartButtonEl.style.display =\n",
              "            google.colab.kernel.accessAllowed ? 'block' : 'none';\n",
              "        })();\n",
              "      </script>\n",
              "    </div>\n",
              "\n",
              "  <div id=\"id_420f6548-197d-42a0-9d59-51ab8f872f3c\">\n",
              "    <style>\n",
              "      .colab-df-generate {\n",
              "        background-color: #E8F0FE;\n",
              "        border: none;\n",
              "        border-radius: 50%;\n",
              "        cursor: pointer;\n",
              "        display: none;\n",
              "        fill: #1967D2;\n",
              "        height: 32px;\n",
              "        padding: 0 0 0 0;\n",
              "        width: 32px;\n",
              "      }\n",
              "\n",
              "      .colab-df-generate:hover {\n",
              "        background-color: #E2EBFA;\n",
              "        box-shadow: 0px 1px 2px rgba(60, 64, 67, 0.3), 0px 1px 3px 1px rgba(60, 64, 67, 0.15);\n",
              "        fill: #174EA6;\n",
              "      }\n",
              "\n",
              "      [theme=dark] .colab-df-generate {\n",
              "        background-color: #3B4455;\n",
              "        fill: #D2E3FC;\n",
              "      }\n",
              "\n",
              "      [theme=dark] .colab-df-generate:hover {\n",
              "        background-color: #434B5C;\n",
              "        box-shadow: 0px 1px 3px 1px rgba(0, 0, 0, 0.15);\n",
              "        filter: drop-shadow(0px 1px 2px rgba(0, 0, 0, 0.3));\n",
              "        fill: #FFFFFF;\n",
              "      }\n",
              "    </style>\n",
              "    <button class=\"colab-df-generate\" onclick=\"generateWithVariable('df_resultados')\"\n",
              "            title=\"Generate code using this dataframe.\"\n",
              "            style=\"display:none;\">\n",
              "\n",
              "  <svg xmlns=\"http://www.w3.org/2000/svg\" height=\"24px\"viewBox=\"0 0 24 24\"\n",
              "       width=\"24px\">\n",
              "    <path d=\"M7,19H8.4L18.45,9,17,7.55,7,17.6ZM5,21V16.75L18.45,3.32a2,2,0,0,1,2.83,0l1.4,1.43a1.91,1.91,0,0,1,.58,1.4,1.91,1.91,0,0,1-.58,1.4L9.25,21ZM18.45,9,17,7.55Zm-12,3A5.31,5.31,0,0,0,4.9,8.1,5.31,5.31,0,0,0,1,6.5,5.31,5.31,0,0,0,4.9,4.9,5.31,5.31,0,0,0,6.5,1,5.31,5.31,0,0,0,8.1,4.9,5.31,5.31,0,0,0,12,6.5,5.46,5.46,0,0,0,6.5,12Z\"/>\n",
              "  </svg>\n",
              "    </button>\n",
              "    <script>\n",
              "      (() => {\n",
              "      const buttonEl =\n",
              "        document.querySelector('#id_420f6548-197d-42a0-9d59-51ab8f872f3c button.colab-df-generate');\n",
              "      buttonEl.style.display =\n",
              "        google.colab.kernel.accessAllowed ? 'block' : 'none';\n",
              "\n",
              "      buttonEl.onclick = () => {\n",
              "        google.colab.notebook.generateWithVariable('df_resultados');\n",
              "      }\n",
              "      })();\n",
              "    </script>\n",
              "  </div>\n",
              "\n",
              "    </div>\n",
              "  </div>\n"
            ],
            "text/plain": [
              "                 Modelo  Balanced Accuracy  F1 Score    Recall  Precision  \\\n",
              "0   Regresión Logística           0.702969  0.572406  0.514344   0.645244   \n",
              "1              LightGBM           0.697454  0.563574  0.504098   0.638961   \n",
              "2  HistGradientBoosting           0.697385  0.563348  0.510246   0.628788   \n",
              "3               XGBoost           0.685483  0.544202  0.485656   0.618799   \n",
              "\n",
              "    ROC AUC  \n",
              "0  0.834326  \n",
              "1  0.829293  \n",
              "2  0.832919  \n",
              "3  0.816952  "
            ]
          },
          "execution_count": 45,
          "metadata": {},
          "output_type": "execute_result"
        }
      ],
      "source": [
        "df_resultados = evaluar_modelos(X_train_scaled, y_train, X_test_scaled, y_test)\n",
        "df_resultados\n"
      ]
    },
    {
      "cell_type": "markdown",
      "metadata": {
        "id": "H9WlzC-mGZX1"
      },
      "source": [
        "##🧠 Entrenamiento del modelo"
      ]
    },
    {
      "cell_type": "markdown",
      "metadata": {
        "id": "rTHaZ9B_G3nc"
      },
      "source": [
        "*Hablar un poco del modelo que elegimos*"
      ]
    },
    {
      "cell_type": "code",
      "execution_count": null,
      "metadata": {
        "id": "lvBwatHrGbWi"
      },
      "outputs": [],
      "source": [
        "#\n",
        "# ..."
      ]
    },
    {
      "cell_type": "markdown",
      "metadata": {
        "id": "x8hppMdbNMqR"
      },
      "source": [
        "###Grid Search basado en validación cruzada"
      ]
    },
    {
      "cell_type": "code",
      "execution_count": null,
      "metadata": {
        "id": "J6I2OfviNPn8"
      },
      "outputs": [],
      "source": [
        "#..."
      ]
    },
    {
      "cell_type": "markdown",
      "metadata": {
        "id": "85rUykPcNTEz"
      },
      "source": [
        "###Predicción y Evaluación del modelo"
      ]
    },
    {
      "cell_type": "code",
      "execution_count": null,
      "metadata": {
        "id": "N7tn-hrqNV37"
      },
      "outputs": [],
      "source": []
    },
    {
      "cell_type": "markdown",
      "metadata": {
        "id": "nfS5rEoTNliE"
      },
      "source": [
        "###Predicción de Probabilidades"
      ]
    },
    {
      "cell_type": "markdown",
      "metadata": {
        "id": "C8tMIqZBNpM5"
      },
      "source": [
        "*En caso de usar un modelo de ensamble, tambien podemos obtener la probabilidad que asigna el árbol de que un valor pertenezca a una clase u otra.*"
      ]
    },
    {
      "cell_type": "code",
      "execution_count": null,
      "metadata": {
        "id": "R_ezDZqVNoNy"
      },
      "outputs": [],
      "source": [
        "#..."
      ]
    },
    {
      "cell_type": "markdown",
      "metadata": {
        "id": "v8OTmVZ5Nzat"
      },
      "source": [
        "###Importancia de Predictores"
      ]
    },
    {
      "cell_type": "code",
      "execution_count": null,
      "metadata": {
        "id": "x0xGW8FjOAPX"
      },
      "outputs": [],
      "source": [
        "#..."
      ]
    }
  ],
  "metadata": {
    "colab": {
      "collapsed_sections": [
        "FjepC8AdtgaQ",
        "z7UdAb4CqhrF"
      ],
      "provenance": []
    },
    "kernelspec": {
      "display_name": "mi_entorno",
      "language": "python",
      "name": "python3"
    },
    "language_info": {
      "codemirror_mode": {
        "name": "ipython",
        "version": 3
      },
      "file_extension": ".py",
      "mimetype": "text/x-python",
      "name": "python",
      "nbconvert_exporter": "python",
      "pygments_lexer": "ipython3",
      "version": "3.13.2"
    }
  },
  "nbformat": 4,
  "nbformat_minor": 0
}
