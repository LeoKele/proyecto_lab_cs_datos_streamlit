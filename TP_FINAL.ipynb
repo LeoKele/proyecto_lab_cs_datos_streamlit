{
  "cells": [
    {
      "cell_type": "markdown",
      "metadata": {
        "id": "ZTnvSI2isker"
      },
      "source": [
        "<h1>🎓 Trabajo Integrador Final</h1>"
      ]
    },
    {
      "cell_type": "markdown",
      "metadata": {
        "id": "_gLVM9ggspl2"
      },
      "source": [
        "<h2>Integrantes</h2>\n",
        "<ul>\n",
        "  <li></li>\n",
        "  <li></li>\n",
        "  <li>Evers Juan Segundo</li>\n",
        "  <li>Kelechian Leonardo</li>\n",
        "</ul>"
      ]
    },
    {
      "cell_type": "markdown",
      "metadata": {
        "id": "7yFd-kOCsyfD"
      },
      "source": [
        "<h2>Introducción</h2>\n",
        "<p>[...]</p>"
      ]
    },
    {
      "cell_type": "markdown",
      "metadata": {
        "id": "Y0_UOr9vtD2j"
      },
      "source": [
        "<hr>"
      ]
    },
    {
      "cell_type": "markdown",
      "metadata": {
        "id": "8x9iOSaxtFww"
      },
      "source": [
        "<h3>Importamos las librerias que usaremos durante el proyecto</h3>"
      ]
    },
    {
      "cell_type": "code",
      "execution_count": 1,
      "metadata": {
        "id": "7gbnSPQGt9h2"
      },
      "outputs": [],
      "source": [
        "# Conexión con Google Drive\n",
        "# from google.colab import drive\n",
        "# import os\n",
        "\n",
        "# Tratamiento de datos\n",
        "# ==============================================================================\n",
        "import pandas as pd\n",
        "import numpy as np\n",
        "\n",
        "\n",
        "import pickle\n",
        "\n",
        "# Gráficos\n",
        "# ==============================================================================\n",
        "import matplotlib.pyplot as plt\n",
        "import seaborn as sns\n",
        "\n",
        "# Análisis Estadísticos\n",
        "from scipy import stats\n",
        "\n",
        "# PreProcesado y modelado\n",
        "# ==============================================================================\n",
        "from sklearn.model_selection import train_test_split\n",
        "from sklearn.preprocessing import StandardScaler\n",
        "from sklearn.preprocessing import OneHotEncoder\n",
        "\n",
        "from sklearn.linear_model import LogisticRegression\n",
        "from sklearn.ensemble import HistGradientBoostingClassifier, RandomForestClassifier\n",
        "from sklearn.svm import SVC\n",
        "from xgboost import XGBClassifier\n",
        "from lightgbm import LGBMClassifier\n",
        "\n",
        "from sklearn.metrics import balanced_accuracy_score, f1_score, recall_score, precision_score, roc_auc_score, average_precision_score"
      ]
    },
    {
      "cell_type": "markdown",
      "metadata": {
        "id": "f0aqbE3ctPJA"
      },
      "source": [
        "<h3>Conectamos Google Drive y cargamos el dataset</h3>"
      ]
    },
    {
      "cell_type": "code",
      "execution_count": 2,
      "metadata": {
        "colab": {
          "base_uri": "https://localhost:8080/"
        },
        "id": "RbmLQY4I5K6w",
        "outputId": "ba15ecfa-e0e1-4483-a6cc-cab975027f7e"
      },
      "outputs": [],
      "source": [
        "# drive.mount('/content/drive')"
      ]
    },
    {
      "cell_type": "code",
      "execution_count": 2,
      "metadata": {
        "id": "_kNiES9k5MTZ"
      },
      "outputs": [],
      "source": [
        "# elegir la carpeta donde estan las bases de datos:\n",
        "# ruta_base = \"/content/drive/MyDrive/\"\n",
        "# ruta_laboratorio = os.path.join(ruta_base, \"Laboratorio de Ciencia de Datos\")\n",
        "# ruta_bases_datos = os.path.join(ruta_laboratorio, \"Bases de Datos\")\n",
        "\n",
        "# # elegir la base de datos que quiero usar:\n",
        "# ruta_archivo = os.path.join(ruta_bases_datos, \"Grupo 3 - Abandono de Clientes.csv\")\n",
        "ruta_archivo = \"data/Grupo 3 - Abandono de Clientes.csv\""
      ]
    },
    {
      "cell_type": "code",
      "execution_count": 3,
      "metadata": {
        "colab": {
          "base_uri": "https://localhost:8080/",
          "height": 342
        },
        "id": "yZth1TEyelrL",
        "outputId": "cb627137-fb2f-4119-9664-f0ca4c7c55fd"
      },
      "outputs": [
        {
          "data": {
            "text/html": [
              "<div>\n",
              "<style scoped>\n",
              "    .dataframe tbody tr th:only-of-type {\n",
              "        vertical-align: middle;\n",
              "    }\n",
              "\n",
              "    .dataframe tbody tr th {\n",
              "        vertical-align: top;\n",
              "    }\n",
              "\n",
              "    .dataframe thead th {\n",
              "        text-align: right;\n",
              "    }\n",
              "</style>\n",
              "<table border=\"1\" class=\"dataframe\">\n",
              "  <thead>\n",
              "    <tr style=\"text-align: right;\">\n",
              "      <th></th>\n",
              "      <th>customerID</th>\n",
              "      <th>gender</th>\n",
              "      <th>SeniorCitizen</th>\n",
              "      <th>Partner</th>\n",
              "      <th>Dependents</th>\n",
              "      <th>tenure</th>\n",
              "      <th>PhoneService</th>\n",
              "      <th>MultipleLines</th>\n",
              "      <th>InternetService</th>\n",
              "      <th>OnlineSecurity</th>\n",
              "      <th>...</th>\n",
              "      <th>DeviceProtection</th>\n",
              "      <th>TechSupport</th>\n",
              "      <th>StreamingTV</th>\n",
              "      <th>StreamingMovies</th>\n",
              "      <th>Contract</th>\n",
              "      <th>PaperlessBilling</th>\n",
              "      <th>PaymentMethod</th>\n",
              "      <th>MonthlyCharges</th>\n",
              "      <th>TotalCharges</th>\n",
              "      <th>Churn</th>\n",
              "    </tr>\n",
              "  </thead>\n",
              "  <tbody>\n",
              "    <tr>\n",
              "      <th>0</th>\n",
              "      <td>7590-VHVEG</td>\n",
              "      <td>Female</td>\n",
              "      <td>0</td>\n",
              "      <td>Yes</td>\n",
              "      <td>No</td>\n",
              "      <td>1</td>\n",
              "      <td>No</td>\n",
              "      <td>No phone service</td>\n",
              "      <td>DSL</td>\n",
              "      <td>No</td>\n",
              "      <td>...</td>\n",
              "      <td>No</td>\n",
              "      <td>No</td>\n",
              "      <td>No</td>\n",
              "      <td>No</td>\n",
              "      <td>Month-to-month</td>\n",
              "      <td>Yes</td>\n",
              "      <td>Electronic check</td>\n",
              "      <td>29.85</td>\n",
              "      <td>29.85</td>\n",
              "      <td>No</td>\n",
              "    </tr>\n",
              "    <tr>\n",
              "      <th>1</th>\n",
              "      <td>5575-GNVDE</td>\n",
              "      <td>Male</td>\n",
              "      <td>0</td>\n",
              "      <td>No</td>\n",
              "      <td>No</td>\n",
              "      <td>34</td>\n",
              "      <td>Yes</td>\n",
              "      <td>No</td>\n",
              "      <td>DSL</td>\n",
              "      <td>Yes</td>\n",
              "      <td>...</td>\n",
              "      <td>Yes</td>\n",
              "      <td>No</td>\n",
              "      <td>No</td>\n",
              "      <td>No</td>\n",
              "      <td>One year</td>\n",
              "      <td>No</td>\n",
              "      <td>Mailed check</td>\n",
              "      <td>56.95</td>\n",
              "      <td>1889.5</td>\n",
              "      <td>No</td>\n",
              "    </tr>\n",
              "    <tr>\n",
              "      <th>2</th>\n",
              "      <td>3668-QPYBK</td>\n",
              "      <td>Male</td>\n",
              "      <td>0</td>\n",
              "      <td>No</td>\n",
              "      <td>No</td>\n",
              "      <td>2</td>\n",
              "      <td>Yes</td>\n",
              "      <td>No</td>\n",
              "      <td>DSL</td>\n",
              "      <td>Yes</td>\n",
              "      <td>...</td>\n",
              "      <td>No</td>\n",
              "      <td>No</td>\n",
              "      <td>No</td>\n",
              "      <td>No</td>\n",
              "      <td>Month-to-month</td>\n",
              "      <td>Yes</td>\n",
              "      <td>Mailed check</td>\n",
              "      <td>53.85</td>\n",
              "      <td>108.15</td>\n",
              "      <td>Yes</td>\n",
              "    </tr>\n",
              "    <tr>\n",
              "      <th>3</th>\n",
              "      <td>7795-CFOCW</td>\n",
              "      <td>Male</td>\n",
              "      <td>0</td>\n",
              "      <td>No</td>\n",
              "      <td>No</td>\n",
              "      <td>45</td>\n",
              "      <td>No</td>\n",
              "      <td>No phone service</td>\n",
              "      <td>DSL</td>\n",
              "      <td>Yes</td>\n",
              "      <td>...</td>\n",
              "      <td>Yes</td>\n",
              "      <td>Yes</td>\n",
              "      <td>No</td>\n",
              "      <td>No</td>\n",
              "      <td>One year</td>\n",
              "      <td>No</td>\n",
              "      <td>Bank transfer (automatic)</td>\n",
              "      <td>42.30</td>\n",
              "      <td>1840.75</td>\n",
              "      <td>No</td>\n",
              "    </tr>\n",
              "    <tr>\n",
              "      <th>4</th>\n",
              "      <td>9237-HQITU</td>\n",
              "      <td>Female</td>\n",
              "      <td>0</td>\n",
              "      <td>No</td>\n",
              "      <td>No</td>\n",
              "      <td>2</td>\n",
              "      <td>Yes</td>\n",
              "      <td>No</td>\n",
              "      <td>Fiber optic</td>\n",
              "      <td>No</td>\n",
              "      <td>...</td>\n",
              "      <td>No</td>\n",
              "      <td>No</td>\n",
              "      <td>No</td>\n",
              "      <td>No</td>\n",
              "      <td>Month-to-month</td>\n",
              "      <td>Yes</td>\n",
              "      <td>Electronic check</td>\n",
              "      <td>70.70</td>\n",
              "      <td>151.65</td>\n",
              "      <td>Yes</td>\n",
              "    </tr>\n",
              "  </tbody>\n",
              "</table>\n",
              "<p>5 rows × 21 columns</p>\n",
              "</div>"
            ],
            "text/plain": [
              "   customerID  gender  SeniorCitizen Partner Dependents  tenure PhoneService  \\\n",
              "0  7590-VHVEG  Female              0     Yes         No       1           No   \n",
              "1  5575-GNVDE    Male              0      No         No      34          Yes   \n",
              "2  3668-QPYBK    Male              0      No         No       2          Yes   \n",
              "3  7795-CFOCW    Male              0      No         No      45           No   \n",
              "4  9237-HQITU  Female              0      No         No       2          Yes   \n",
              "\n",
              "      MultipleLines InternetService OnlineSecurity  ... DeviceProtection  \\\n",
              "0  No phone service             DSL             No  ...               No   \n",
              "1                No             DSL            Yes  ...              Yes   \n",
              "2                No             DSL            Yes  ...               No   \n",
              "3  No phone service             DSL            Yes  ...              Yes   \n",
              "4                No     Fiber optic             No  ...               No   \n",
              "\n",
              "  TechSupport StreamingTV StreamingMovies        Contract PaperlessBilling  \\\n",
              "0          No          No              No  Month-to-month              Yes   \n",
              "1          No          No              No        One year               No   \n",
              "2          No          No              No  Month-to-month              Yes   \n",
              "3         Yes          No              No        One year               No   \n",
              "4          No          No              No  Month-to-month              Yes   \n",
              "\n",
              "               PaymentMethod MonthlyCharges  TotalCharges Churn  \n",
              "0           Electronic check          29.85         29.85    No  \n",
              "1               Mailed check          56.95        1889.5    No  \n",
              "2               Mailed check          53.85        108.15   Yes  \n",
              "3  Bank transfer (automatic)          42.30       1840.75    No  \n",
              "4           Electronic check          70.70        151.65   Yes  \n",
              "\n",
              "[5 rows x 21 columns]"
            ]
          },
          "execution_count": 3,
          "metadata": {},
          "output_type": "execute_result"
        }
      ],
      "source": [
        "#Cargar el dataset\n",
        "data = pd.read_csv(ruta_archivo, sep=',', encoding='utf-8')\n",
        "data.head()"
      ]
    },
    {
      "cell_type": "code",
      "execution_count": 4,
      "metadata": {
        "colab": {
          "base_uri": "https://localhost:8080/"
        },
        "id": "1RVvrMSVfk7i",
        "outputId": "3afbb317-1f13-49c7-cf28-53fa7213394d"
      },
      "outputs": [
        {
          "name": "stdout",
          "output_type": "stream",
          "text": [
            "<class 'pandas.core.frame.DataFrame'>\n",
            "RangeIndex: 7043 entries, 0 to 7042\n",
            "Data columns (total 21 columns):\n",
            " #   Column            Non-Null Count  Dtype  \n",
            "---  ------            --------------  -----  \n",
            " 0   customerID        7043 non-null   object \n",
            " 1   gender            7043 non-null   object \n",
            " 2   SeniorCitizen     7043 non-null   int64  \n",
            " 3   Partner           7043 non-null   object \n",
            " 4   Dependents        7043 non-null   object \n",
            " 5   tenure            7043 non-null   int64  \n",
            " 6   PhoneService      7043 non-null   object \n",
            " 7   MultipleLines     7043 non-null   object \n",
            " 8   InternetService   7043 non-null   object \n",
            " 9   OnlineSecurity    7043 non-null   object \n",
            " 10  OnlineBackup      7043 non-null   object \n",
            " 11  DeviceProtection  7043 non-null   object \n",
            " 12  TechSupport       7043 non-null   object \n",
            " 13  StreamingTV       7043 non-null   object \n",
            " 14  StreamingMovies   7043 non-null   object \n",
            " 15  Contract          7043 non-null   object \n",
            " 16  PaperlessBilling  7043 non-null   object \n",
            " 17  PaymentMethod     7043 non-null   object \n",
            " 18  MonthlyCharges    7043 non-null   float64\n",
            " 19  TotalCharges      7043 non-null   object \n",
            " 20  Churn             7043 non-null   object \n",
            "dtypes: float64(1), int64(2), object(18)\n",
            "memory usage: 1.1+ MB\n"
          ]
        }
      ],
      "source": [
        "#Hacemos una primera vista a nuestros datos\n",
        "data.info()"
      ]
    },
    {
      "cell_type": "markdown",
      "metadata": {
        "id": "FjepC8AdtgaQ"
      },
      "source": [
        "##⚙️ Preparación de los datos"
      ]
    },
    {
      "cell_type": "markdown",
      "metadata": {
        "id": "K1B1zNhv69M0"
      },
      "source": [
        "<b><h3>Limpieza de datos<h3>"
      ]
    },
    {
      "cell_type": "markdown",
      "metadata": {
        "id": "327oETustmrt"
      },
      "source": [
        "Antes de arrancar, tenemos que corroborar que los datos se encuentren limpios de forma tal que no afecten negativamente al modelo."
      ]
    },
    {
      "cell_type": "markdown",
      "metadata": {
        "id": "frLlNVYBes3W"
      },
      "source": [
        "Luego de realizar un pequeño análisis univariado a las columnas de nuestro data set, encontramos que la columna `TotalCharges` era de tipo *object* cuando esta debería ser *float*. Entonces, la casteamos y encontramos también que escondía un par de valores nulos."
      ]
    },
    {
      "cell_type": "code",
      "execution_count": 5,
      "metadata": {
        "colab": {
          "base_uri": "https://localhost:8080/"
        },
        "id": "pSbHvIIvx7-a",
        "outputId": "519dace3-caf4-4ed9-cae2-e6cfdf0da321"
      },
      "outputs": [
        {
          "name": "stdout",
          "output_type": "stream",
          "text": [
            "Cantidad de filas con valor nulo en 'Total Charges': 11\n"
          ]
        }
      ],
      "source": [
        "# Crear una copia del DataFrame para no modificar el original\n",
        "df_mod = data.copy()\n",
        "\n",
        "# Convertir TotalCharges a tipo numérico (float) y manejar errores\n",
        "df_mod['TotalCharges'] = pd.to_numeric(df_mod['TotalCharges'], errors='coerce')\n",
        "\n",
        "# Revisar valores faltantes o nulos en TotalCharges\n",
        "print(f\"Cantidad de filas con valor nulo en 'Total Charges': {df_mod['TotalCharges'].isnull().sum()}\");\n"
      ]
    },
    {
      "cell_type": "markdown",
      "metadata": {
        "id": "Y89CiJFJ1GCP"
      },
      "source": [
        "Como vemos, ahora existen 11 filas con valor nulo en esta variable. Si bien no son muchos valores, podríamos eliminarlos y es posible que el resultado final no varíe tanto, pero, decidimos que con el propósito de mantener todos los datos originales, se realizará una **Imputación por la mediana**.\n"
      ]
    },
    {
      "cell_type": "code",
      "execution_count": 6,
      "metadata": {
        "colab": {
          "base_uri": "https://localhost:8080/"
        },
        "id": "MDfO9ZOgxjDR",
        "outputId": "b755d803-89e9-442f-82ac-879daf5bafb6"
      },
      "outputs": [
        {
          "name": "stdout",
          "output_type": "stream",
          "text": [
            "Cantidad de filas después de eliminar nulos: 7032\n",
            "Filas eliminadas: 11\n"
          ]
        }
      ],
      "source": [
        "# Eliminamos las filas con valores nulos en TotalCharges\n",
        "df_mod = df_mod.dropna(subset=['TotalCharges'])\n",
        "print(f\"Cantidad de filas después de eliminar nulos: {len(df_mod)}\")\n",
        "print(f\"Filas eliminadas: {len(data) - len(df_mod)}\")"
      ]
    },
    {
      "cell_type": "markdown",
      "metadata": {
        "id": "nMgDXA2y2fSF"
      },
      "source": [
        "Ahora si, la variable `TotalCharges` ya se encuentra en el tipo de dato correcto y con sus valores nulos tratados."
      ]
    },
    {
      "cell_type": "markdown",
      "metadata": {
        "id": "pbv0UeQtglyD"
      },
      "source": [
        "Luego, el resto de las variables del dataset no requieren ningún cambio de tipo de dato, limpieza o tratamiento de outliers."
      ]
    },
    {
      "cell_type": "markdown",
      "metadata": {
        "id": "_lphSJ8zTdLi"
      },
      "source": [
        "---\n"
      ]
    },
    {
      "cell_type": "markdown",
      "metadata": {
        "id": "9xi_oWpXycsY"
      },
      "source": [
        "## 🔎 Busqueda de Modelo Base"
      ]
    },
    {
      "cell_type": "markdown",
      "metadata": {
        "id": "ZMsVxhxNy5XK"
      },
      "source": [
        "Realizamos entrenamiento de modelos varios para ver cual elegimos y así realizar una busqueda de hiperparámetros"
      ]
    },
    {
      "cell_type": "markdown",
      "metadata": {
        "id": "GCSAh2XJ9Xdj"
      },
      "source": [
        "Hay que tener cuidado con esto ya que hay modelos que no necesitan estandarizacion como:\n",
        "\n",
        "- Árboles de decisión\n",
        "- Random Forest\n",
        "- Gradient Boosting (XGBoost, LightGBM, HistGradientBoosting)\n",
        "\n",
        "Pero luego los siguientes modelos si necesitan estandarización:\n",
        "- Regresión Logística\n",
        "- SVM (especialmente con kernel RBF o polinómico)\n",
        "\n",
        "Entonces…\n",
        "- Las métricas de SVM y Regresión Logística ahora son confiables hasta cierto punto, pero probablemente mejorarían con los datos estandarizados.\n",
        "\n",
        "- Es posible que SVM con RBF haya rendido tan mal justamente por esto."
      ]
    },
    {
      "cell_type": "markdown",
      "metadata": {
        "id": "GxOeJJnzB2QV"
      },
      "source": [
        "Por ende, dividiremos esta busqueda en dos fases:\n",
        "- Comparación rápida sin procesar -> Donde solo confiaremos en las métricas de los modelos de árboles\n",
        "- Comparación con estandarización -> Usaremos la misma función pero solo con los modelos sensibles a las escalas y el data set previamente estandarizado\n",
        "\n",
        "Por ultimo, compararemos resultados."
      ]
    },
    {
      "cell_type": "markdown",
      "metadata": {
        "id": "pde6CjqACRdw"
      },
      "source": [
        "### 🔍 Fase 1 - Comparación rápida sin procesar"
      ]
    },
    {
      "cell_type": "code",
      "execution_count": 9,
      "metadata": {
        "id": "BeX2W-PDTehi"
      },
      "outputs": [],
      "source": [
        "#Esta función agarraria la BBDD sin realizar transformaciones y luego nos devuelve las métricas de cada modelo puesto\n",
        "def evaluar_modelos(X_train, y_train, X_test, y_test):\n",
        "    modelos = {\n",
        "        #Estos son \"tweaks iniciales seguros\" que no se consideran tuning agresivo, sino buenas prácticas para establecer un baseline justo\n",
        "        'Regresión Logística': LogisticRegression(max_iter=1000, class_weight='balanced'),\n",
        "        'HistGradientBoosting': HistGradientBoostingClassifier(),\n",
        "        'XGBoost': XGBClassifier(eval_metric='logloss', scale_pos_weight=2.773, use_label_encoder=False), #scale_pos_weight = 'Churn' 73.5% (yes) / 26.5% (no) = 2.773\n",
        "        'LightGBM': LGBMClassifier(verbose=-1, class_weight='balanced'),\n",
        "        'Random Forest': RandomForestClassifier(n_estimators=100, class_weight='balanced', random_state=42),\n",
        "        'SVM_linear': SVC(kernel = 'linear', class_weight='balanced'),\n",
        "        'SVM_rbf': SVC(kernel = 'rbf', class_weight='balanced')\n",
        "    }\n",
        "\n",
        "    resultados = []\n",
        "\n",
        "    for nombre, modelo in modelos.items():\n",
        "        modelo.fit(X_train, y_train)\n",
        "        y_pred = modelo.predict(X_test)\n",
        "        # Asegurarse de que el modelo tiene el atributo predict_proba antes de usarlo\n",
        "        if hasattr(modelo, \"predict_proba\"):\n",
        "            y_proba = modelo.predict_proba(X_test)[:, 1]\n",
        "        elif hasattr(modelo, \"decision_function\"):\n",
        "            y_proba = modelo.decision_function(X_test)\n",
        "        else:\n",
        "            y_proba = None\n",
        "\n",
        "\n",
        "        resultados.append({\n",
        "            'Modelo': nombre,\n",
        "            'Balanced Accuracy': balanced_accuracy_score(y_test, y_pred), #Calcula el promedio de recall entre clases (recall clase 0 y clase 1).\n",
        "            'F1 Score': f1_score(y_test, y_pred),\n",
        "            'Recall': recall_score(y_test, y_pred), #Indica cuántos de los que realmente se fueron (churn=1) tu modelo detectó.\n",
        "            'Precision': precision_score(y_test, y_pred),\n",
        "            # 'ROC AUC': roc_auc_score(y_test, y_proba) if y_proba is not None else None\n",
        "            #PR AUC\n",
        "            'PR AUC': average_precision_score(y_test,y_proba) if y_proba is not None else None #es más informativa cuando te interesa detectar bien la clase 1.\n",
        "        })\n",
        "\n",
        "    return pd.DataFrame(resultados).sort_values(by='Balanced Accuracy', ascending=False).reset_index(drop=True)"
      ]
    },
    {
      "cell_type": "code",
      "execution_count": 10,
      "metadata": {
        "colab": {
          "base_uri": "https://localhost:8080/"
        },
        "collapsed": true,
        "id": "oBsFKYywTsz3",
        "outputId": "bc70abc5-4869-4a8a-c9ea-19ff23e30433"
      },
      "outputs": [
        {
          "name": "stderr",
          "output_type": "stream",
          "text": [
            "C:\\Users\\Leo\\AppData\\Local\\Temp\\ipykernel_4552\\228888796.py:18: FutureWarning: Downcasting behavior in `replace` is deprecated and will be removed in a future version. To retain the old behavior, explicitly call `result.infer_objects(copy=False)`. To opt-in to the future behavior, set `pd.set_option('future.no_silent_downcasting', True)`\n",
            "  df_inicial[col] = df_inicial[col].replace({'Yes': 1, 'No': 0, 'Male': 1, 'Female': 0})\n",
            "C:\\Users\\Leo\\AppData\\Local\\Temp\\ipykernel_4552\\228888796.py:29: FutureWarning: Downcasting behavior in `replace` is deprecated and will be removed in a future version. To retain the old behavior, explicitly call `result.infer_objects(copy=False)`. To opt-in to the future behavior, set `pd.set_option('future.no_silent_downcasting', True)`\n",
            "  df_inicial['Churn'] = df_inicial['Churn'].replace({'Yes': 1, 'No': 0})\n"
          ]
        }
      ],
      "source": [
        "# Elimino costumerID\n",
        "df_inicial = df_mod.copy()\n",
        "df_inicial.drop(columns='customerID', inplace=True)\n",
        "\n",
        "# Realizamos modificaciones rapidas porque nuestros modelos necesitan variables numericas\n",
        "binary_cols_quick = ['gender', 'Partner', 'Dependents', 'PhoneService', 'PaperlessBilling']\n",
        "\n",
        "# Variables categóricas con más de dos opciones (ajusta la lista si es necesario)\n",
        "categorical_cols_quick = ['MultipleLines', 'InternetService', 'OnlineSecurity', 'OnlineBackup',\n",
        "                          'DeviceProtection', 'TechSupport', 'StreamingTV', 'StreamingMovies',\n",
        "                          'Contract', 'PaymentMethod']\n",
        "\n",
        "# Aplicar codificación binaria a las columnas Yes/No\n",
        "for col in binary_cols_quick:\n",
        "    if col in df_inicial.columns:\n",
        "        if df_inicial[col].dtype == 'object': # Solo codificar si son strings\n",
        "             # Manejar el caso de 'No internet service' o 'No phone service' si aplica\n",
        "            df_inicial[col] = df_inicial[col].replace({'Yes': 1, 'No': 0, 'Male': 1, 'Female': 0})\n",
        "\n",
        "\n",
        "# Aplicar One-Hot Encoding a las columnas con más de dos opciones\n",
        "df_inicial = pd.get_dummies(df_inicial, columns=categorical_cols_quick, drop_first=True)\n",
        "\n",
        "# Convertir las nuevas columnas booleanas a enteros (si pd.get_dummies las crea como bool)\n",
        "bool_cols_quick = df_inicial.select_dtypes(include='bool').columns\n",
        "df_inicial[bool_cols_quick] = df_inicial[bool_cols_quick].astype(int)\n",
        "\n",
        "#Convertimos tambien la variable objetivo\n",
        "df_inicial['Churn'] = df_inicial['Churn'].replace({'Yes': 1, 'No': 0})\n",
        "\n",
        "# --- Fin de la codificación rápida ---\n",
        "\n",
        "\n"
      ]
    },
    {
      "cell_type": "code",
      "execution_count": 11,
      "metadata": {
        "id": "6uadS0wDUOlT"
      },
      "outputs": [],
      "source": [
        "# División de los datos en train y test\n",
        "# ==============================================================================\n",
        "X_train, X_test, y_train, y_test = train_test_split(\n",
        "                                        df_inicial.drop(columns = 'Churn'),\n",
        "                                        df_inicial['Churn'],\n",
        "                                        random_state = 22,\n",
        "                                        test_size=0.25\n",
        "                                    )"
      ]
    },
    {
      "cell_type": "code",
      "execution_count": 12,
      "metadata": {
        "colab": {
          "base_uri": "https://localhost:8080/",
          "height": 477
        },
        "id": "QbH00pkFUUhO",
        "outputId": "a66b61e0-66e6-4e30-8458-f852f2803aac"
      },
      "outputs": [
        {
          "name": "stderr",
          "output_type": "stream",
          "text": [
            "c:\\Documentos\\entornos\\mi_entorno\\Lib\\site-packages\\sklearn\\linear_model\\_logistic.py:465: ConvergenceWarning: lbfgs failed to converge (status=1):\n",
            "STOP: TOTAL NO. OF ITERATIONS REACHED LIMIT.\n",
            "\n",
            "Increase the number of iterations (max_iter) or scale the data as shown in:\n",
            "    https://scikit-learn.org/stable/modules/preprocessing.html\n",
            "Please also refer to the documentation for alternative solver options:\n",
            "    https://scikit-learn.org/stable/modules/linear_model.html#logistic-regression\n",
            "  n_iter_i = _check_optimize_result(\n",
            "c:\\Documentos\\entornos\\mi_entorno\\Lib\\site-packages\\xgboost\\training.py:183: UserWarning: [22:02:24] WARNING: C:\\actions-runner\\_work\\xgboost\\xgboost\\src\\learner.cc:738: \n",
            "Parameters: { \"use_label_encoder\" } are not used.\n",
            "\n",
            "  bst.update(dtrain, iteration=i, fobj=obj)\n"
          ]
        },
        {
          "data": {
            "text/html": [
              "<div>\n",
              "<style scoped>\n",
              "    .dataframe tbody tr th:only-of-type {\n",
              "        vertical-align: middle;\n",
              "    }\n",
              "\n",
              "    .dataframe tbody tr th {\n",
              "        vertical-align: top;\n",
              "    }\n",
              "\n",
              "    .dataframe thead th {\n",
              "        text-align: right;\n",
              "    }\n",
              "</style>\n",
              "<table border=\"1\" class=\"dataframe\">\n",
              "  <thead>\n",
              "    <tr style=\"text-align: right;\">\n",
              "      <th></th>\n",
              "      <th>Modelo</th>\n",
              "      <th>Balanced Accuracy</th>\n",
              "      <th>F1 Score</th>\n",
              "      <th>Recall</th>\n",
              "      <th>Precision</th>\n",
              "      <th>PR AUC</th>\n",
              "    </tr>\n",
              "  </thead>\n",
              "  <tbody>\n",
              "    <tr>\n",
              "      <th>0</th>\n",
              "      <td>SVM_linear</td>\n",
              "      <td>0.755256</td>\n",
              "      <td>0.633628</td>\n",
              "      <td>0.733607</td>\n",
              "      <td>0.557632</td>\n",
              "      <td>0.642409</td>\n",
              "    </tr>\n",
              "    <tr>\n",
              "      <th>1</th>\n",
              "      <td>LightGBM</td>\n",
              "      <td>0.754522</td>\n",
              "      <td>0.634633</td>\n",
              "      <td>0.717213</td>\n",
              "      <td>0.569106</td>\n",
              "      <td>0.652196</td>\n",
              "    </tr>\n",
              "    <tr>\n",
              "      <th>2</th>\n",
              "      <td>Regresión Logística</td>\n",
              "      <td>0.750354</td>\n",
              "      <td>0.623638</td>\n",
              "      <td>0.762295</td>\n",
              "      <td>0.527660</td>\n",
              "      <td>0.649039</td>\n",
              "    </tr>\n",
              "    <tr>\n",
              "      <th>3</th>\n",
              "      <td>XGBoost</td>\n",
              "      <td>0.724792</td>\n",
              "      <td>0.598485</td>\n",
              "      <td>0.647541</td>\n",
              "      <td>0.556338</td>\n",
              "      <td>0.619064</td>\n",
              "    </tr>\n",
              "    <tr>\n",
              "      <th>4</th>\n",
              "      <td>HistGradientBoosting</td>\n",
              "      <td>0.697215</td>\n",
              "      <td>0.563218</td>\n",
              "      <td>0.502049</td>\n",
              "      <td>0.641361</td>\n",
              "      <td>0.638931</td>\n",
              "    </tr>\n",
              "    <tr>\n",
              "      <th>5</th>\n",
              "      <td>Random Forest</td>\n",
              "      <td>0.662669</td>\n",
              "      <td>0.503704</td>\n",
              "      <td>0.418033</td>\n",
              "      <td>0.633540</td>\n",
              "      <td>0.609118</td>\n",
              "    </tr>\n",
              "    <tr>\n",
              "      <th>6</th>\n",
              "      <td>SVM_rbf</td>\n",
              "      <td>0.621529</td>\n",
              "      <td>0.464738</td>\n",
              "      <td>0.526639</td>\n",
              "      <td>0.415858</td>\n",
              "      <td>0.505014</td>\n",
              "    </tr>\n",
              "  </tbody>\n",
              "</table>\n",
              "</div>"
            ],
            "text/plain": [
              "                 Modelo  Balanced Accuracy  F1 Score    Recall  Precision  \\\n",
              "0            SVM_linear           0.755256  0.633628  0.733607   0.557632   \n",
              "1              LightGBM           0.754522  0.634633  0.717213   0.569106   \n",
              "2   Regresión Logística           0.750354  0.623638  0.762295   0.527660   \n",
              "3               XGBoost           0.724792  0.598485  0.647541   0.556338   \n",
              "4  HistGradientBoosting           0.697215  0.563218  0.502049   0.641361   \n",
              "5         Random Forest           0.662669  0.503704  0.418033   0.633540   \n",
              "6               SVM_rbf           0.621529  0.464738  0.526639   0.415858   \n",
              "\n",
              "     PR AUC  \n",
              "0  0.642409  \n",
              "1  0.652196  \n",
              "2  0.649039  \n",
              "3  0.619064  \n",
              "4  0.638931  \n",
              "5  0.609118  \n",
              "6  0.505014  "
            ]
          },
          "execution_count": 12,
          "metadata": {},
          "output_type": "execute_result"
        }
      ],
      "source": [
        "# Evaluamos los modelos inciales\n",
        "# ==============================================================================\n",
        "df_resultados = evaluar_modelos(X_train, y_train, X_test, y_test)\n",
        "df_resultados"
      ]
    },
    {
      "cell_type": "code",
      "execution_count": 13,
      "metadata": {},
      "outputs": [],
      "source": [
        "# #Guardo los resultados en un pickle\n",
        "# with open('resultados_iniciales.pkl', 'wb') as f:\n",
        "#     pickle.dump(df_resultados, f)"
      ]
    },
    {
      "cell_type": "markdown",
      "metadata": {
        "id": "lNIEA-WuCj9D"
      },
      "source": [
        "### Fase 2 - Comparación con estandarización"
      ]
    },
    {
      "cell_type": "markdown",
      "metadata": {
        "id": "O3aXT2y4D4Bm"
      },
      "source": [
        "Utilizamos el mismo split de datos de antes..."
      ]
    },
    {
      "cell_type": "code",
      "execution_count": 14,
      "metadata": {
        "id": "8orkGNCMCoYz"
      },
      "outputs": [],
      "source": [
        "# Variables a escalar\n",
        "cols_to_scale = ['tenure', 'MonthlyCharges', 'TotalCharges']\n",
        "\n",
        "# Inicializar el escalador\n",
        "scaler = StandardScaler()\n",
        "\n",
        "# Ajustar el escalador solo con datos de entrenamiento\n",
        "X_train_scaled = X_train.copy()\n",
        "X_test_scaled = X_test.copy()\n",
        "\n",
        "X_train_scaled[cols_to_scale] = scaler.fit_transform(X_train[cols_to_scale])\n",
        "X_test_scaled[cols_to_scale] = scaler.transform(X_test[cols_to_scale])"
      ]
    },
    {
      "cell_type": "markdown",
      "metadata": {
        "id": "lJK-8jg2Ep-g"
      },
      "source": [
        "Ajustamos la otra función para entrenar nuevamente pero sin los arboles..."
      ]
    },
    {
      "cell_type": "code",
      "execution_count": 15,
      "metadata": {
        "id": "eNWXWvRSEveb"
      },
      "outputs": [],
      "source": [
        "def evaluar_modelos_estandarizados(X_train, y_train, X_test, y_test):\n",
        "    modelos = {\n",
        "        #Estos son \"tweaks iniciales seguros\" que no se consideran tuning agresivo, sino buenas prácticas para establecer un baseline justo\n",
        "        'STD - Regresión Logística': LogisticRegression(max_iter=1000, class_weight='balanced'),\n",
        "        'STD - SVM_linear': SVC(kernel = 'linear', class_weight='balanced'),\n",
        "        'STD - SVM_rbf': SVC(kernel = 'rbf', class_weight='balanced')\n",
        "    }\n",
        "\n",
        "    resultados = []\n",
        "\n",
        "    for nombre, modelo in modelos.items():\n",
        "        modelo.fit(X_train, y_train)\n",
        "        y_pred = modelo.predict(X_test)\n",
        "        # Asegurarse de que el modelo tiene el atributo predict_proba antes de usarlo\n",
        "        if hasattr(modelo, \"predict_proba\"):\n",
        "            y_proba = modelo.predict_proba(X_test)[:, 1]\n",
        "        elif hasattr(modelo, \"decision_function\"):\n",
        "            y_proba = modelo.decision_function(X_test)\n",
        "        else:\n",
        "            y_proba = None\n",
        "\n",
        "\n",
        "        resultados.append({\n",
        "            'Modelo': nombre,\n",
        "            'Balanced Accuracy': balanced_accuracy_score(y_test, y_pred), #Calcula el promedio de recall entre clases (recall clase 0 y clase 1).\n",
        "            'F1 Score': f1_score(y_test, y_pred),\n",
        "            'Recall': recall_score(y_test, y_pred), #Indica cuántos de los que realmente se fueron (churn=1) tu modelo detectó.\n",
        "            'Precision': precision_score(y_test, y_pred),\n",
        "            # 'ROC AUC': roc_auc_score(y_test, y_proba) if y_proba is not None else None\n",
        "            #PR AUC\n",
        "            'PR AUC': average_precision_score(y_test,y_proba) if y_proba is not None else None #es más informativa cuando te interesa detectar bien la clase 1.\n",
        "        })\n",
        "\n",
        "    return pd.DataFrame(resultados).sort_values(by='Balanced Accuracy', ascending=False).reset_index(drop=True)"
      ]
    },
    {
      "cell_type": "code",
      "execution_count": 16,
      "metadata": {
        "colab": {
          "base_uri": "https://localhost:8080/",
          "height": 143
        },
        "id": "8nyeBJ9tFKp7",
        "outputId": "1907b514-d5de-4318-8a04-d1e9b2198492"
      },
      "outputs": [
        {
          "data": {
            "text/html": [
              "<div>\n",
              "<style scoped>\n",
              "    .dataframe tbody tr th:only-of-type {\n",
              "        vertical-align: middle;\n",
              "    }\n",
              "\n",
              "    .dataframe tbody tr th {\n",
              "        vertical-align: top;\n",
              "    }\n",
              "\n",
              "    .dataframe thead th {\n",
              "        text-align: right;\n",
              "    }\n",
              "</style>\n",
              "<table border=\"1\" class=\"dataframe\">\n",
              "  <thead>\n",
              "    <tr style=\"text-align: right;\">\n",
              "      <th></th>\n",
              "      <th>Modelo</th>\n",
              "      <th>Balanced Accuracy</th>\n",
              "      <th>F1 Score</th>\n",
              "      <th>Recall</th>\n",
              "      <th>Precision</th>\n",
              "      <th>PR AUC</th>\n",
              "    </tr>\n",
              "  </thead>\n",
              "  <tbody>\n",
              "    <tr>\n",
              "      <th>0</th>\n",
              "      <td>STD - SVM_rbf</td>\n",
              "      <td>0.755836</td>\n",
              "      <td>0.632214</td>\n",
              "      <td>0.752049</td>\n",
              "      <td>0.545319</td>\n",
              "      <td>0.608107</td>\n",
              "    </tr>\n",
              "    <tr>\n",
              "      <th>1</th>\n",
              "      <td>STD - Regresión Logística</td>\n",
              "      <td>0.750986</td>\n",
              "      <td>0.624268</td>\n",
              "      <td>0.764344</td>\n",
              "      <td>0.527581</td>\n",
              "      <td>0.647927</td>\n",
              "    </tr>\n",
              "    <tr>\n",
              "      <th>2</th>\n",
              "      <td>STD - SVM_linear</td>\n",
              "      <td>0.738570</td>\n",
              "      <td>0.604900</td>\n",
              "      <td>0.809426</td>\n",
              "      <td>0.482885</td>\n",
              "      <td>0.621324</td>\n",
              "    </tr>\n",
              "  </tbody>\n",
              "</table>\n",
              "</div>"
            ],
            "text/plain": [
              "                      Modelo  Balanced Accuracy  F1 Score    Recall  \\\n",
              "0              STD - SVM_rbf           0.755836  0.632214  0.752049   \n",
              "1  STD - Regresión Logística           0.750986  0.624268  0.764344   \n",
              "2           STD - SVM_linear           0.738570  0.604900  0.809426   \n",
              "\n",
              "   Precision    PR AUC  \n",
              "0   0.545319  0.608107  \n",
              "1   0.527581  0.647927  \n",
              "2   0.482885  0.621324  "
            ]
          },
          "execution_count": 16,
          "metadata": {},
          "output_type": "execute_result"
        }
      ],
      "source": [
        "# Evaluamos los modelos inciales\n",
        "# ==============================================================================\n",
        "df_resultados_std = evaluar_modelos_estandarizados(X_train_scaled, y_train, X_test_scaled, y_test)\n",
        "df_resultados_std"
      ]
    },
    {
      "cell_type": "code",
      "execution_count": 17,
      "metadata": {},
      "outputs": [],
      "source": [
        "#Guardo los resultados en un pickle\n",
        "# with open('resultados_iniciales_estandarizados.pkl', 'wb') as f:\n",
        "#     pickle.dump(df_resultados_std, f)"
      ]
    },
    {
      "cell_type": "markdown",
      "metadata": {
        "id": "GzcqSryOG3SB"
      },
      "source": [
        "---"
      ]
    },
    {
      "cell_type": "markdown",
      "metadata": {
        "id": "4fi63LcuG43v"
      },
      "source": [
        "###Comparación de resultados"
      ]
    },
    {
      "cell_type": "code",
      "execution_count": 18,
      "metadata": {
        "id": "hipZ6pbtG7Ch"
      },
      "outputs": [],
      "source": [
        "df_resultados['Datos'] = 'Sin escalar'\n",
        "df_resultados_std['Datos'] = 'Estandarizados'\n",
        "df_todos = pd.concat([df_resultados, df_resultados_std], ignore_index=True)\n",
        "df_todos_ordenado = df_todos.sort_values(by='Balanced Accuracy', ascending=False).reset_index(drop=True)"
      ]
    },
    {
      "cell_type": "code",
      "execution_count": 19,
      "metadata": {
        "colab": {
          "base_uri": "https://localhost:8080/",
          "height": 565
        },
        "id": "BOZsA_7KHGaY",
        "outputId": "ff8498c3-439a-4dd6-91b8-60f914195522"
      },
      "outputs": [
        {
          "data": {
            "image/png": "[encoded data removed]",
            "text/plain": [
              "<Figure size 1200x600 with 1 Axes>"
            ]
          },
          "metadata": {},
          "output_type": "display_data"
        }
      ],
      "source": [
        "plt.figure(figsize=(12, 6))\n",
        "sns.barplot(data=df_todos_ordenado, x='Balanced Accuracy', y='Modelo', hue='Datos')\n",
        "plt.title('Comparación de modelos (Balanced Accuracy)')\n",
        "plt.xlim(0.5, 1.0)  # si querés limitar el eje x para enfocar\n",
        "plt.show()\n"
      ]
    },
    {
      "cell_type": "markdown",
      "metadata": {
        "id": "ZCp9D92BOFiz"
      },
      "source": [
        "<h3>Conclusión</h3>"
      ]
    },
    {
      "cell_type": "markdown",
      "metadata": {
        "id": "MKsDChCjMKRC"
      },
      "source": [
        "\n",
        "* ✅ El modelo con mejor rendimiento general fue el `SVM_rbf` estandarizado, alcanzando la mayor Balanced Accuracy entre todos los modelos comparados.\n",
        "* 🌳 El modelo `lightGBM` fue el que mejor accuracy tuvo de todos los árboles, teniendo casi el mismo valor que el SVM. Similar, solo por apenas debajo de este, se encuentra el de `Regresión Logística`. Ambos tambien podrían ser considerados como modelo final.\n",
        "* ⚠️ El `SVM_linear` sin estandarizar puede no ser confiable, esto se debe a que luego de ser escalado, su accuracy es mucho menor, lo que nos hace pensar que en ese primer entrenamiento se vió sesgado por la escala de alguna variable.\n"
      ]
    },
    {
      "cell_type": "code",
      "execution_count": 20,
      "metadata": {
        "colab": {
          "base_uri": "https://localhost:8080/",
          "height": 694
        },
        "id": "iEUyPYbtOjNm",
        "outputId": "e7506f5b-fb9f-4213-843f-e3d8f9acf68d"
      },
      "outputs": [
        {
          "name": "stdout",
          "output_type": "stream",
          "text": [
            "Comparación de F1-Score y PR AUC para modelos seleccionados:\n",
            "                      Modelo  F1 Score    PR AUC    Recall  Precision\n",
            "1                   LightGBM  0.634633  0.652196  0.717213   0.569106\n",
            "8  STD - Regresión Logística  0.624268  0.647927  0.764344   0.527581\n",
            "7              STD - SVM_rbf  0.632214  0.608107  0.752049   0.545319\n"
          ]
        },
        {
          "data": {
            "image/png": "[encoded data removed]",
            "text/plain": [
              "<Figure size 1400x600 with 1 Axes>"
            ]
          },
          "metadata": {},
          "output_type": "display_data"
        }
      ],
      "source": [
        "# Filtrar los resultados para los modelos específicos que quieres comparar\n",
        "modelos_comparar = ['STD - SVM_rbf', 'LightGBM', 'STD - Regresión Logística']\n",
        "\n",
        "# Crear un DataFrame combinado si aún no lo tienes\n",
        "# Asumiendo que df_resultados y df_resultados_std ya existen del código anterior\n",
        "# Si no, deberías ejecutarlos primero.\n",
        "df_resultados['Datos'] = 'Sin escalar'\n",
        "df_resultados_std['Datos'] = 'Estandarizados'\n",
        "df_todos = pd.concat([df_resultados, df_resultados_std], ignore_index=True)\n",
        "\n",
        "# Filtrar el DataFrame combinado para incluir solo los modelos deseados\n",
        "df_comparacion_especifica = df_todos[df_todos['Modelo'].isin(modelos_comparar)]\n",
        "\n",
        "# Seleccionar solo las columnas relevantes para la comparación de métricas\n",
        "df_metricas_comparacion = df_comparacion_especifica[['Modelo', 'F1 Score', 'PR AUC','Recall','Precision']]\n",
        "\n",
        "# Mostrar las métricas\n",
        "print(\"Comparación de F1-Score y PR AUC para modelos seleccionados:\")\n",
        "print(df_metricas_comparacion.sort_values(by='PR AUC', ascending=False))\n",
        "\n",
        "# Opcionalmente, puedes visualizar esta comparación\n",
        "df_melted = df_metricas_comparacion.melt(id_vars='Modelo', var_name='Métrica', value_name='Valor')\n",
        "\n",
        "plt.figure(figsize=(14, 6))\n",
        "ax = sns.barplot(data=df_melted, x='Valor', y='Modelo', hue='Métrica')\n",
        "plt.title('Comparación de F1 Score y PR AUC')\n",
        "plt.xlabel('Valor de la Métrica')\n",
        "plt.ylabel('Modelo')\n",
        "# plt.legend(title='Métrica') # Elimina o comenta esta línea si usas ax.legend()\n",
        "plt.grid(axis='x', linestyle='--', alpha=0.6)\n",
        "\n",
        "\n",
        "ax.legend(title='Datos', loc='center left', bbox_to_anchor=(1, 0.5))\n",
        "plt.tight_layout()\n",
        "\n",
        "plt.show()\n"
      ]
    },
    {
      "cell_type": "markdown",
      "metadata": {
        "id": "nR-sJiHTSQ-1"
      },
      "source": [
        "| Métrica                                       | ¿Qué mide?                                                                                       | ¿Por qué importa en tu caso?                                                                                            |\n",
        "| --------------------------------------------- | ------------------------------------------------------------------------------------------------ | ----------------------------------------------------------------------------------------------------------------------- |\n",
        "| **Balanced Accuracy**                         | Promedio de recall entre clase 0 y 1. No se deja engañar por el desbalance.                      | Te dice si el modelo aprende **ambas clases** en vez de acertar por casualidad.                                         |\n",
        "| **Recall (o Sensibilidad)**                   | % de verdaderos positivos detectados. ¿Cuántos que realmente se fueron predijiste correctamente? | Es crítico: no querés dejar pasar clientes que se iban. Mejor tener falsos positivos que no detectarlos.                |\n",
        "| **Precision**                                 | % de los que predijiste como \"se va\" que realmente se fueron.                                    | Complemento al recall. No querés alertar a todos si solo pocos se van.                                                  |\n",
        "| **F1 Score**                                  | Promedio armonioso entre Precision y Recall.                                                     | Balance entre no asustar a todos y no perder a los que se iban.                                                         |\n",
        "| **PR AUC (Área bajo curva Precision-Recall)** | Qué tan bien se comporta el modelo al clasificar la clase positiva.                              | Más útil que ROC AUC con clases desbalanceadas. Te da una idea del rendimiento **cuando te importa acertar positivos**. |\n"
      ]
    },
    {
      "cell_type": "markdown",
      "metadata": {
        "id": "GoAc3xTRkqHr"
      },
      "source": [
        "<h3>Conclusion final</h3>\n",
        "\n",
        "Entonces, creo que el `LightGBM` porque, si bien no tiene el mayor recall (proporción de churners reales sí detectados), la precisión es la mas alta (de los que detectamos como churn, cuantos realmente lo eran). Esta ultima, si es baja, estaríamos \"sobrealertando\" o etiquetando como churners a muchos que en realidad no lo eran (falsos positivos).\n",
        "\n",
        "Este balance hace que se detecten bien a los que se van (recall aceptable) y no sobreactúe marcando como \"churn\" a muchos que no lo son (mayor precision)\n",
        "\n",
        "❗Pero, si nuestro objetivo fuera maximizar el recall (ej.:\"prefiero contactar 10 clientes de más que perder 1 que se va\") podríamos optar por la `Regresión Logística`.\n",
        "\n",
        "Si la prioridad es no perder clientes, entonces:\n",
        "\n",
        "- `SVM_rbf` ofrece un casi idéntico recall a la `regresión logística`, pero mejora en F1 Score y precisión.\n",
        "\n",
        "- Esto sugiere que detectamos casi los mismos casos de churn, pero con menos falsos positivos, lo cual es deseable si las acciones de retención tienen costo."
      ]
    },
    {
      "cell_type": "markdown",
      "metadata": {
        "id": "pwaUDYxA2i8l"
      },
      "source": [
        "<hr>"
      ]
    },
    {
      "cell_type": "markdown",
      "metadata": {
        "id": "HaxkOtm5_gPt"
      },
      "source": [
        "<b><h3>Manejo de Redundancia en variables categóricas<h3>"
      ]
    },
    {
      "cell_type": "markdown",
      "metadata": {
        "id": "m_CEy1st_oWx"
      },
      "source": [
        "[...]"
      ]
    },
    {
      "cell_type": "markdown",
      "metadata": {
        "id": "pDseQMIKYQxe"
      },
      "source": [
        "<h3></h3>\n",
        "\n",
        "Si la fila tiene Phone Service == 1 y Multiple Lines == 1, le asigna un 1 en la nueva columna. En caso de no tener Phone Service, o de no tener Multiple Lines, le asigna un 0. Luego, elimina la columna original."
      ]
    },
    {
      "cell_type": "code",
      "execution_count": 21,
      "metadata": {
        "id": "OwnAwzkuAQkm"
      },
      "outputs": [],
      "source": [
        "df_mod_1 = df_mod.copy()\n",
        "df_mod_1['HasMultipleLines'] = ((df_mod_1['PhoneService'] == 1) & (df_mod_1['MultipleLines'] == 'Yes')).astype(int)\n",
        "df_mod_1.drop(columns='MultipleLines', inplace=True)"
      ]
    },
    {
      "cell_type": "markdown",
      "metadata": {
        "id": "ICfH8GLJa4W3"
      },
      "source": [
        "[Lo mismo de antes pero con internet_services ...]"
      ]
    },
    {
      "cell_type": "code",
      "execution_count": 22,
      "metadata": {
        "id": "urCZJi5va3x-"
      },
      "outputs": [],
      "source": [
        "df_mod_2 = df_mod_1.copy()\n",
        "# Lista de columnas relacionadas con servicios que dependen de tener Internet\n",
        "internet_services = [\n",
        "    'OnlineSecurity', 'OnlineBackup', 'DeviceProtection',\n",
        "    'TechSupport', 'StreamingTV', 'StreamingMovies'\n",
        "]\n",
        "\n",
        "# Crear nuevas variables binarias\n",
        "for col in internet_services:\n",
        "    new_col = 'Has' + col  # Ej: 'HasOnlineSecurity'\n",
        "    df_mod_2[new_col] = ((df_mod_2['InternetService'] != 'No') & (df_mod_2[col] == 'Yes')).astype(int)\n",
        "\n",
        "# Eliminar columnas originales\n",
        "df_mod_2.drop(columns=internet_services, inplace=True)"
      ]
    },
    {
      "cell_type": "markdown",
      "metadata": {
        "id": "fvD4qJ6i6sIl"
      },
      "source": [
        "<b><h3>Transformación de datos<h3>"
      ]
    },
    {
      "cell_type": "markdown",
      "metadata": {
        "id": "dkpflnNzf12O"
      },
      "source": [
        "[Se aplica el binary encoding a las variables binarias recien modificadas...]"
      ]
    },
    {
      "cell_type": "code",
      "execution_count": 23,
      "metadata": {
        "id": "dRA5fsFbbHDj"
      },
      "outputs": [],
      "source": [
        "# Transformé variables categóricas de 3 o más opciones con el método dummy coding.\n",
        "df_mod_3 = df_mod_2.copy()\n",
        "# Lista de columnas categóricas a codificar\n",
        "categorical_cols = ['InternetService', 'Contract', 'PaymentMethod']\n",
        "\n",
        "# Aplicar One-Hot Encoding\n",
        "df_mod_3 = pd.get_dummies(df_mod_3, columns=categorical_cols, drop_first=True)"
      ]
    },
    {
      "cell_type": "markdown",
      "metadata": {
        "id": "HxJ9F9eohVEE"
      },
      "source": [
        "[...]"
      ]
    },
    {
      "cell_type": "code",
      "execution_count": 24,
      "metadata": {
        "id": "fIF47f74gBTf"
      },
      "outputs": [],
      "source": [
        "# Todas las nuevas columnas creadas por el dummy coding son booleanas, las transformé a numéricas\n",
        "df_mod_4 = df_mod_3.copy()\n",
        "bool_cols = df_mod_4.select_dtypes(include='bool').columns\n",
        "df_mod_4[bool_cols] = df_mod_4[bool_cols].astype(int)"
      ]
    },
    {
      "cell_type": "markdown",
      "metadata": {
        "id": "WbT_vFxbU8ZG"
      },
      "source": [
        "[...]"
      ]
    },
    {
      "cell_type": "code",
      "execution_count": 25,
      "metadata": {
        "colab": {
          "base_uri": "https://localhost:8080/"
        },
        "collapsed": true,
        "id": "zhITVAqtVPmd",
        "outputId": "f96445a5-9fb1-4db3-a90b-4661d093fb9a"
      },
      "outputs": [
        {
          "name": "stderr",
          "output_type": "stream",
          "text": [
            "C:\\Users\\Leo\\AppData\\Local\\Temp\\ipykernel_4552\\3875068834.py:3: FutureWarning: Downcasting behavior in `replace` is deprecated and will be removed in a future version. To retain the old behavior, explicitly call `result.infer_objects(copy=False)`. To opt-in to the future behavior, set `pd.set_option('future.no_silent_downcasting', True)`\n",
            "  df_mod_5['gender'] = df_mod_5['gender'].replace({'Male': 1, 'Female': 0})\n",
            "C:\\Users\\Leo\\AppData\\Local\\Temp\\ipykernel_4552\\3875068834.py:7: FutureWarning: Downcasting behavior in `replace` is deprecated and will be removed in a future version. To retain the old behavior, explicitly call `result.infer_objects(copy=False)`. To opt-in to the future behavior, set `pd.set_option('future.no_silent_downcasting', True)`\n",
            "  df_mod_5[binary_cols] = df_mod_5[binary_cols].replace({'Yes': 1, 'No': 0})\n"
          ]
        }
      ],
      "source": [
        "# Reemplazo específico para 'gender'\n",
        "df_mod_5 = df_mod_4.copy()\n",
        "df_mod_5['gender'] = df_mod_5['gender'].replace({'Male': 1, 'Female': 0})\n",
        "\n",
        "# Otras variables categóricas binarias (Yes/No)\n",
        "binary_cols = ['Partner', 'Dependents', 'PhoneService', 'PaperlessBilling','Churn']\n",
        "df_mod_5[binary_cols] = df_mod_5[binary_cols].replace({'Yes': 1, 'No': 0})"
      ]
    },
    {
      "cell_type": "code",
      "execution_count": 26,
      "metadata": {
        "id": "M46oYQ4VmGRP"
      },
      "outputs": [],
      "source": [
        "# Elimino costumerID\n",
        "df_final = df_mod_5.copy()\n",
        "df_final.drop(columns='customerID', inplace=True)"
      ]
    },
    {
      "cell_type": "markdown",
      "metadata": {
        "id": "6XegeoqsBqHv"
      },
      "source": [
        "<b><h3>División de Datos<h3>\n"
      ]
    },
    {
      "cell_type": "markdown",
      "metadata": {
        "id": "A3txFrzNBuH5"
      },
      "source": [
        "Antes de aplicar cualquier transformación, debemos dividir los datos en `training` y `testing` sets para evitar un **Data Leakage**.\n",
        "\n",
        "\n",
        "\n"
      ]
    },
    {
      "cell_type": "code",
      "execution_count": 27,
      "metadata": {
        "id": "jDPAbFhzCUSh"
      },
      "outputs": [],
      "source": [
        "# División de los datos en train y test\n",
        "# ==============================================================================\n",
        "X_train, X_test, y_train, y_test = train_test_split(\n",
        "                                        df_final.drop(columns = 'Churn'),\n",
        "                                        df_final['Churn'],\n",
        "                                        random_state = 22\n",
        "                                    )"
      ]
    },
    {
      "cell_type": "markdown",
      "metadata": {
        "id": "GdY6tliBqKs6"
      },
      "source": [
        "<b><h3>Estandarización de Datos<h3>"
      ]
    },
    {
      "cell_type": "markdown",
      "metadata": {
        "id": "nEHNtdvXqN1d"
      },
      "source": [
        "[...]"
      ]
    },
    {
      "cell_type": "code",
      "execution_count": 28,
      "metadata": {
        "id": "NV6NJ0zwqO9z"
      },
      "outputs": [],
      "source": [
        "# Variables a escalar\n",
        "cols_to_scale = ['tenure', 'MonthlyCharges', 'TotalCharges']\n",
        "\n",
        "# Inicializar el escalador\n",
        "scaler = StandardScaler()\n",
        "\n",
        "# Ajustar el escalador solo con datos de entrenamiento\n",
        "X_train_scaled = X_train.copy()\n",
        "X_test_scaled = X_test.copy()\n",
        "\n",
        "X_train_scaled[cols_to_scale] = scaler.fit_transform(X_train[cols_to_scale])\n",
        "X_test_scaled[cols_to_scale] = scaler.transform(X_test[cols_to_scale])"
      ]
    },
    {
      "cell_type": "markdown",
      "metadata": {
        "id": "z7UdAb4CqhrF"
      },
      "source": [
        "## 🔎 Busqueda de un modelo base (Está la misma función más arriba con los datos sin transformar)"
      ]
    },
    {
      "cell_type": "markdown",
      "metadata": {
        "id": "-FjR5uL-qvFi"
      },
      "source": [
        "[Según el profe, podriamos simplemente probar los distintos modelos disponibles y ver cual nos da un mejor rendimiento y a partir de ese realizamos una optimización]"
      ]
    },
    {
      "cell_type": "markdown",
      "metadata": {
        "id": "7X8x_yfGTWFT"
      },
      "source": [
        "[Este lo copié más arriba antes de modificar los datos]"
      ]
    },
    {
      "cell_type": "code",
      "execution_count": 29,
      "metadata": {
        "id": "QEam-KbirN0N"
      },
      "outputs": [],
      "source": [
        "def evaluar_modelos(X_train, y_train, X_test, y_test):\n",
        "    modelos = {\n",
        "        'Regresión Logística': LogisticRegression(max_iter=1000),\n",
        "        'HistGradientBoosting': HistGradientBoostingClassifier(),\n",
        "        'XGBoost': XGBClassifier(eval_metric='logloss'),\n",
        "        'LightGBM': LGBMClassifier(verbose=-1)\n",
        "\n",
        "    }\n",
        "\n",
        "    resultados = []\n",
        "\n",
        "    for nombre, modelo in modelos.items():\n",
        "        modelo.fit(X_train, y_train)\n",
        "        y_pred = modelo.predict(X_test)\n",
        "        y_proba = modelo.predict_proba(X_test)[:, 1] if hasattr(modelo, \"predict_proba\") else None\n",
        "\n",
        "        resultados.append({\n",
        "            'Modelo': nombre,\n",
        "            'Balanced Accuracy': balanced_accuracy_score(y_test, y_pred),\n",
        "            'F1 Score': f1_score(y_test, y_pred),\n",
        "            'Recall': recall_score(y_test, y_pred),\n",
        "            'Precision': precision_score(y_test, y_pred),\n",
        "            'ROC AUC': roc_auc_score(y_test, y_proba) if y_proba is not None else None\n",
        "        })\n",
        "\n",
        "    return pd.DataFrame(resultados).sort_values(by='Balanced Accuracy', ascending=False).reset_index(drop=True)"
      ]
    },
    {
      "cell_type": "code",
      "execution_count": 30,
      "metadata": {
        "colab": {
          "base_uri": "https://localhost:8080/",
          "height": 175
        },
        "id": "WGkW8byztkUB",
        "outputId": "0da27089-9921-46f4-caaf-18a472c6d794"
      },
      "outputs": [
        {
          "data": {
            "text/html": [
              "<div>\n",
              "<style scoped>\n",
              "    .dataframe tbody tr th:only-of-type {\n",
              "        vertical-align: middle;\n",
              "    }\n",
              "\n",
              "    .dataframe tbody tr th {\n",
              "        vertical-align: top;\n",
              "    }\n",
              "\n",
              "    .dataframe thead th {\n",
              "        text-align: right;\n",
              "    }\n",
              "</style>\n",
              "<table border=\"1\" class=\"dataframe\">\n",
              "  <thead>\n",
              "    <tr style=\"text-align: right;\">\n",
              "      <th></th>\n",
              "      <th>Modelo</th>\n",
              "      <th>Balanced Accuracy</th>\n",
              "      <th>F1 Score</th>\n",
              "      <th>Recall</th>\n",
              "      <th>Precision</th>\n",
              "      <th>ROC AUC</th>\n",
              "    </tr>\n",
              "  </thead>\n",
              "  <tbody>\n",
              "    <tr>\n",
              "      <th>0</th>\n",
              "      <td>Regresión Logística</td>\n",
              "      <td>0.702969</td>\n",
              "      <td>0.572406</td>\n",
              "      <td>0.514344</td>\n",
              "      <td>0.645244</td>\n",
              "      <td>0.834326</td>\n",
              "    </tr>\n",
              "    <tr>\n",
              "      <th>1</th>\n",
              "      <td>LightGBM</td>\n",
              "      <td>0.697454</td>\n",
              "      <td>0.563574</td>\n",
              "      <td>0.504098</td>\n",
              "      <td>0.638961</td>\n",
              "      <td>0.829293</td>\n",
              "    </tr>\n",
              "    <tr>\n",
              "      <th>2</th>\n",
              "      <td>HistGradientBoosting</td>\n",
              "      <td>0.697385</td>\n",
              "      <td>0.563348</td>\n",
              "      <td>0.510246</td>\n",
              "      <td>0.628788</td>\n",
              "      <td>0.832919</td>\n",
              "    </tr>\n",
              "    <tr>\n",
              "      <th>3</th>\n",
              "      <td>XGBoost</td>\n",
              "      <td>0.683929</td>\n",
              "      <td>0.541993</td>\n",
              "      <td>0.495902</td>\n",
              "      <td>0.597531</td>\n",
              "      <td>0.816791</td>\n",
              "    </tr>\n",
              "  </tbody>\n",
              "</table>\n",
              "</div>"
            ],
            "text/plain": [
              "                 Modelo  Balanced Accuracy  F1 Score    Recall  Precision  \\\n",
              "0   Regresión Logística           0.702969  0.572406  0.514344   0.645244   \n",
              "1              LightGBM           0.697454  0.563574  0.504098   0.638961   \n",
              "2  HistGradientBoosting           0.697385  0.563348  0.510246   0.628788   \n",
              "3               XGBoost           0.683929  0.541993  0.495902   0.597531   \n",
              "\n",
              "    ROC AUC  \n",
              "0  0.834326  \n",
              "1  0.829293  \n",
              "2  0.832919  \n",
              "3  0.816791  "
            ]
          },
          "execution_count": 30,
          "metadata": {},
          "output_type": "execute_result"
        }
      ],
      "source": [
        "df_resultados = evaluar_modelos(X_train_scaled, y_train, X_test_scaled, y_test)\n",
        "df_resultados\n"
      ]
    },
    {
      "cell_type": "markdown",
      "metadata": {
        "id": "H9WlzC-mGZX1"
      },
      "source": [
        "## 🧠 Entrenamiento del modelo"
      ]
    },
    {
      "cell_type": "markdown",
      "metadata": {
        "id": "rTHaZ9B_G3nc"
      },
      "source": [
        "*Hablar un poco del modelo que elegimos*"
      ]
    },
    {
      "cell_type": "code",
      "execution_count": 31,
      "metadata": {
        "id": "lvBwatHrGbWi"
      },
      "outputs": [
        {
          "name": "stdout",
          "output_type": "stream",
          "text": [
            "Fitting 5 folds for each of 16 candidates, totalling 80 fits\n",
            "Resultados del Grid Search para SVM:\n",
            "   param_C  param_gamma  mean_test_score  std_test_score  mean_train_score  \\\n",
            "5      1.0        0.010         0.765249        0.011357          0.767966   \n",
            "6      1.0        0.100         0.764330        0.010896          0.785475   \n",
            "8     10.0        0.001         0.763468        0.012243          0.765997   \n",
            "2      0.1        0.100         0.762815        0.011350          0.769736   \n",
            "1      0.1        0.010         0.760388        0.012516          0.761467   \n",
            "\n",
            "   std_train_score  \n",
            "5         0.001605  \n",
            "6         0.001989  \n",
            "8         0.002222  \n",
            "2         0.001735  \n",
            "1         0.003238  \n",
            "\n",
            "Mejores hiperparámetros encontrados por Grid Search: {'C': 1, 'class_weight': 'balanced', 'gamma': 0.01}\n",
            "Mejor Balanced Accuracy en CV (Grid Search): 0.7652488369501518\n"
          ]
        }
      ],
      "source": [
        "from sklearn.model_selection import GridSearchCV, RepeatedKFold\n",
        "from sklearn.svm import SVC\n",
        "import multiprocessing # Para usar el número de CPUs disponibles\n",
        "\n",
        "# Define el espacio de búsqueda para los hiperparámetros del SVM\n",
        "# Usaremos rangos que sabes que funcionan bien para el kernel RBF,\n",
        "# basándonos en el ejemplo anterior y la práctica común.\n",
        "param_grid_svm = {\n",
        "    'C': [0.1, 1, 10, 100],          # Valores de regularización\n",
        "    'gamma': [0.001, 0.01, 0.1, 1], # Valores para el parámetro gamma del kernel RBF\n",
        "    'class_weight': ['balanced']     # Mantienes este parámetro para manejar el desbalance\n",
        "}\n",
        "\n",
        "# Inicializa el modelo SVM\n",
        "# Mantienes random_state para reproducibilidad\n",
        "svm_model_gs = SVC(kernel='rbf', random_state=42)\n",
        "\n",
        "# Define la estrategia de validación cruzada\n",
        "# Puedes usar RepeatedKFold si lo prefieres, o simplemente KFold.\n",
        "# RepeatedKFold(n_splits=3, n_repeats=1, random_state=123) usará 3 splits y repetirá 1 vez.\n",
        "# cv_strategy = RepeatedKFold(n_splits=3, n_repeats=1, random_state=123)\n",
        "cv_strategy = RepeatedKFold(n_splits=5, n_repeats=1, random_state=123)\n",
        "\n",
        "# Búsqueda por grid search con validación cruzada\n",
        "# ==============================================================================\n",
        "grid_svm = GridSearchCV(\n",
        "    estimator=svm_model_gs,\n",
        "    param_grid=param_grid_svm,\n",
        "    scoring='balanced_accuracy', # Usamos 'balanced_accuracy' como métrica de optimización\n",
        "    n_jobs=multiprocessing.cpu_count() - 1, # Usar todos los núcleos disponibles menos uno\n",
        "    cv=cv_strategy,\n",
        "    refit=True, # Refit=True entrena el mejor modelo encontrado en todos los datos de entrenamiento al final\n",
        "    verbose=2, # verbose=2 muestra el progreso durante la búsqueda\n",
        "    return_train_score=True # Para ver el rendimiento en los datos de entrenamiento también\n",
        ")\n",
        "\n",
        "# Realiza la búsqueda en malla en los datos de entrenamiento escalados\n",
        "# Asegúrate de usar X_train_scaled e y_train que ya están preparados para el SVM\n",
        "grid_svm.fit(X=X_train_scaled, y=y_train)\n",
        "\n",
        "# Resultados\n",
        "# ==============================================================================\n",
        "resultados_svm = pd.DataFrame(grid_svm.cv_results_)\n",
        "\n",
        "# Filtramos las columnas relevantes para ver los resultados\n",
        "# 'param_C', 'param_gamma' son los nombres de los parámetros en los resultados\n",
        "# 'mean_test_score' es la media de la métrica en los folds de validación\n",
        "# 'std_test_score' es la desviación estándar de la métrica en los folds de validación\n",
        "# 'mean_train_score' y 'std_train_score' son para el conjunto de entrenamiento en cada fold\n",
        "print(\"Resultados del Grid Search para SVM:\")\n",
        "print(resultados_svm.filter(regex='(param_C|param_gamma|mean_test_score|std_test_score|mean_train_score|std_train_score)')\n",
        "       .sort_values('mean_test_score', ascending=False)\n",
        "       .head()) # Mostramos las 5 mejores combinaciones\n",
        "\n",
        "# Muestra los mejores hiperparámetros encontrados por Grid Search\n",
        "print(\"\\nMejores hiperparámetros encontrados por Grid Search:\", grid_svm.best_params_)\n",
        "\n",
        "# Muestra la mejor puntuación (Balanced Accuracy en CV)\n",
        "print(\"Mejor Balanced Accuracy en CV (Grid Search):\", grid_svm.best_score_)\n",
        "\n",
        "# El mejor modelo entrenado ya está disponible en grid_svm.best_estimator_\n",
        "best_svm_model_gs_final = grid_svm.best_estimator_\n",
        "\n",
        "# Ahora puedes evaluar best_svm_model_gs_final en tu conjunto de prueba (X_test_scaled, y_test)\n",
        "# de la misma manera que lo hiciste en el ejemplo anterior."
      ]
    },
    {
      "cell_type": "code",
      "execution_count": 32,
      "metadata": {},
      "outputs": [
        {
          "name": "stdout",
          "output_type": "stream",
          "text": [
            "----------------------------------------\n",
            "Mejores hiperparámetros encontrados (cv)\n",
            "----------------------------------------\n",
            "{'C': 1, 'class_weight': 'balanced', 'gamma': 0.01} : 0.7652488369501518 balanced_accuracy\n"
          ]
        }
      ],
      "source": [
        "# Mejores hiperparámetros por validación cruzada\n",
        "# ==============================================================================\n",
        "print(\"----------------------------------------\")\n",
        "print(\"Mejores hiperparámetros encontrados (cv)\")\n",
        "print(\"----------------------------------------\")\n",
        "print(grid_svm.best_params_, \":\", grid_svm.best_score_, grid_svm.scoring)"
      ]
    },
    {
      "cell_type": "code",
      "execution_count": 33,
      "metadata": {},
      "outputs": [
        {
          "data": {
            "text/html": [
              "<style>#sk-container-id-1 {\n",
              "  /* Definition of color scheme common for light and dark mode */\n",
              "  --sklearn-color-text: #000;\n",
              "  --sklearn-color-text-muted: #666;\n",
              "  --sklearn-color-line: gray;\n",
              "  /* Definition of color scheme for unfitted estimators */\n",
              "  --sklearn-color-unfitted-level-0: #fff5e6;\n",
              "  --sklearn-color-unfitted-level-1: #f6e4d2;\n",
              "  --sklearn-color-unfitted-level-2: #ffe0b3;\n",
              "  --sklearn-color-unfitted-level-3: chocolate;\n",
              "  /* Definition of color scheme for fitted estimators */\n",
              "  --sklearn-color-fitted-level-0: #f0f8ff;\n",
              "  --sklearn-color-fitted-level-1: #d4ebff;\n",
              "  --sklearn-color-fitted-level-2: #b3dbfd;\n",
              "  --sklearn-color-fitted-level-3: cornflowerblue;\n",
              "\n",
              "  /* Specific color for light theme */\n",
              "  --sklearn-color-text-on-default-background: var(--sg-text-color, var(--theme-code-foreground, var(--jp-content-font-color1, black)));\n",
              "  --sklearn-color-background: var(--sg-background-color, var(--theme-background, var(--jp-layout-color0, white)));\n",
              "  --sklearn-color-border-box: var(--sg-text-color, var(--theme-code-foreground, var(--jp-content-font-color1, black)));\n",
              "  --sklearn-color-icon: #696969;\n",
              "\n",
              "  @media (prefers-color-scheme: dark) {\n",
              "    /* Redefinition of color scheme for dark theme */\n",
              "    --sklearn-color-text-on-default-background: var(--sg-text-color, var(--theme-code-foreground, var(--jp-content-font-color1, white)));\n",
              "    --sklearn-color-background: var(--sg-background-color, var(--theme-background, var(--jp-layout-color0, #111)));\n",
              "    --sklearn-color-border-box: var(--sg-text-color, var(--theme-code-foreground, var(--jp-content-font-color1, white)));\n",
              "    --sklearn-color-icon: #878787;\n",
              "  }\n",
              "}\n",
              "\n",
              "#sk-container-id-1 {\n",
              "  color: var(--sklearn-color-text);\n",
              "}\n",
              "\n",
              "#sk-container-id-1 pre {\n",
              "  padding: 0;\n",
              "}\n",
              "\n",
              "#sk-container-id-1 input.sk-hidden--visually {\n",
              "  border: 0;\n",
              "  clip: rect(1px 1px 1px 1px);\n",
              "  clip: rect(1px, 1px, 1px, 1px);\n",
              "  height: 1px;\n",
              "  margin: -1px;\n",
              "  overflow: hidden;\n",
              "  padding: 0;\n",
              "  position: absolute;\n",
              "  width: 1px;\n",
              "}\n",
              "\n",
              "#sk-container-id-1 div.sk-dashed-wrapped {\n",
              "  border: 1px dashed var(--sklearn-color-line);\n",
              "  margin: 0 0.4em 0.5em 0.4em;\n",
              "  box-sizing: border-box;\n",
              "  padding-bottom: 0.4em;\n",
              "  background-color: var(--sklearn-color-background);\n",
              "}\n",
              "\n",
              "#sk-container-id-1 div.sk-container {\n",
              "  /* jupyter's `normalize.less` sets `[hidden] { display: none; }`\n",
              "     but bootstrap.min.css set `[hidden] { display: none !important; }`\n",
              "     so we also need the `!important` here to be able to override the\n",
              "     default hidden behavior on the sphinx rendered scikit-learn.org.\n",
              "     See: https://github.com/scikit-learn/scikit-learn/issues/21755 */\n",
              "  display: inline-block !important;\n",
              "  position: relative;\n",
              "}\n",
              "\n",
              "#sk-container-id-1 div.sk-text-repr-fallback {\n",
              "  display: none;\n",
              "}\n",
              "\n",
              "div.sk-parallel-item,\n",
              "div.sk-serial,\n",
              "div.sk-item {\n",
              "  /* draw centered vertical line to link estimators */\n",
              "  background-image: linear-gradient(var(--sklearn-color-text-on-default-background), var(--sklearn-color-text-on-default-background));\n",
              "  background-size: 2px 100%;\n",
              "  background-repeat: no-repeat;\n",
              "  background-position: center center;\n",
              "}\n",
              "\n",
              "/* Parallel-specific style estimator block */\n",
              "\n",
              "#sk-container-id-1 div.sk-parallel-item::after {\n",
              "  content: \"\";\n",
              "  width: 100%;\n",
              "  border-bottom: 2px solid var(--sklearn-color-text-on-default-background);\n",
              "  flex-grow: 1;\n",
              "}\n",
              "\n",
              "#sk-container-id-1 div.sk-parallel {\n",
              "  display: flex;\n",
              "  align-items: stretch;\n",
              "  justify-content: center;\n",
              "  background-color: var(--sklearn-color-background);\n",
              "  position: relative;\n",
              "}\n",
              "\n",
              "#sk-container-id-1 div.sk-parallel-item {\n",
              "  display: flex;\n",
              "  flex-direction: column;\n",
              "}\n",
              "\n",
              "#sk-container-id-1 div.sk-parallel-item:first-child::after {\n",
              "  align-self: flex-end;\n",
              "  width: 50%;\n",
              "}\n",
              "\n",
              "#sk-container-id-1 div.sk-parallel-item:last-child::after {\n",
              "  align-self: flex-start;\n",
              "  width: 50%;\n",
              "}\n",
              "\n",
              "#sk-container-id-1 div.sk-parallel-item:only-child::after {\n",
              "  width: 0;\n",
              "}\n",
              "\n",
              "/* Serial-specific style estimator block */\n",
              "\n",
              "#sk-container-id-1 div.sk-serial {\n",
              "  display: flex;\n",
              "  flex-direction: column;\n",
              "  align-items: center;\n",
              "  background-color: var(--sklearn-color-background);\n",
              "  padding-right: 1em;\n",
              "  padding-left: 1em;\n",
              "}\n",
              "\n",
              "\n",
              "/* Toggleable style: style used for estimator/Pipeline/ColumnTransformer box that is\n",
              "clickable and can be expanded/collapsed.\n",
              "- Pipeline and ColumnTransformer use this feature and define the default style\n",
              "- Estimators will overwrite some part of the style using the `sk-estimator` class\n",
              "*/\n",
              "\n",
              "/* Pipeline and ColumnTransformer style (default) */\n",
              "\n",
              "#sk-container-id-1 div.sk-toggleable {\n",
              "  /* Default theme specific background. It is overwritten whether we have a\n",
              "  specific estimator or a Pipeline/ColumnTransformer */\n",
              "  background-color: var(--sklearn-color-background);\n",
              "}\n",
              "\n",
              "/* Toggleable label */\n",
              "#sk-container-id-1 label.sk-toggleable__label {\n",
              "  cursor: pointer;\n",
              "  display: flex;\n",
              "  width: 100%;\n",
              "  margin-bottom: 0;\n",
              "  padding: 0.5em;\n",
              "  box-sizing: border-box;\n",
              "  text-align: center;\n",
              "  align-items: start;\n",
              "  justify-content: space-between;\n",
              "  gap: 0.5em;\n",
              "}\n",
              "\n",
              "#sk-container-id-1 label.sk-toggleable__label .caption {\n",
              "  font-size: 0.6rem;\n",
              "  font-weight: lighter;\n",
              "  color: var(--sklearn-color-text-muted);\n",
              "}\n",
              "\n",
              "#sk-container-id-1 label.sk-toggleable__label-arrow:before {\n",
              "  /* Arrow on the left of the label */\n",
              "  content: \"▸\";\n",
              "  float: left;\n",
              "  margin-right: 0.25em;\n",
              "  color: var(--sklearn-color-icon);\n",
              "}\n",
              "\n",
              "#sk-container-id-1 label.sk-toggleable__label-arrow:hover:before {\n",
              "  color: var(--sklearn-color-text);\n",
              "}\n",
              "\n",
              "/* Toggleable content - dropdown */\n",
              "\n",
              "#sk-container-id-1 div.sk-toggleable__content {\n",
              "  max-height: 0;\n",
              "  max-width: 0;\n",
              "  overflow: hidden;\n",
              "  text-align: left;\n",
              "  /* unfitted */\n",
              "  background-color: var(--sklearn-color-unfitted-level-0);\n",
              "}\n",
              "\n",
              "#sk-container-id-1 div.sk-toggleable__content.fitted {\n",
              "  /* fitted */\n",
              "  background-color: var(--sklearn-color-fitted-level-0);\n",
              "}\n",
              "\n",
              "#sk-container-id-1 div.sk-toggleable__content pre {\n",
              "  margin: 0.2em;\n",
              "  border-radius: 0.25em;\n",
              "  color: var(--sklearn-color-text);\n",
              "  /* unfitted */\n",
              "  background-color: var(--sklearn-color-unfitted-level-0);\n",
              "}\n",
              "\n",
              "#sk-container-id-1 div.sk-toggleable__content.fitted pre {\n",
              "  /* unfitted */\n",
              "  background-color: var(--sklearn-color-fitted-level-0);\n",
              "}\n",
              "\n",
              "#sk-container-id-1 input.sk-toggleable__control:checked~div.sk-toggleable__content {\n",
              "  /* Expand drop-down */\n",
              "  max-height: 200px;\n",
              "  max-width: 100%;\n",
              "  overflow: auto;\n",
              "}\n",
              "\n",
              "#sk-container-id-1 input.sk-toggleable__control:checked~label.sk-toggleable__label-arrow:before {\n",
              "  content: \"▾\";\n",
              "}\n",
              "\n",
              "/* Pipeline/ColumnTransformer-specific style */\n",
              "\n",
              "#sk-container-id-1 div.sk-label input.sk-toggleable__control:checked~label.sk-toggleable__label {\n",
              "  color: var(--sklearn-color-text);\n",
              "  background-color: var(--sklearn-color-unfitted-level-2);\n",
              "}\n",
              "\n",
              "#sk-container-id-1 div.sk-label.fitted input.sk-toggleable__control:checked~label.sk-toggleable__label {\n",
              "  background-color: var(--sklearn-color-fitted-level-2);\n",
              "}\n",
              "\n",
              "/* Estimator-specific style */\n",
              "\n",
              "/* Colorize estimator box */\n",
              "#sk-container-id-1 div.sk-estimator input.sk-toggleable__control:checked~label.sk-toggleable__label {\n",
              "  /* unfitted */\n",
              "  background-color: var(--sklearn-color-unfitted-level-2);\n",
              "}\n",
              "\n",
              "#sk-container-id-1 div.sk-estimator.fitted input.sk-toggleable__control:checked~label.sk-toggleable__label {\n",
              "  /* fitted */\n",
              "  background-color: var(--sklearn-color-fitted-level-2);\n",
              "}\n",
              "\n",
              "#sk-container-id-1 div.sk-label label.sk-toggleable__label,\n",
              "#sk-container-id-1 div.sk-label label {\n",
              "  /* The background is the default theme color */\n",
              "  color: var(--sklearn-color-text-on-default-background);\n",
              "}\n",
              "\n",
              "/* On hover, darken the color of the background */\n",
              "#sk-container-id-1 div.sk-label:hover label.sk-toggleable__label {\n",
              "  color: var(--sklearn-color-text);\n",
              "  background-color: var(--sklearn-color-unfitted-level-2);\n",
              "}\n",
              "\n",
              "/* Label box, darken color on hover, fitted */\n",
              "#sk-container-id-1 div.sk-label.fitted:hover label.sk-toggleable__label.fitted {\n",
              "  color: var(--sklearn-color-text);\n",
              "  background-color: var(--sklearn-color-fitted-level-2);\n",
              "}\n",
              "\n",
              "/* Estimator label */\n",
              "\n",
              "#sk-container-id-1 div.sk-label label {\n",
              "  font-family: monospace;\n",
              "  font-weight: bold;\n",
              "  display: inline-block;\n",
              "  line-height: 1.2em;\n",
              "}\n",
              "\n",
              "#sk-container-id-1 div.sk-label-container {\n",
              "  text-align: center;\n",
              "}\n",
              "\n",
              "/* Estimator-specific */\n",
              "#sk-container-id-1 div.sk-estimator {\n",
              "  font-family: monospace;\n",
              "  border: 1px dotted var(--sklearn-color-border-box);\n",
              "  border-radius: 0.25em;\n",
              "  box-sizing: border-box;\n",
              "  margin-bottom: 0.5em;\n",
              "  /* unfitted */\n",
              "  background-color: var(--sklearn-color-unfitted-level-0);\n",
              "}\n",
              "\n",
              "#sk-container-id-1 div.sk-estimator.fitted {\n",
              "  /* fitted */\n",
              "  background-color: var(--sklearn-color-fitted-level-0);\n",
              "}\n",
              "\n",
              "/* on hover */\n",
              "#sk-container-id-1 div.sk-estimator:hover {\n",
              "  /* unfitted */\n",
              "  background-color: var(--sklearn-color-unfitted-level-2);\n",
              "}\n",
              "\n",
              "#sk-container-id-1 div.sk-estimator.fitted:hover {\n",
              "  /* fitted */\n",
              "  background-color: var(--sklearn-color-fitted-level-2);\n",
              "}\n",
              "\n",
              "/* Specification for estimator info (e.g. \"i\" and \"?\") */\n",
              "\n",
              "/* Common style for \"i\" and \"?\" */\n",
              "\n",
              ".sk-estimator-doc-link,\n",
              "a:link.sk-estimator-doc-link,\n",
              "a:visited.sk-estimator-doc-link {\n",
              "  float: right;\n",
              "  font-size: smaller;\n",
              "  line-height: 1em;\n",
              "  font-family: monospace;\n",
              "  background-color: var(--sklearn-color-background);\n",
              "  border-radius: 1em;\n",
              "  height: 1em;\n",
              "  width: 1em;\n",
              "  text-decoration: none !important;\n",
              "  margin-left: 0.5em;\n",
              "  text-align: center;\n",
              "  /* unfitted */\n",
              "  border: var(--sklearn-color-unfitted-level-1) 1pt solid;\n",
              "  color: var(--sklearn-color-unfitted-level-1);\n",
              "}\n",
              "\n",
              ".sk-estimator-doc-link.fitted,\n",
              "a:link.sk-estimator-doc-link.fitted,\n",
              "a:visited.sk-estimator-doc-link.fitted {\n",
              "  /* fitted */\n",
              "  border: var(--sklearn-color-fitted-level-1) 1pt solid;\n",
              "  color: var(--sklearn-color-fitted-level-1);\n",
              "}\n",
              "\n",
              "/* On hover */\n",
              "div.sk-estimator:hover .sk-estimator-doc-link:hover,\n",
              ".sk-estimator-doc-link:hover,\n",
              "div.sk-label-container:hover .sk-estimator-doc-link:hover,\n",
              ".sk-estimator-doc-link:hover {\n",
              "  /* unfitted */\n",
              "  background-color: var(--sklearn-color-unfitted-level-3);\n",
              "  color: var(--sklearn-color-background);\n",
              "  text-decoration: none;\n",
              "}\n",
              "\n",
              "div.sk-estimator.fitted:hover .sk-estimator-doc-link.fitted:hover,\n",
              ".sk-estimator-doc-link.fitted:hover,\n",
              "div.sk-label-container:hover .sk-estimator-doc-link.fitted:hover,\n",
              ".sk-estimator-doc-link.fitted:hover {\n",
              "  /* fitted */\n",
              "  background-color: var(--sklearn-color-fitted-level-3);\n",
              "  color: var(--sklearn-color-background);\n",
              "  text-decoration: none;\n",
              "}\n",
              "\n",
              "/* Span, style for the box shown on hovering the info icon */\n",
              ".sk-estimator-doc-link span {\n",
              "  display: none;\n",
              "  z-index: 9999;\n",
              "  position: relative;\n",
              "  font-weight: normal;\n",
              "  right: .2ex;\n",
              "  padding: .5ex;\n",
              "  margin: .5ex;\n",
              "  width: min-content;\n",
              "  min-width: 20ex;\n",
              "  max-width: 50ex;\n",
              "  color: var(--sklearn-color-text);\n",
              "  box-shadow: 2pt 2pt 4pt #999;\n",
              "  /* unfitted */\n",
              "  background: var(--sklearn-color-unfitted-level-0);\n",
              "  border: .5pt solid var(--sklearn-color-unfitted-level-3);\n",
              "}\n",
              "\n",
              ".sk-estimator-doc-link.fitted span {\n",
              "  /* fitted */\n",
              "  background: var(--sklearn-color-fitted-level-0);\n",
              "  border: var(--sklearn-color-fitted-level-3);\n",
              "}\n",
              "\n",
              ".sk-estimator-doc-link:hover span {\n",
              "  display: block;\n",
              "}\n",
              "\n",
              "/* \"?\"-specific style due to the `<a>` HTML tag */\n",
              "\n",
              "#sk-container-id-1 a.estimator_doc_link {\n",
              "  float: right;\n",
              "  font-size: 1rem;\n",
              "  line-height: 1em;\n",
              "  font-family: monospace;\n",
              "  background-color: var(--sklearn-color-background);\n",
              "  border-radius: 1rem;\n",
              "  height: 1rem;\n",
              "  width: 1rem;\n",
              "  text-decoration: none;\n",
              "  /* unfitted */\n",
              "  color: var(--sklearn-color-unfitted-level-1);\n",
              "  border: var(--sklearn-color-unfitted-level-1) 1pt solid;\n",
              "}\n",
              "\n",
              "#sk-container-id-1 a.estimator_doc_link.fitted {\n",
              "  /* fitted */\n",
              "  border: var(--sklearn-color-fitted-level-1) 1pt solid;\n",
              "  color: var(--sklearn-color-fitted-level-1);\n",
              "}\n",
              "\n",
              "/* On hover */\n",
              "#sk-container-id-1 a.estimator_doc_link:hover {\n",
              "  /* unfitted */\n",
              "  background-color: var(--sklearn-color-unfitted-level-3);\n",
              "  color: var(--sklearn-color-background);\n",
              "  text-decoration: none;\n",
              "}\n",
              "\n",
              "#sk-container-id-1 a.estimator_doc_link.fitted:hover {\n",
              "  /* fitted */\n",
              "  background-color: var(--sklearn-color-fitted-level-3);\n",
              "}\n",
              "</style><div id=\"sk-container-id-1\" class=\"sk-top-container\"><div class=\"sk-text-repr-fallback\"><pre>SVC(C=1, class_weight=&#x27;balanced&#x27;, gamma=0.01, random_state=42)</pre><b>In a Jupyter environment, please rerun this cell to show the HTML representation or trust the notebook. <br />On GitHub, the HTML representation is unable to render, please try loading this page with nbviewer.org.</b></div><div class=\"sk-container\" hidden><div class=\"sk-item\"><div class=\"sk-estimator fitted sk-toggleable\"><input class=\"sk-toggleable__control sk-hidden--visually\" id=\"sk-estimator-id-1\" type=\"checkbox\" checked><label for=\"sk-estimator-id-1\" class=\"sk-toggleable__label fitted sk-toggleable__label-arrow\"><div><div>SVC</div></div><div><a class=\"sk-estimator-doc-link fitted\" rel=\"noreferrer\" target=\"_blank\" href=\"https://scikit-learn.org/1.6/modules/generated/sklearn.svm.SVC.html\">?<span>Documentation for SVC</span></a><span class=\"sk-estimator-doc-link fitted\">i<span>Fitted</span></span></div></label><div class=\"sk-toggleable__content fitted\"><pre>SVC(C=1, class_weight=&#x27;balanced&#x27;, gamma=0.01, random_state=42)</pre></div> </div></div></div></div>"
            ],
            "text/plain": [
              "SVC(C=1, class_weight='balanced', gamma=0.01, random_state=42)"
            ]
          },
          "execution_count": 33,
          "metadata": {},
          "output_type": "execute_result"
        }
      ],
      "source": [
        "modelo_final = grid_svm.best_estimator_\n",
        "modelo_final"
      ]
    },
    {
      "cell_type": "code",
      "execution_count": 34,
      "metadata": {},
      "outputs": [
        {
          "name": "stdout",
          "output_type": "stream",
          "text": [
            "\n",
            "Métricas del modelo final en el conjunto de prueba:\n",
            "----------------------------------------------------\n",
            "Balanced Accuracy: 0.7560\n",
            "F1 Score: 0.6303\n",
            "Recall: 0.7705\n",
            "Precision: 0.5333\n",
            "PR AUC: 0.6434\n"
          ]
        }
      ],
      "source": [
        "from sklearn.metrics import balanced_accuracy_score, f1_score, recall_score, precision_score, average_precision_score\n",
        "\n",
        "# El mejor modelo ya está entrenado en grid_svm.best_estimator_\n",
        "modelo_final = grid_svm.best_estimator_\n",
        "\n",
        "print(\"\\nMétricas del modelo final en el conjunto de prueba:\")\n",
        "print(\"----------------------------------------------------\")\n",
        "\n",
        "# Realizar predicciones en el conjunto de prueba\n",
        "y_pred_final = modelo_final.predict(X_test_scaled)\n",
        "\n",
        "# Calcular y mostrar las métricas\n",
        "# Balanced Accuracy\n",
        "balanced_acc_final = balanced_accuracy_score(y_test, y_pred_final)\n",
        "print(f\"Balanced Accuracy: {balanced_acc_final:.4f}\")\n",
        "\n",
        "# F1 Score\n",
        "f1_final = f1_score(y_test, y_pred_final)\n",
        "print(f\"F1 Score: {f1_final:.4f}\")\n",
        "\n",
        "# Recall\n",
        "recall_final = recall_score(y_test, y_pred_final)\n",
        "print(f\"Recall: {recall_final:.4f}\")\n",
        "\n",
        "# Precision\n",
        "precision_final = precision_score(y_test, y_pred_final)\n",
        "print(f\"Precision: {precision_final:.4f}\")\n",
        "\n",
        "# PR AUC (si el modelo puede predecir probabilidades o decision function)\n",
        "# La mayoría de los SVM pueden calcular la decision function\n",
        "if hasattr(modelo_final, \"predict_proba\"):\n",
        "    y_proba_final = modelo_final.predict_proba(X_test_scaled)[:, 1]\n",
        "    pr_auc_final = average_precision_score(y_test, y_proba_final)\n",
        "    print(f\"PR AUC: {pr_auc_final:.4f}\")\n",
        "elif hasattr(modelo_final, \"decision_function\"):\n",
        "    y_score_final = modelo_final.decision_function(X_test_scaled)\n",
        "    pr_auc_final = average_precision_score(y_test, y_score_final)\n",
        "    print(f\"PR AUC: {pr_auc_final:.4f}\")\n",
        "else:\n",
        "    print(\"El modelo no tiene predict_proba ni decision_function para calcular PR AUC.\")"
      ]
    },
    {
      "cell_type": "code",
      "execution_count": 35,
      "metadata": {},
      "outputs": [
        {
          "name": "stdout",
          "output_type": "stream",
          "text": [
            "Métricas exactas de cada modelo:\n",
            "                Balanced Accuracy  F1 Score    Recall  Precision    PR AUC\n",
            "SVM Base                 0.755836  0.632214  0.752049   0.545319  0.608107\n",
            "SVM GridSearch           0.756024  0.630344  0.770492   0.533333  0.643403\n"
          ]
        },
        {
          "data": {
            "image/png": "[encoded data removed]",
            "text/plain": [
              "<Figure size 1000x600 with 1 Axes>"
            ]
          },
          "metadata": {},
          "output_type": "display_data"
        }
      ],
      "source": [
        "# Extraer métricas del modelo final (entrenado con GridSearchCV)\n",
        "metricas_final = {\n",
        "    'Balanced Accuracy': balanced_acc_final,\n",
        "    'F1 Score': f1_final,\n",
        "    'Recall': recall_final,\n",
        "    'Precision': precision_final,\n",
        "    'PR AUC': pr_auc_final\n",
        "}\n",
        "\n",
        "# Extraer métricas del modelo base SVM_rbf estandarizado (de df_resultados_std)\n",
        "# Buscamos la fila correspondiente al modelo 'STD - SVM_rbf'\n",
        "metricas_base_row = df_resultados_std[df_resultados_std['Modelo'] == 'STD - SVM_rbf'].iloc[0]\n",
        "metricas_base = {\n",
        "    'Balanced Accuracy': metricas_base_row['Balanced Accuracy'],\n",
        "    'F1 Score': metricas_base_row['F1 Score'],\n",
        "    'Recall': metricas_base_row['Recall'],\n",
        "    'Precision': metricas_base_row['Precision'],\n",
        "    'PR AUC': metricas_base_row['PR AUC']\n",
        "}\n",
        "\n",
        "# Mostrar las métricas exactas en formato tabla\n",
        "df_metricas = pd.DataFrame([metricas_base, metricas_final], index=['SVM Base', 'SVM GridSearch'])\n",
        "print(\"Métricas exactas de cada modelo:\")\n",
        "print(df_metricas)\n",
        "\n",
        "# Crear DataFrame para comparar\n",
        "import matplotlib.pyplot as plt\n",
        "\n",
        "df_comparacion = pd.DataFrame([metricas_base, metricas_final], index=['SVM Base', 'SVM GridSearch'])\n",
        "\n",
        "# Plot\n",
        "df_comparacion.T.plot(kind='bar', figsize=(10,6))\n",
        "plt.title('Comparación de métricas: SVM Base vs SVM GridSearch')\n",
        "plt.ylabel('Valor')\n",
        "plt.xticks(rotation=45)\n",
        "plt.legend(title='Modelo')\n",
        "plt.grid(axis='y', linestyle='--', alpha=0.6)\n",
        "plt.tight_layout()\n",
        "plt.show()"
      ]
    },
    {
      "cell_type": "code",
      "execution_count": null,
      "metadata": {},
      "outputs": [],
      "source": []
    },
    {
      "cell_type": "code",
      "execution_count": 36,
      "metadata": {},
      "outputs": [
        {
          "name": "stdout",
          "output_type": "stream",
          "text": [
            "Fitting 5 folds for each of 20 candidates, totalling 100 fits\n",
            "\n",
            "Mejores hiperparámetros encontrados por Random Search: {'gamma': 0.1, 'class_weight': 'balanced', 'C': 1}\n",
            "Mejor Balanced Accuracy en CV (Random Search): 0.7643298945240116\n"
          ]
        },
        {
          "data": {
            "text/plain": [
              "<Figure size 1200x600 with 0 Axes>"
            ]
          },
          "metadata": {},
          "output_type": "display_data"
        },
        {
          "data": {
            "image/png": "[encoded data removed]",
            "text/plain": [
              "<Figure size 640x480 with 1 Axes>"
            ]
          },
          "metadata": {},
          "output_type": "display_data"
        }
      ],
      "source": [
        "from sklearn.model_selection import RandomizedSearchCV\n",
        "\n",
        "# Define el espacio de búsqueda para los hiperparámetros del SVM\n",
        "param_distributions = {\n",
        "    'C': [0.1, 1, 10, 100, 1000],\n",
        "    'gamma': [0.0001, 0.001, 0.01, 0.1, 1],\n",
        "    'class_weight': ['balanced']\n",
        "}\n",
        "\n",
        "# Inicializa el modelo SVM\n",
        "svm_model_rs = SVC(kernel='rbf', random_state=42)\n",
        "\n",
        "# Búsqueda aleatoria con validación cruzada\n",
        "random_search = RandomizedSearchCV(\n",
        "    estimator=svm_model_rs,\n",
        "    param_distributions=param_distributions,\n",
        "    n_iter=20,                           # Número de combinaciones a probar\n",
        "    scoring='balanced_accuracy',\n",
        "    n_jobs=multiprocessing.cpu_count() - 1,\n",
        "    cv=cv_strategy,\n",
        "    refit=True,\n",
        "    verbose=2,\n",
        "    random_state=42,\n",
        "    return_train_score=True\n",
        ")\n",
        "\n",
        "# Realizar la búsqueda aleatoria\n",
        "random_search.fit(X_train_scaled, y_train)\n",
        "\n",
        "# Mostrar resultados\n",
        "print(\"\\nMejores hiperparámetros encontrados por Random Search:\", random_search.best_params_)\n",
        "print(\"Mejor Balanced Accuracy en CV (Random Search):\", random_search.best_score_)\n",
        "\n",
        "# Evaluar el mejor modelo en el conjunto de prueba\n",
        "y_pred_random = random_search.predict(X_test_scaled)\n",
        "\n",
        "# Calcular métricas\n",
        "balanced_acc_random = balanced_accuracy_score(y_test, y_pred_random)\n",
        "f1_random = f1_score(y_test, y_pred_random)\n",
        "recall_random = recall_score(y_test, y_pred_random)\n",
        "precision_random = precision_score(y_test, y_pred_random)\n",
        "\n",
        "# Calcular PR AUC\n",
        "if hasattr(random_search.best_estimator_, \"decision_function\"):\n",
        "    y_score_random = random_search.best_estimator_.decision_function(X_test_scaled)\n",
        "    pr_auc_random = average_precision_score(y_test, y_score_random)\n",
        "\n",
        "# Crear DataFrame con todas las métricas para comparar\n",
        "metricas_random = {\n",
        "    'Balanced Accuracy': balanced_acc_random,\n",
        "    'F1 Score': f1_random,\n",
        "    'Recall': recall_random,\n",
        "    'Precision': precision_random,\n",
        "    'PR AUC': pr_auc_random\n",
        "}\n",
        "\n",
        "# Comparar los tres modelos\n",
        "df_comparacion_final = pd.DataFrame([\n",
        "    metricas_base,\n",
        "    metricas_final,\n",
        "    metricas_random\n",
        "], index=['SVM Base', 'SVM GridSearch', 'SVM RandomSearch'])\n",
        "\n",
        "# Visualizar comparación\n",
        "plt.figure(figsize=(12,6))\n",
        "df_comparacion_final.T.plot(kind='bar')\n",
        "plt.title('Comparación de métricas: SVM Base vs GridSearch vs RandomSearch')\n",
        "plt.ylabel('Valor')\n",
        "plt.xticks(rotation=45)\n",
        "plt.legend(title='Modelo')\n",
        "plt.grid(axis='y', linestyle='--', alpha=0.6)\n",
        "plt.tight_layout()\n",
        "plt.show()\n"
      ]
    },
    {
      "cell_type": "code",
      "execution_count": null,
      "metadata": {},
      "outputs": [],
      "source": []
    },
    {
      "cell_type": "code",
      "execution_count": null,
      "metadata": {},
      "outputs": [],
      "source": []
    },
    {
      "cell_type": "markdown",
      "metadata": {
        "id": "85rUykPcNTEz"
      },
      "source": [
        "###Predicción y Evaluación del modelo"
      ]
    },
    {
      "cell_type": "code",
      "execution_count": null,
      "metadata": {
        "id": "N7tn-hrqNV37"
      },
      "outputs": [],
      "source": []
    },
    {
      "cell_type": "markdown",
      "metadata": {
        "id": "nfS5rEoTNliE"
      },
      "source": [
        "###Predicción de Probabilidades"
      ]
    },
    {
      "cell_type": "markdown",
      "metadata": {
        "id": "C8tMIqZBNpM5"
      },
      "source": [
        "*En caso de usar un modelo de ensamble, tambien podemos obtener la probabilidad que asigna el árbol de que un valor pertenezca a una clase u otra.*"
      ]
    },
    {
      "cell_type": "code",
      "execution_count": 37,
      "metadata": {
        "id": "R_ezDZqVNoNy"
      },
      "outputs": [],
      "source": [
        "#..."
      ]
    },
    {
      "cell_type": "markdown",
      "metadata": {
        "id": "v8OTmVZ5Nzat"
      },
      "source": [
        "###Importancia de Predictores"
      ]
    },
    {
      "cell_type": "code",
      "execution_count": 38,
      "metadata": {
        "id": "x0xGW8FjOAPX"
      },
      "outputs": [],
      "source": [
        "#..."
      ]
    },
    {
      "cell_type": "code",
      "execution_count": null,
      "metadata": {},
      "outputs": [],
      "source": []
    },
    {
      "cell_type": "code",
      "execution_count": null,
      "metadata": {},
      "outputs": [],
      "source": []
    },
    {
      "cell_type": "markdown",
      "metadata": {},
      "source": [
        "# Extra data"
      ]
    },
    {
      "cell_type": "code",
      "execution_count": 39,
      "metadata": {},
      "outputs": [
        {
          "name": "stdout",
          "output_type": "stream",
          "text": [
            "<class 'pandas.core.frame.DataFrame'>\n",
            "RangeIndex: 7043 entries, 0 to 7042\n",
            "Data columns (total 24 columns):\n",
            " #   Column                                 Non-Null Count  Dtype  \n",
            "---  ------                                 --------------  -----  \n",
            " 0   gender                                 7043 non-null   int64  \n",
            " 1   SeniorCitizen                          7043 non-null   int64  \n",
            " 2   Partner                                7043 non-null   int64  \n",
            " 3   Dependents                             7043 non-null   int64  \n",
            " 4   tenure                                 7043 non-null   int64  \n",
            " 5   PhoneService                           7043 non-null   int64  \n",
            " 6   PaperlessBilling                       7043 non-null   int64  \n",
            " 7   MonthlyCharges                         7043 non-null   float64\n",
            " 8   TotalCharges                           7043 non-null   float64\n",
            " 9   Churn                                  7043 non-null   int64  \n",
            " 10  HasMultipleLines                       7043 non-null   int64  \n",
            " 11  HasOnlineSecurity                      7043 non-null   int64  \n",
            " 12  HasOnlineBackup                        7043 non-null   int64  \n",
            " 13  HasDeviceProtection                    7043 non-null   int64  \n",
            " 14  HasTechSupport                         7043 non-null   int64  \n",
            " 15  HasStreamingTV                         7043 non-null   int64  \n",
            " 16  HasStreamingMovies                     7043 non-null   int64  \n",
            " 17  InternetService_Fiber optic            7043 non-null   int64  \n",
            " 18  InternetService_No                     7043 non-null   int64  \n",
            " 19  Contract_One year                      7043 non-null   int64  \n",
            " 20  Contract_Two year                      7043 non-null   int64  \n",
            " 21  PaymentMethod_Credit card (automatic)  7043 non-null   int64  \n",
            " 22  PaymentMethod_Electronic check         7043 non-null   int64  \n",
            " 23  PaymentMethod_Mailed check             7043 non-null   int64  \n",
            "dtypes: float64(2), int64(22)\n",
            "memory usage: 1.3 MB\n"
          ]
        }
      ],
      "source": [
        "df_final.info()"
      ]
    },
    {
      "cell_type": "markdown",
      "metadata": {},
      "source": []
    },
    {
      "cell_type": "code",
      "execution_count": 40,
      "metadata": {},
      "outputs": [],
      "source": [
        "# Crear una copia del DataFrame final\n",
        "df_final_features = df_final.copy()\n",
        "\n",
        "# Crear columna HasInternet: 1 si tiene cualquier tipo de internet, 0 si no\n",
        "if 'InternetService_No' in df_final_features.columns:\n",
        "    df_final_features['HasInternet'] = 1 - df_final_features['InternetService_No']\n",
        "else:\n",
        "    # Si no existe la dummy, chequea por las otras\n",
        "    df_final_features['HasInternet'] = (\n",
        "        (df_final_features.get('InternetService_Fiber optic', 0) == 1) |\n",
        "        (df_final_features.get('InternetService_DSL', 0) == 1)\n",
        "    ).astype(int)\n",
        "\n",
        "# Definir las columnas de servicios (ajusta los nombres si es necesario)\n",
        "servicio_cols = [\n",
        "    'PhoneService',           # Servicio telefónico\n",
        "    'HasMultipleLines',       # Línea telefónica adicional\n",
        "    'HasOnlineSecurity',\n",
        "    'HasOnlineBackup',\n",
        "    'HasDeviceProtection',\n",
        "    'HasTechSupport',\n",
        "    'HasStreamingTV',\n",
        "    'HasStreamingMovies'\n",
        "]\n",
        "\n",
        "# Si alguna columna no existe, ignórala (por si cambió el pipeline)\n",
        "servicio_cols = [col for col in servicio_cols if col in df_final_features.columns]\n",
        "\n",
        "# Crear la variable countServices\n",
        "df_final_features['countServices'] = df_final_features[servicio_cols].sum(axis=1)\n",
        "\n",
        "# Crear la variable MonthlyChargeRate (evitar división por cero)\n",
        "df_final_features['MonthlyChargeRate'] = df_final_features['TotalCharges'] / df_final_features['tenure'].replace(0, np.nan)\n",
        "\n",
        "# Reemplazar posibles infinitos o NaN por 0 (opcional, según tu criterio)\n",
        "df_final_features['MonthlyChargeRate'] = df_final_features['MonthlyChargeRate'].replace([np.inf, -np.inf], np.nan).fillna(0)\n",
        "\n",
        "# Estandarizar las variables numéricas (incluyendo las nuevas)\n",
        "cols_to_scale = ['tenure', 'MonthlyCharges', 'TotalCharges', 'countServices', 'MonthlyChargeRate']\n",
        "\n",
        "from sklearn.preprocessing import StandardScaler\n",
        "\n",
        "scaler = StandardScaler()\n",
        "df_final_features_scaled = df_final_features.copy()\n",
        "df_final_features_scaled[cols_to_scale] = scaler.fit_transform(df_final_features[cols_to_scale])\n",
        "\n",
        "# Ahora puedes usar df_final_features_scaled para entrenar un modelo\n",
        "# Ejemplo de split:\n",
        "from sklearn.model_selection import train_test_split\n",
        "\n",
        "X = df_final_features_scaled.drop(columns='Churn')\n",
        "y = df_final_features_scaled['Churn']\n",
        "\n",
        "X_train, X_test, y_train, y_test = train_test_split(X, y, random_state=22)"
      ]
    },
    {
      "cell_type": "code",
      "execution_count": null,
      "metadata": {},
      "outputs": [],
      "source": []
    },
    {
      "cell_type": "code",
      "execution_count": 41,
      "metadata": {},
      "outputs": [
        {
          "name": "stdout",
          "output_type": "stream",
          "text": [
            "Fitting 5 folds for each of 16 candidates, totalling 80 fits\n",
            "\n",
            "Mejores hiperparámetros: {'C': 1, 'class_weight': 'balanced', 'gamma': 0.01}\n",
            "Mejor Balanced Accuracy en CV: 0.7632754395344961\n",
            "\n",
            "Métricas en test:\n",
            "Balanced Accuracy: 0.7524\n",
            "F1 Score: 0.6259\n",
            "Recall: 0.7664\n",
            "Precision: 0.5290\n",
            "PR AUC: 0.6445\n"
          ]
        }
      ],
      "source": [
        "from sklearn.model_selection import GridSearchCV, RepeatedKFold\n",
        "from sklearn.svm import SVC\n",
        "import multiprocessing\n",
        "\n",
        "# Define el espacio de búsqueda para los hiperparámetros\n",
        "param_grid_svm = {\n",
        "    'C': [0.1, 1, 10, 100],          \n",
        "    'gamma': [0.001, 0.01, 0.1, 1],  \n",
        "    'class_weight': ['balanced']      \n",
        "}\n",
        "\n",
        "# Inicializa el modelo base\n",
        "svm_model = SVC(kernel='rbf', random_state=42)\n",
        "\n",
        "# Define la estrategia de validación cruzada\n",
        "cv_strategy = RepeatedKFold(n_splits=5, n_repeats=1, random_state=123)\n",
        "\n",
        "# Configura el GridSearch\n",
        "grid_svm = GridSearchCV(\n",
        "    estimator=svm_model,\n",
        "    param_grid=param_grid_svm,\n",
        "    scoring='balanced_accuracy',\n",
        "    n_jobs=multiprocessing.cpu_count() - 1,\n",
        "    cv=cv_strategy,\n",
        "    refit=True,\n",
        "    verbose=2,\n",
        "    return_train_score=True\n",
        ")\n",
        "\n",
        "# Realizar la búsqueda usando tus variables de split\n",
        "grid_svm.fit(X=X_train, y=y_train)\n",
        "\n",
        "# Mostrar mejores resultados\n",
        "print(\"\\nMejores hiperparámetros:\", grid_svm.best_params_)\n",
        "print(\"Mejor Balanced Accuracy en CV:\", grid_svm.best_score_)\n",
        "\n",
        "# Obtener el mejor modelo y evaluar en test\n",
        "modelo_final = grid_svm.best_estimator_\n",
        "y_pred = modelo_final.predict(X_test)\n",
        "\n",
        "# Calcular métricas finales\n",
        "balanced_acc = balanced_accuracy_score(y_test, y_pred)\n",
        "f1 = f1_score(y_test, y_pred)\n",
        "recall = recall_score(y_test, y_pred)\n",
        "precision = precision_score(y_test, y_pred)\n",
        "pr_auc = average_precision_score(y_test, modelo_final.decision_function(X_test))\n",
        "\n",
        "print(\"\\nMétricas en test:\")\n",
        "print(f\"Balanced Accuracy: {balanced_acc:.4f}\")\n",
        "print(f\"F1 Score: {f1:.4f}\")\n",
        "print(f\"Recall: {recall:.4f}\") \n",
        "print(f\"Precision: {precision:.4f}\")\n",
        "print(f\"PR AUC: {pr_auc:.4f}\")"
      ]
    },
    {
      "cell_type": "code",
      "execution_count": 42,
      "metadata": {},
      "outputs": [
        {
          "name": "stdout",
          "output_type": "stream",
          "text": [
            "Fitting 5 folds for each of 20 candidates, totalling 100 fits\n",
            "\n",
            "Mejores hiperparámetros encontrados: {'gamma': 0.1, 'class_weight': 'balanced', 'C': 0.1}\n",
            "Mejor Balanced Accuracy en CV: 0.7628584944487281\n",
            "\n",
            "Métricas en test:\n",
            "Balanced Accuracy: 0.7528\n",
            "F1 Score: 0.6276\n",
            "Recall: 0.7561\n",
            "Precision: 0.5363\n",
            "PR AUC: 0.6216\n"
          ]
        }
      ],
      "source": [
        "from sklearn.model_selection import RandomizedSearchCV\n",
        "\n",
        "# Define el espacio de búsqueda para los hiperparámetros \n",
        "param_distributions = {\n",
        "    'C': [0.1, 1, 10, 100, 1000],\n",
        "    'gamma': [0.0001, 0.001, 0.01, 0.1, 1], \n",
        "    'class_weight': ['balanced']\n",
        "}\n",
        "\n",
        "# Inicializa el modelo base\n",
        "svm_model_rs = SVC(kernel='rbf', random_state=42)\n",
        "\n",
        "# Configura el RandomSearch\n",
        "random_search = RandomizedSearchCV(\n",
        "    estimator=svm_model_rs,\n",
        "    param_distributions=param_distributions,\n",
        "    n_iter=20,                           # Número de combinaciones a probar\n",
        "    scoring='balanced_accuracy',\n",
        "    n_jobs=multiprocessing.cpu_count() - 1,\n",
        "    cv=cv_strategy,\n",
        "    refit=True,\n",
        "    verbose=2,\n",
        "    random_state=42,\n",
        "    return_train_score=True\n",
        ")\n",
        "\n",
        "# Realizar la búsqueda usando tus variables\n",
        "random_search.fit(X_train, y_train)\n",
        "\n",
        "# Mostrar resultados\n",
        "print(\"\\nMejores hiperparámetros encontrados:\", random_search.best_params_)\n",
        "print(\"Mejor Balanced Accuracy en CV:\", random_search.best_score_)\n",
        "\n",
        "# Evaluar el mejor modelo en test\n",
        "y_pred_random = random_search.predict(X_test)\n",
        "\n",
        "# Calcular métricas\n",
        "balanced_acc_random = balanced_accuracy_score(y_test, y_pred_random)\n",
        "f1_random = f1_score(y_test, y_pred_random)\n",
        "recall_random = recall_score(y_test, y_pred_random)\n",
        "precision_random = precision_score(y_test, y_pred_random)\n",
        "\n",
        "# Calcular PR AUC\n",
        "if hasattr(random_search.best_estimator_, \"decision_function\"):\n",
        "    y_score_random = random_search.best_estimator_.decision_function(X_test)\n",
        "    pr_auc_random = average_precision_score(y_test, y_score_random)\n",
        "\n",
        "print(\"\\nMétricas en test:\")\n",
        "print(f\"Balanced Accuracy: {balanced_acc_random:.4f}\")\n",
        "print(f\"F1 Score: {f1_random:.4f}\")\n",
        "print(f\"Recall: {recall_random:.4f}\")\n",
        "print(f\"Precision: {precision_random:.4f}\")\n",
        "print(f\"PR AUC: {pr_auc_random:.4f}\")"
      ]
    },
    {
      "cell_type": "code",
      "execution_count": null,
      "metadata": {},
      "outputs": [],
      "source": []
    },
    {
      "cell_type": "markdown",
      "metadata": {},
      "source": []
    },
    {
      "cell_type": "code",
      "execution_count": null,
      "metadata": {},
      "outputs": [],
      "source": []
    },
    {
      "cell_type": "code",
      "execution_count": 43,
      "metadata": {},
      "outputs": [
        {
          "name": "stdout",
          "output_type": "stream",
          "text": [
            "Fitting 5 folds for each of 16 candidates, totalling 80 fits\n",
            "Fitting 5 folds for each of 16 candidates, totalling 80 fits\n",
            "Comparación de métricas SVM-RBF (GridSearch):\n",
            "                      Balanced Accuracy  F1 Score    Recall  Precision  \\\n",
            "Sin nuevas variables           0.756024  0.630344  0.770492   0.533333   \n",
            "Con nuevas variables           0.752403  0.625941  0.766393   0.528996   \n",
            "\n",
            "                        PR AUC  \n",
            "Sin nuevas variables  0.643403  \n",
            "Con nuevas variables  0.644507  \n"
          ]
        }
      ],
      "source": [
        "# --- ENTRENAMIENTO Y COMPARACIÓN SVM-RBF GRIDSEARCH: SIN y CON VARIABLES NUEVAS ---\n",
        "\n",
        "from sklearn.model_selection import GridSearchCV, RepeatedKFold\n",
        "from sklearn.svm import SVC\n",
        "from sklearn.metrics import balanced_accuracy_score, f1_score, recall_score, precision_score, average_precision_score\n",
        "import multiprocessing\n",
        "import pandas as pd\n",
        "\n",
        "# 1. Definir hiperparámetros y CV\n",
        "param_grid_svm = {\n",
        "    'C': [0.1, 1, 10, 100],\n",
        "    'gamma': [0.001, 0.01, 0.1, 1],\n",
        "    'class_weight': ['balanced']\n",
        "}\n",
        "cv_strategy = RepeatedKFold(n_splits=5, n_repeats=1, random_state=123)\n",
        "\n",
        "# 2. Entrenamiento SIN variables nuevas\n",
        "# (Asegúrate de tener X_train_scaled, X_test_scaled, y_train, y_test definidos)\n",
        "svm_model = SVC(kernel='rbf', random_state=42)\n",
        "grid_svm_old = GridSearchCV(\n",
        "    estimator=svm_model,\n",
        "    param_grid=param_grid_svm,\n",
        "    scoring='balanced_accuracy',\n",
        "    n_jobs=multiprocessing.cpu_count() - 1,\n",
        "    cv=cv_strategy,\n",
        "    refit=True,\n",
        "    verbose=2,\n",
        "    return_train_score=True\n",
        ")\n",
        "grid_svm_old.fit(X_train_scaled, y_train)\n",
        "y_pred_old = grid_svm_old.best_estimator_.predict(X_test_scaled)\n",
        "metrics_old = {\n",
        "    'Balanced Accuracy': balanced_accuracy_score(y_test, y_pred_old),\n",
        "    'F1 Score': f1_score(y_test, y_pred_old),\n",
        "    'Recall': recall_score(y_test, y_pred_old),\n",
        "    'Precision': precision_score(y_test, y_pred_old),\n",
        "    'PR AUC': average_precision_score(y_test, grid_svm_old.best_estimator_.decision_function(X_test_scaled))\n",
        "}\n",
        "\n",
        "# 3. Entrenamiento CON variables nuevas\n",
        "# (Asegúrate de tener X_train, X_test, y_train, y_test con las variables nuevas y escaladas)\n",
        "svm_model2 = SVC(kernel='rbf', random_state=42)\n",
        "grid_svm_new = GridSearchCV(\n",
        "    estimator=svm_model2,\n",
        "    param_grid=param_grid_svm,\n",
        "    scoring='balanced_accuracy',\n",
        "    n_jobs=multiprocessing.cpu_count() - 1,\n",
        "    cv=cv_strategy,\n",
        "    refit=True,\n",
        "    verbose=2,\n",
        "    return_train_score=True\n",
        ")\n",
        "grid_svm_new.fit(X_train, y_train)\n",
        "y_pred_new = grid_svm_new.best_estimator_.predict(X_test)\n",
        "metrics_new = {\n",
        "    'Balanced Accuracy': balanced_accuracy_score(y_test, y_pred_new),\n",
        "    'F1 Score': f1_score(y_test, y_pred_new),\n",
        "    'Recall': recall_score(y_test, y_pred_new),\n",
        "    'Precision': precision_score(y_test, y_pred_new),\n",
        "    'PR AUC': average_precision_score(y_test, grid_svm_new.best_estimator_.decision_function(X_test))\n",
        "}\n",
        "\n",
        "# 4. Mostrar resultados\n",
        "df_comp = pd.DataFrame([metrics_old, metrics_new], index=['Sin nuevas variables', 'Con nuevas variables'])\n",
        "print(\"Comparación de métricas SVM-RBF (GridSearch):\")\n",
        "print(df_comp)"
      ]
    },
    {
      "cell_type": "code",
      "execution_count": 44,
      "metadata": {},
      "outputs": [
        {
          "name": "stdout",
          "output_type": "stream",
          "text": [
            "                      Balanced Accuracy  F1 Score    Recall  Precision  \\\n",
            "Sin nuevas variables           0.756024  0.630344  0.770492   0.533333   \n",
            "Con nuevas variables           0.752403  0.625941  0.766393   0.528996   \n",
            "\n",
            "                        PR AUC  \n",
            "Sin nuevas variables  0.643403  \n",
            "Con nuevas variables  0.644507  \n"
          ]
        },
        {
          "data": {
            "image/png": "[encoded data removed]",
            "text/plain": [
              "<Figure size 1000x600 with 1 Axes>"
            ]
          },
          "metadata": {},
          "output_type": "display_data"
        }
      ],
      "source": [
        "import pandas as pd\n",
        "import matplotlib.pyplot as plt\n",
        "\n",
        "# Supone que ya corriste ambos entrenamientos y tenés las métricas:\n",
        "# balanced_acc_final, f1_final, recall_final, precision_final, pr_auc_final (sin nuevas variables)\n",
        "# balanced_acc, f1, recall, precision, pr_auc (con nuevas variables)\n",
        "\n",
        "# Guardá las métricas en diccionarios\n",
        "metricas_sin_nuevas = {\n",
        "    'Balanced Accuracy': balanced_acc_final,\n",
        "    'F1 Score': f1_final,\n",
        "    'Recall': recall_final,\n",
        "    'Precision': precision_final,\n",
        "    'PR AUC': pr_auc_final\n",
        "}\n",
        "\n",
        "metricas_con_nuevas = {\n",
        "    'Balanced Accuracy': balanced_acc,\n",
        "    'F1 Score': f1,\n",
        "    'Recall': recall,\n",
        "    'Precision': precision,\n",
        "    'PR AUC': pr_auc\n",
        "}\n",
        "\n",
        "# Crear DataFrame comparativo\n",
        "df_comp = pd.DataFrame([metricas_sin_nuevas, metricas_con_nuevas], \n",
        "                       index=['Sin nuevas variables', 'Con nuevas variables'])\n",
        "print(df_comp)\n",
        "\n",
        "# Gráfico comparativo\n",
        "df_comp.T.plot(kind='bar', figsize=(10,6))\n",
        "plt.title('Comparación de métricas: SVM-RBF GridSearch')\n",
        "plt.ylabel('Valor')\n",
        "plt.xticks(rotation=45)\n",
        "plt.legend(title='Modelo')\n",
        "plt.grid(axis='y', linestyle='--', alpha=0.6)\n",
        "plt.tight_layout()\n",
        "plt.show()"
      ]
    },
    {
      "cell_type": "code",
      "execution_count": 45,
      "metadata": {},
      "outputs": [
        {
          "name": "stdout",
          "output_type": "stream",
          "text": [
            "Archivo guardado: comparacion_metricas_svm_gridsearch.pkl\n"
          ]
        }
      ],
      "source": [
        "# ...existing code...\n",
        "\n",
        "# Guardar el DataFrame comparativo en un archivo pickle\n",
        "df_comp.to_pickle(\"comparacion_metricas_svm_gridsearch.pkl\")\n",
        "print(\"Archivo guardado: comparacion_metricas_svm_gridsearch.pkl\")\n",
        "# ...existing code..."
      ]
    },
    {
      "cell_type": "code",
      "execution_count": null,
      "metadata": {},
      "outputs": [],
      "source": [
        "#"
      ]
    },
    {
      "cell_type": "code",
      "execution_count": null,
      "metadata": {},
      "outputs": [],
      "source": []
    },
    {
      "cell_type": "code",
      "execution_count": null,
      "metadata": {},
      "outputs": [],
      "source": []
    },
    {
      "cell_type": "code",
      "execution_count": null,
      "metadata": {},
      "outputs": [],
      "source": []
    },
    {
      "cell_type": "code",
      "execution_count": null,
      "metadata": {},
      "outputs": [],
      "source": []
    },
    {
      "cell_type": "markdown",
      "metadata": {},
      "source": [
        "# ENTRE"
      ]
    },
    {
      "cell_type": "code",
      "execution_count": 7,
      "metadata": {},
      "outputs": [
        {
          "name": "stderr",
          "output_type": "stream",
          "text": [
            "C:\\Users\\Leo\\AppData\\Local\\Temp\\ipykernel_15268\\2070991846.py:32: FutureWarning: Downcasting behavior in `replace` is deprecated and will be removed in a future version. To retain the old behavior, explicitly call `result.infer_objects(copy=False)`. To opt-in to the future behavior, set `pd.set_option('future.no_silent_downcasting', True)`\n",
            "  df_mod_5['gender'] = df_mod_5['gender'].replace({'Male': 1, 'Female': 0})\n",
            "C:\\Users\\Leo\\AppData\\Local\\Temp\\ipykernel_15268\\2070991846.py:36: FutureWarning: Downcasting behavior in `replace` is deprecated and will be removed in a future version. To retain the old behavior, explicitly call `result.infer_objects(copy=False)`. To opt-in to the future behavior, set `pd.set_option('future.no_silent_downcasting', True)`\n",
            "  df_mod_5[binary_cols] = df_mod_5[binary_cols].replace({'Yes': 1, 'No': 0})\n"
          ]
        }
      ],
      "source": [
        "df_mod_1 = df_mod.copy()\n",
        "df_mod_1['HasMultipleLines'] = ((df_mod_1['PhoneService'] == 1) & (df_mod_1['MultipleLines'] == 'Yes')).astype(int)\n",
        "df_mod_1.drop(columns='MultipleLines', inplace=True)\n",
        "df_mod_2 = df_mod_1.copy()\n",
        "# Lista de columnas relacionadas con servicios que dependen de tener Internet\n",
        "internet_services = [\n",
        "    'OnlineSecurity', 'OnlineBackup', 'DeviceProtection',\n",
        "    'TechSupport', 'StreamingTV', 'StreamingMovies'\n",
        "]\n",
        "\n",
        "# Creamos nuevas variables binarias\n",
        "for col in internet_services:\n",
        "    new_col = 'Has' + col  # Ej: 'HasOnlineSecurity'\n",
        "    df_mod_2[new_col] = ((df_mod_2['InternetService'] != 'No') & (df_mod_2[col] == 'Yes')).astype(int)\n",
        "\n",
        "# Eliminamos columnas originales\n",
        "df_mod_2.drop(columns=internet_services, inplace=True)\n",
        "# Transformamos variables categóricas de 3 o más opciones con el método dummy coding.\n",
        "df_mod_3 = df_mod_2.copy()\n",
        "\n",
        "# Lista de columnas categóricas a codificar\n",
        "categorical_cols = ['InternetService', 'Contract', 'PaymentMethod']\n",
        "\n",
        "# Aplicamos One-Hot Encoding\n",
        "df_mod_3 = pd.get_dummies(df_mod_3, columns=categorical_cols, drop_first=True)\n",
        "# Todas las nuevas columnas creadas por el dummy coding son booleanas, las transformamos a numéricas\n",
        "df_mod_4 = df_mod_3.copy()\n",
        "bool_cols = df_mod_4.select_dtypes(include='bool').columns\n",
        "df_mod_4[bool_cols] = df_mod_4[bool_cols].astype(int)\n",
        "# Reemplazo específico para 'gender'\n",
        "df_mod_5 = df_mod_4.copy()\n",
        "df_mod_5['gender'] = df_mod_5['gender'].replace({'Male': 1, 'Female': 0})\n",
        "\n",
        "# Otras variables categóricas binarias (Yes/No)\n",
        "binary_cols = ['Partner', 'Dependents', 'PhoneService', 'PaperlessBilling','Churn']\n",
        "df_mod_5[binary_cols] = df_mod_5[binary_cols].replace({'Yes': 1, 'No': 0})\n",
        "\n",
        "# Eliminamos costumerID\n",
        "df_final = df_mod_5.copy()\n",
        "df_final.drop(columns='customerID', inplace=True)"
      ]
    },
    {
      "cell_type": "code",
      "execution_count": 8,
      "metadata": {},
      "outputs": [],
      "source": [
        "# División de los datos en train y test\n",
        "# ==============================================================================\n",
        "X_train, X_test, y_train, y_test = train_test_split(\n",
        "                                        df_final.drop(columns = 'Churn'),\n",
        "                                        df_final['Churn'],\n",
        "                                        random_state = 22\n",
        "                                    )"
      ]
    },
    {
      "cell_type": "code",
      "execution_count": 9,
      "metadata": {},
      "outputs": [],
      "source": [
        "# Variables a escalar\n",
        "cols_to_scale = ['tenure', 'MonthlyCharges', 'TotalCharges']\n",
        "\n",
        "# Inicializamos el escalador\n",
        "scaler = StandardScaler()\n",
        "\n",
        "# Ajustamos el escalador solo con datos de entrenamiento\n",
        "X_train_scaled = X_train.copy()\n",
        "X_test_scaled = X_test.copy()\n",
        "\n",
        "X_train_scaled[cols_to_scale] = scaler.fit_transform(X_train[cols_to_scale])\n",
        "X_test_scaled[cols_to_scale] = scaler.transform(X_test[cols_to_scale])"
      ]
    },
    {
      "cell_type": "code",
      "execution_count": 11,
      "metadata": {},
      "outputs": [],
      "source": [
        "import pandas as pd\n",
        "import numpy as np\n",
        "from sklearn.svm import SVC\n",
        "from sklearn.model_selection import GridSearchCV, RandomizedSearchCV, train_test_split\n",
        "from sklearn.metrics import balanced_accuracy_score, precision_score, recall_score, f1_score\n",
        "from sklearn.datasets import make_classification"
      ]
    },
    {
      "cell_type": "code",
      "execution_count": 12,
      "metadata": {},
      "outputs": [
        {
          "data": {
            "text/html": [
              "<style>#sk-container-id-1 {\n",
              "  /* Definition of color scheme common for light and dark mode */\n",
              "  --sklearn-color-text: #000;\n",
              "  --sklearn-color-text-muted: #666;\n",
              "  --sklearn-color-line: gray;\n",
              "  /* Definition of color scheme for unfitted estimators */\n",
              "  --sklearn-color-unfitted-level-0: #fff5e6;\n",
              "  --sklearn-color-unfitted-level-1: #f6e4d2;\n",
              "  --sklearn-color-unfitted-level-2: #ffe0b3;\n",
              "  --sklearn-color-unfitted-level-3: chocolate;\n",
              "  /* Definition of color scheme for fitted estimators */\n",
              "  --sklearn-color-fitted-level-0: #f0f8ff;\n",
              "  --sklearn-color-fitted-level-1: #d4ebff;\n",
              "  --sklearn-color-fitted-level-2: #b3dbfd;\n",
              "  --sklearn-color-fitted-level-3: cornflowerblue;\n",
              "\n",
              "  /* Specific color for light theme */\n",
              "  --sklearn-color-text-on-default-background: var(--sg-text-color, var(--theme-code-foreground, var(--jp-content-font-color1, black)));\n",
              "  --sklearn-color-background: var(--sg-background-color, var(--theme-background, var(--jp-layout-color0, white)));\n",
              "  --sklearn-color-border-box: var(--sg-text-color, var(--theme-code-foreground, var(--jp-content-font-color1, black)));\n",
              "  --sklearn-color-icon: #696969;\n",
              "\n",
              "  @media (prefers-color-scheme: dark) {\n",
              "    /* Redefinition of color scheme for dark theme */\n",
              "    --sklearn-color-text-on-default-background: var(--sg-text-color, var(--theme-code-foreground, var(--jp-content-font-color1, white)));\n",
              "    --sklearn-color-background: var(--sg-background-color, var(--theme-background, var(--jp-layout-color0, #111)));\n",
              "    --sklearn-color-border-box: var(--sg-text-color, var(--theme-code-foreground, var(--jp-content-font-color1, white)));\n",
              "    --sklearn-color-icon: #878787;\n",
              "  }\n",
              "}\n",
              "\n",
              "#sk-container-id-1 {\n",
              "  color: var(--sklearn-color-text);\n",
              "}\n",
              "\n",
              "#sk-container-id-1 pre {\n",
              "  padding: 0;\n",
              "}\n",
              "\n",
              "#sk-container-id-1 input.sk-hidden--visually {\n",
              "  border: 0;\n",
              "  clip: rect(1px 1px 1px 1px);\n",
              "  clip: rect(1px, 1px, 1px, 1px);\n",
              "  height: 1px;\n",
              "  margin: -1px;\n",
              "  overflow: hidden;\n",
              "  padding: 0;\n",
              "  position: absolute;\n",
              "  width: 1px;\n",
              "}\n",
              "\n",
              "#sk-container-id-1 div.sk-dashed-wrapped {\n",
              "  border: 1px dashed var(--sklearn-color-line);\n",
              "  margin: 0 0.4em 0.5em 0.4em;\n",
              "  box-sizing: border-box;\n",
              "  padding-bottom: 0.4em;\n",
              "  background-color: var(--sklearn-color-background);\n",
              "}\n",
              "\n",
              "#sk-container-id-1 div.sk-container {\n",
              "  /* jupyter's `normalize.less` sets `[hidden] { display: none; }`\n",
              "     but bootstrap.min.css set `[hidden] { display: none !important; }`\n",
              "     so we also need the `!important` here to be able to override the\n",
              "     default hidden behavior on the sphinx rendered scikit-learn.org.\n",
              "     See: https://github.com/scikit-learn/scikit-learn/issues/21755 */\n",
              "  display: inline-block !important;\n",
              "  position: relative;\n",
              "}\n",
              "\n",
              "#sk-container-id-1 div.sk-text-repr-fallback {\n",
              "  display: none;\n",
              "}\n",
              "\n",
              "div.sk-parallel-item,\n",
              "div.sk-serial,\n",
              "div.sk-item {\n",
              "  /* draw centered vertical line to link estimators */\n",
              "  background-image: linear-gradient(var(--sklearn-color-text-on-default-background), var(--sklearn-color-text-on-default-background));\n",
              "  background-size: 2px 100%;\n",
              "  background-repeat: no-repeat;\n",
              "  background-position: center center;\n",
              "}\n",
              "\n",
              "/* Parallel-specific style estimator block */\n",
              "\n",
              "#sk-container-id-1 div.sk-parallel-item::after {\n",
              "  content: \"\";\n",
              "  width: 100%;\n",
              "  border-bottom: 2px solid var(--sklearn-color-text-on-default-background);\n",
              "  flex-grow: 1;\n",
              "}\n",
              "\n",
              "#sk-container-id-1 div.sk-parallel {\n",
              "  display: flex;\n",
              "  align-items: stretch;\n",
              "  justify-content: center;\n",
              "  background-color: var(--sklearn-color-background);\n",
              "  position: relative;\n",
              "}\n",
              "\n",
              "#sk-container-id-1 div.sk-parallel-item {\n",
              "  display: flex;\n",
              "  flex-direction: column;\n",
              "}\n",
              "\n",
              "#sk-container-id-1 div.sk-parallel-item:first-child::after {\n",
              "  align-self: flex-end;\n",
              "  width: 50%;\n",
              "}\n",
              "\n",
              "#sk-container-id-1 div.sk-parallel-item:last-child::after {\n",
              "  align-self: flex-start;\n",
              "  width: 50%;\n",
              "}\n",
              "\n",
              "#sk-container-id-1 div.sk-parallel-item:only-child::after {\n",
              "  width: 0;\n",
              "}\n",
              "\n",
              "/* Serial-specific style estimator block */\n",
              "\n",
              "#sk-container-id-1 div.sk-serial {\n",
              "  display: flex;\n",
              "  flex-direction: column;\n",
              "  align-items: center;\n",
              "  background-color: var(--sklearn-color-background);\n",
              "  padding-right: 1em;\n",
              "  padding-left: 1em;\n",
              "}\n",
              "\n",
              "\n",
              "/* Toggleable style: style used for estimator/Pipeline/ColumnTransformer box that is\n",
              "clickable and can be expanded/collapsed.\n",
              "- Pipeline and ColumnTransformer use this feature and define the default style\n",
              "- Estimators will overwrite some part of the style using the `sk-estimator` class\n",
              "*/\n",
              "\n",
              "/* Pipeline and ColumnTransformer style (default) */\n",
              "\n",
              "#sk-container-id-1 div.sk-toggleable {\n",
              "  /* Default theme specific background. It is overwritten whether we have a\n",
              "  specific estimator or a Pipeline/ColumnTransformer */\n",
              "  background-color: var(--sklearn-color-background);\n",
              "}\n",
              "\n",
              "/* Toggleable label */\n",
              "#sk-container-id-1 label.sk-toggleable__label {\n",
              "  cursor: pointer;\n",
              "  display: flex;\n",
              "  width: 100%;\n",
              "  margin-bottom: 0;\n",
              "  padding: 0.5em;\n",
              "  box-sizing: border-box;\n",
              "  text-align: center;\n",
              "  align-items: start;\n",
              "  justify-content: space-between;\n",
              "  gap: 0.5em;\n",
              "}\n",
              "\n",
              "#sk-container-id-1 label.sk-toggleable__label .caption {\n",
              "  font-size: 0.6rem;\n",
              "  font-weight: lighter;\n",
              "  color: var(--sklearn-color-text-muted);\n",
              "}\n",
              "\n",
              "#sk-container-id-1 label.sk-toggleable__label-arrow:before {\n",
              "  /* Arrow on the left of the label */\n",
              "  content: \"▸\";\n",
              "  float: left;\n",
              "  margin-right: 0.25em;\n",
              "  color: var(--sklearn-color-icon);\n",
              "}\n",
              "\n",
              "#sk-container-id-1 label.sk-toggleable__label-arrow:hover:before {\n",
              "  color: var(--sklearn-color-text);\n",
              "}\n",
              "\n",
              "/* Toggleable content - dropdown */\n",
              "\n",
              "#sk-container-id-1 div.sk-toggleable__content {\n",
              "  max-height: 0;\n",
              "  max-width: 0;\n",
              "  overflow: hidden;\n",
              "  text-align: left;\n",
              "  /* unfitted */\n",
              "  background-color: var(--sklearn-color-unfitted-level-0);\n",
              "}\n",
              "\n",
              "#sk-container-id-1 div.sk-toggleable__content.fitted {\n",
              "  /* fitted */\n",
              "  background-color: var(--sklearn-color-fitted-level-0);\n",
              "}\n",
              "\n",
              "#sk-container-id-1 div.sk-toggleable__content pre {\n",
              "  margin: 0.2em;\n",
              "  border-radius: 0.25em;\n",
              "  color: var(--sklearn-color-text);\n",
              "  /* unfitted */\n",
              "  background-color: var(--sklearn-color-unfitted-level-0);\n",
              "}\n",
              "\n",
              "#sk-container-id-1 div.sk-toggleable__content.fitted pre {\n",
              "  /* unfitted */\n",
              "  background-color: var(--sklearn-color-fitted-level-0);\n",
              "}\n",
              "\n",
              "#sk-container-id-1 input.sk-toggleable__control:checked~div.sk-toggleable__content {\n",
              "  /* Expand drop-down */\n",
              "  max-height: 200px;\n",
              "  max-width: 100%;\n",
              "  overflow: auto;\n",
              "}\n",
              "\n",
              "#sk-container-id-1 input.sk-toggleable__control:checked~label.sk-toggleable__label-arrow:before {\n",
              "  content: \"▾\";\n",
              "}\n",
              "\n",
              "/* Pipeline/ColumnTransformer-specific style */\n",
              "\n",
              "#sk-container-id-1 div.sk-label input.sk-toggleable__control:checked~label.sk-toggleable__label {\n",
              "  color: var(--sklearn-color-text);\n",
              "  background-color: var(--sklearn-color-unfitted-level-2);\n",
              "}\n",
              "\n",
              "#sk-container-id-1 div.sk-label.fitted input.sk-toggleable__control:checked~label.sk-toggleable__label {\n",
              "  background-color: var(--sklearn-color-fitted-level-2);\n",
              "}\n",
              "\n",
              "/* Estimator-specific style */\n",
              "\n",
              "/* Colorize estimator box */\n",
              "#sk-container-id-1 div.sk-estimator input.sk-toggleable__control:checked~label.sk-toggleable__label {\n",
              "  /* unfitted */\n",
              "  background-color: var(--sklearn-color-unfitted-level-2);\n",
              "}\n",
              "\n",
              "#sk-container-id-1 div.sk-estimator.fitted input.sk-toggleable__control:checked~label.sk-toggleable__label {\n",
              "  /* fitted */\n",
              "  background-color: var(--sklearn-color-fitted-level-2);\n",
              "}\n",
              "\n",
              "#sk-container-id-1 div.sk-label label.sk-toggleable__label,\n",
              "#sk-container-id-1 div.sk-label label {\n",
              "  /* The background is the default theme color */\n",
              "  color: var(--sklearn-color-text-on-default-background);\n",
              "}\n",
              "\n",
              "/* On hover, darken the color of the background */\n",
              "#sk-container-id-1 div.sk-label:hover label.sk-toggleable__label {\n",
              "  color: var(--sklearn-color-text);\n",
              "  background-color: var(--sklearn-color-unfitted-level-2);\n",
              "}\n",
              "\n",
              "/* Label box, darken color on hover, fitted */\n",
              "#sk-container-id-1 div.sk-label.fitted:hover label.sk-toggleable__label.fitted {\n",
              "  color: var(--sklearn-color-text);\n",
              "  background-color: var(--sklearn-color-fitted-level-2);\n",
              "}\n",
              "\n",
              "/* Estimator label */\n",
              "\n",
              "#sk-container-id-1 div.sk-label label {\n",
              "  font-family: monospace;\n",
              "  font-weight: bold;\n",
              "  display: inline-block;\n",
              "  line-height: 1.2em;\n",
              "}\n",
              "\n",
              "#sk-container-id-1 div.sk-label-container {\n",
              "  text-align: center;\n",
              "}\n",
              "\n",
              "/* Estimator-specific */\n",
              "#sk-container-id-1 div.sk-estimator {\n",
              "  font-family: monospace;\n",
              "  border: 1px dotted var(--sklearn-color-border-box);\n",
              "  border-radius: 0.25em;\n",
              "  box-sizing: border-box;\n",
              "  margin-bottom: 0.5em;\n",
              "  /* unfitted */\n",
              "  background-color: var(--sklearn-color-unfitted-level-0);\n",
              "}\n",
              "\n",
              "#sk-container-id-1 div.sk-estimator.fitted {\n",
              "  /* fitted */\n",
              "  background-color: var(--sklearn-color-fitted-level-0);\n",
              "}\n",
              "\n",
              "/* on hover */\n",
              "#sk-container-id-1 div.sk-estimator:hover {\n",
              "  /* unfitted */\n",
              "  background-color: var(--sklearn-color-unfitted-level-2);\n",
              "}\n",
              "\n",
              "#sk-container-id-1 div.sk-estimator.fitted:hover {\n",
              "  /* fitted */\n",
              "  background-color: var(--sklearn-color-fitted-level-2);\n",
              "}\n",
              "\n",
              "/* Specification for estimator info (e.g. \"i\" and \"?\") */\n",
              "\n",
              "/* Common style for \"i\" and \"?\" */\n",
              "\n",
              ".sk-estimator-doc-link,\n",
              "a:link.sk-estimator-doc-link,\n",
              "a:visited.sk-estimator-doc-link {\n",
              "  float: right;\n",
              "  font-size: smaller;\n",
              "  line-height: 1em;\n",
              "  font-family: monospace;\n",
              "  background-color: var(--sklearn-color-background);\n",
              "  border-radius: 1em;\n",
              "  height: 1em;\n",
              "  width: 1em;\n",
              "  text-decoration: none !important;\n",
              "  margin-left: 0.5em;\n",
              "  text-align: center;\n",
              "  /* unfitted */\n",
              "  border: var(--sklearn-color-unfitted-level-1) 1pt solid;\n",
              "  color: var(--sklearn-color-unfitted-level-1);\n",
              "}\n",
              "\n",
              ".sk-estimator-doc-link.fitted,\n",
              "a:link.sk-estimator-doc-link.fitted,\n",
              "a:visited.sk-estimator-doc-link.fitted {\n",
              "  /* fitted */\n",
              "  border: var(--sklearn-color-fitted-level-1) 1pt solid;\n",
              "  color: var(--sklearn-color-fitted-level-1);\n",
              "}\n",
              "\n",
              "/* On hover */\n",
              "div.sk-estimator:hover .sk-estimator-doc-link:hover,\n",
              ".sk-estimator-doc-link:hover,\n",
              "div.sk-label-container:hover .sk-estimator-doc-link:hover,\n",
              ".sk-estimator-doc-link:hover {\n",
              "  /* unfitted */\n",
              "  background-color: var(--sklearn-color-unfitted-level-3);\n",
              "  color: var(--sklearn-color-background);\n",
              "  text-decoration: none;\n",
              "}\n",
              "\n",
              "div.sk-estimator.fitted:hover .sk-estimator-doc-link.fitted:hover,\n",
              ".sk-estimator-doc-link.fitted:hover,\n",
              "div.sk-label-container:hover .sk-estimator-doc-link.fitted:hover,\n",
              ".sk-estimator-doc-link.fitted:hover {\n",
              "  /* fitted */\n",
              "  background-color: var(--sklearn-color-fitted-level-3);\n",
              "  color: var(--sklearn-color-background);\n",
              "  text-decoration: none;\n",
              "}\n",
              "\n",
              "/* Span, style for the box shown on hovering the info icon */\n",
              ".sk-estimator-doc-link span {\n",
              "  display: none;\n",
              "  z-index: 9999;\n",
              "  position: relative;\n",
              "  font-weight: normal;\n",
              "  right: .2ex;\n",
              "  padding: .5ex;\n",
              "  margin: .5ex;\n",
              "  width: min-content;\n",
              "  min-width: 20ex;\n",
              "  max-width: 50ex;\n",
              "  color: var(--sklearn-color-text);\n",
              "  box-shadow: 2pt 2pt 4pt #999;\n",
              "  /* unfitted */\n",
              "  background: var(--sklearn-color-unfitted-level-0);\n",
              "  border: .5pt solid var(--sklearn-color-unfitted-level-3);\n",
              "}\n",
              "\n",
              ".sk-estimator-doc-link.fitted span {\n",
              "  /* fitted */\n",
              "  background: var(--sklearn-color-fitted-level-0);\n",
              "  border: var(--sklearn-color-fitted-level-3);\n",
              "}\n",
              "\n",
              ".sk-estimator-doc-link:hover span {\n",
              "  display: block;\n",
              "}\n",
              "\n",
              "/* \"?\"-specific style due to the `<a>` HTML tag */\n",
              "\n",
              "#sk-container-id-1 a.estimator_doc_link {\n",
              "  float: right;\n",
              "  font-size: 1rem;\n",
              "  line-height: 1em;\n",
              "  font-family: monospace;\n",
              "  background-color: var(--sklearn-color-background);\n",
              "  border-radius: 1rem;\n",
              "  height: 1rem;\n",
              "  width: 1rem;\n",
              "  text-decoration: none;\n",
              "  /* unfitted */\n",
              "  color: var(--sklearn-color-unfitted-level-1);\n",
              "  border: var(--sklearn-color-unfitted-level-1) 1pt solid;\n",
              "}\n",
              "\n",
              "#sk-container-id-1 a.estimator_doc_link.fitted {\n",
              "  /* fitted */\n",
              "  border: var(--sklearn-color-fitted-level-1) 1pt solid;\n",
              "  color: var(--sklearn-color-fitted-level-1);\n",
              "}\n",
              "\n",
              "/* On hover */\n",
              "#sk-container-id-1 a.estimator_doc_link:hover {\n",
              "  /* unfitted */\n",
              "  background-color: var(--sklearn-color-unfitted-level-3);\n",
              "  color: var(--sklearn-color-background);\n",
              "  text-decoration: none;\n",
              "}\n",
              "\n",
              "#sk-container-id-1 a.estimator_doc_link.fitted:hover {\n",
              "  /* fitted */\n",
              "  background-color: var(--sklearn-color-fitted-level-3);\n",
              "}\n",
              "</style><div id=\"sk-container-id-1\" class=\"sk-top-container\"><div class=\"sk-text-repr-fallback\"><pre>RandomizedSearchCV(cv=5, estimator=SVC(), n_jobs=-1,\n",
              "                   param_distributions={&#x27;C&#x27;: [0.1, 1, 10, 100, 1000],\n",
              "                                        &#x27;class_weight&#x27;: [&#x27;balanced&#x27;],\n",
              "                                        &#x27;gamma&#x27;: [0.0001, 0.001, 0.01, 0.1, 1]},\n",
              "                   random_state=42, scoring=&#x27;balanced_accuracy&#x27;)</pre><b>In a Jupyter environment, please rerun this cell to show the HTML representation or trust the notebook. <br />On GitHub, the HTML representation is unable to render, please try loading this page with nbviewer.org.</b></div><div class=\"sk-container\" hidden><div class=\"sk-item sk-dashed-wrapped\"><div class=\"sk-label-container\"><div class=\"sk-label fitted sk-toggleable\"><input class=\"sk-toggleable__control sk-hidden--visually\" id=\"sk-estimator-id-1\" type=\"checkbox\" ><label for=\"sk-estimator-id-1\" class=\"sk-toggleable__label fitted sk-toggleable__label-arrow\"><div><div>RandomizedSearchCV</div></div><div><a class=\"sk-estimator-doc-link fitted\" rel=\"noreferrer\" target=\"_blank\" href=\"https://scikit-learn.org/1.6/modules/generated/sklearn.model_selection.RandomizedSearchCV.html\">?<span>Documentation for RandomizedSearchCV</span></a><span class=\"sk-estimator-doc-link fitted\">i<span>Fitted</span></span></div></label><div class=\"sk-toggleable__content fitted\"><pre>RandomizedSearchCV(cv=5, estimator=SVC(), n_jobs=-1,\n",
              "                   param_distributions={&#x27;C&#x27;: [0.1, 1, 10, 100, 1000],\n",
              "                                        &#x27;class_weight&#x27;: [&#x27;balanced&#x27;],\n",
              "                                        &#x27;gamma&#x27;: [0.0001, 0.001, 0.01, 0.1, 1]},\n",
              "                   random_state=42, scoring=&#x27;balanced_accuracy&#x27;)</pre></div> </div></div><div class=\"sk-parallel\"><div class=\"sk-parallel-item\"><div class=\"sk-item\"><div class=\"sk-label-container\"><div class=\"sk-label fitted sk-toggleable\"><input class=\"sk-toggleable__control sk-hidden--visually\" id=\"sk-estimator-id-2\" type=\"checkbox\" ><label for=\"sk-estimator-id-2\" class=\"sk-toggleable__label fitted sk-toggleable__label-arrow\"><div><div>best_estimator_: SVC</div></div></label><div class=\"sk-toggleable__content fitted\"><pre>SVC(C=1, class_weight=&#x27;balanced&#x27;, gamma=0.1)</pre></div> </div></div><div class=\"sk-serial\"><div class=\"sk-item\"><div class=\"sk-estimator fitted sk-toggleable\"><input class=\"sk-toggleable__control sk-hidden--visually\" id=\"sk-estimator-id-3\" type=\"checkbox\" ><label for=\"sk-estimator-id-3\" class=\"sk-toggleable__label fitted sk-toggleable__label-arrow\"><div><div>SVC</div></div><div><a class=\"sk-estimator-doc-link fitted\" rel=\"noreferrer\" target=\"_blank\" href=\"https://scikit-learn.org/1.6/modules/generated/sklearn.svm.SVC.html\">?<span>Documentation for SVC</span></a></div></label><div class=\"sk-toggleable__content fitted\"><pre>SVC(C=1, class_weight=&#x27;balanced&#x27;, gamma=0.1)</pre></div> </div></div></div></div></div></div></div></div></div>"
            ],
            "text/plain": [
              "RandomizedSearchCV(cv=5, estimator=SVC(), n_jobs=-1,\n",
              "                   param_distributions={'C': [0.1, 1, 10, 100, 1000],\n",
              "                                        'class_weight': ['balanced'],\n",
              "                                        'gamma': [0.0001, 0.001, 0.01, 0.1, 1]},\n",
              "                   random_state=42, scoring='balanced_accuracy')"
            ]
          },
          "execution_count": 12,
          "metadata": {},
          "output_type": "execute_result"
        }
      ],
      "source": [
        "# Hiperparámetros para Grid Search\n",
        "param_grid = {\n",
        "    'C': [0.1, 1, 10, 100],\n",
        "    'gamma': [0.001, 0.01, 0.1, 1],\n",
        "    'class_weight': ['balanced']\n",
        "}\n",
        "\n",
        "# Hiperparámetros para Randomized Search\n",
        "param_distributions = {\n",
        "    'C': [0.1, 1, 10, 100, 1000],\n",
        "    'gamma': [0.0001, 0.001, 0.01, 0.1, 1],\n",
        "    'class_weight': ['balanced']\n",
        "}\n",
        "\n",
        "# Inicializamos el clasificador\n",
        "svm = SVC(kernel='rbf')\n",
        "\n",
        "# Grid Search con CV\n",
        "grid_search = GridSearchCV(\n",
        "    svm, param_grid, scoring='balanced_accuracy', cv=5, n_jobs=-1\n",
        ")\n",
        "grid_search.fit(X_train_scaled, y_train)\n",
        "\n",
        "# Randomized Search con CV\n",
        "random_search = RandomizedSearchCV(\n",
        "    svm, param_distributions, scoring='balanced_accuracy', cv=5,\n",
        "    n_iter=10, n_jobs=-1, random_state=42\n",
        ")\n",
        "random_search.fit(X_train_scaled, y_train)"
      ]
    },
    {
      "cell_type": "code",
      "execution_count": 13,
      "metadata": {},
      "outputs": [
        {
          "name": "stdout",
          "output_type": "stream",
          "text": [
            "        Tuning Method                                        Best Params  \\\n",
            "0        GridSearchCV  {'C': 0.1, 'class_weight': 'balanced', 'gamma'...   \n",
            "1  RandomizedSearchCV  {'gamma': 0.1, 'class_weight': 'balanced', 'C'...   \n",
            "\n",
            "   Balanced Accuracy  Precision    Recall  F1 Score  \n",
            "0           0.746667   0.512445  0.751073  0.609225  \n",
            "1           0.758698   0.530735  0.759657  0.624890  \n"
          ]
        }
      ],
      "source": [
        "# Evaluación en test\n",
        "def evaluate_model(model, name):\n",
        "    y_pred = model.predict(X_test_scaled)\n",
        "    return {\n",
        "        'Tuning Method': name,\n",
        "        'Best Params': model.best_params_,\n",
        "        'Balanced Accuracy': balanced_accuracy_score(y_test, y_pred),\n",
        "        'Precision': precision_score(y_test, y_pred),\n",
        "        'Recall': recall_score(y_test, y_pred),\n",
        "        'F1 Score': f1_score(y_test, y_pred)\n",
        "    }\n",
        "\n",
        "# Resultados\n",
        "results = [\n",
        "    evaluate_model(grid_search, 'GridSearchCV'),\n",
        "    evaluate_model(random_search, 'RandomizedSearchCV')\n",
        "]\n",
        "\n",
        "# Mostrar resultados en un DataFrame\n",
        "results_df = pd.DataFrame(results)\n",
        "print(results_df)"
      ]
    }
  ],
  "metadata": {
    "colab": {
      "collapsed_sections": [
        "FjepC8AdtgaQ",
        "z7UdAb4CqhrF"
      ],
      "provenance": []
    },
    "kernelspec": {
      "display_name": "mi_entorno",
      "language": "python",
      "name": "python3"
    },
    "language_info": {
      "codemirror_mode": {
        "name": "ipython",
        "version": 3
      },
      "file_extension": ".py",
      "mimetype": "text/x-python",
      "name": "python",
      "nbconvert_exporter": "python",
      "pygments_lexer": "ipython3",
      "version": "3.13.2"
    }
  },
  "nbformat": 4,
  "nbformat_minor": 0
}
